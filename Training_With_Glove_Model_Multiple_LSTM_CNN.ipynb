{
  "nbformat": 4,
  "nbformat_minor": 0,
  "metadata": {
    "colab": {
      "name": "Training With Glove Model Multiple LSTM CNN.ipynb",
      "provenance": [],
      "collapsed_sections": [],
      "toc_visible": true,
      "machine_shape": "hm",
      "authorship_tag": "ABX9TyMpewm0+WMG68fAM+cN2V+1",
      "include_colab_link": true
    },
    "kernelspec": {
      "display_name": "Python 3",
      "name": "python3"
    },
    "language_info": {
      "name": "python"
    },
    "accelerator": "TPU"
  },
  "cells": [
    {
      "cell_type": "markdown",
      "metadata": {
        "id": "view-in-github",
        "colab_type": "text"
      },
      "source": [
        "<a href=\"https://colab.research.google.com/github/AIFahim/Bangla-News-Article-Classification/blob/master/Training_With_Glove_Model_Multiple_LSTM_CNN.ipynb\" target=\"_parent\"><img src=\"https://colab.research.google.com/assets/colab-badge.svg\" alt=\"Open In Colab\"/></a>"
      ]
    },
    {
      "cell_type": "markdown",
      "metadata": {
        "id": "99_wp8oiI8DF"
      },
      "source": [
        "## Google Drive Mount"
      ]
    },
    {
      "cell_type": "code",
      "metadata": {
        "colab": {
          "base_uri": "https://localhost:8080/"
        },
        "id": "gQV2mvIiJd9o",
        "outputId": "2a99d727-2bf5-4e8c-90c4-65237d882edb"
      },
      "source": [
        "from google.colab import drive\n",
        "drive.mount('/content/drive')"
      ],
      "execution_count": null,
      "outputs": [
        {
          "output_type": "stream",
          "name": "stdout",
          "text": [
            "Mounted at /content/drive\n"
          ]
        }
      ]
    },
    {
      "cell_type": "markdown",
      "metadata": {
        "id": "5wfRNh2knxbT"
      },
      "source": [
        "## Importing required Libraries"
      ]
    },
    {
      "cell_type": "code",
      "metadata": {
        "id": "25pWvw-4nuvi"
      },
      "source": [
        "import pandas as pd\n",
        "import matplotlib.pyplot as plt\n",
        "import seaborn as sns\n",
        "import numpy as np\n",
        "from nltk.corpus import stopwords\n",
        "from nltk.util import ngrams\n",
        "from sklearn.feature_extraction.text import CountVectorizer\n",
        "from collections import defaultdict\n",
        "from collections import  Counter\n",
        "plt.style.use('ggplot')\n",
        "import re\n",
        "from nltk.tokenize import word_tokenize\n",
        "import gensim\n",
        "import string\n",
        "\n",
        "from keras import backend as K\n",
        "from keras.preprocessing.text import Tokenizer\n",
        "from keras.preprocessing.sequence import pad_sequences\n",
        "from tqdm import tqdm\n",
        "from keras.models import Sequential\n",
        "from keras.layers import Embedding,LSTM,Dense,SpatialDropout1D,GRU\n",
        "from keras.initializers import Constant\n",
        "from sklearn.model_selection import train_test_split\n",
        "from sklearn.preprocessing import LabelEncoder\n",
        "from sklearn.metrics import confusion_matrix, f1_score\n",
        "# from keras.optimizers import Adam\n",
        "from tensorflow.keras.optimizers import Adam\n",
        "\n",
        "import plotly.express as px\n",
        "\n",
        "import zipfile\n",
        "\n",
        "\n",
        "\n",
        "import tensorflow.keras as keras \n",
        "import tensorflow as tf\n",
        "import tensorflow_hub as hub\n",
        "\n",
        "\n",
        "\n",
        "class color: # Text style\n",
        "   PURPLE = '\\033[95m'\n",
        "   CYAN = '\\033[96m'\n",
        "   DARKCYAN = '\\033[36m'\n",
        "   BLUE = '\\033[94m'\n",
        "   GREEN = '\\033[92m'\n",
        "   YELLOW = '\\033[93m'\n",
        "   RED = '\\033[91m'\n",
        "   BOLD = '\\033[1m'\n",
        "   UNDERLINE = '\\033[4m'\n",
        "   END = '\\033[0m'"
      ],
      "execution_count": null,
      "outputs": []
    },
    {
      "cell_type": "markdown",
      "metadata": {
        "id": "uzsI2cA9kcRe"
      },
      "source": [
        "## Loading the data and getting besic information about data"
      ]
    },
    {
      "cell_type": "code",
      "metadata": {
        "colab": {
          "base_uri": "https://localhost:8080/"
        },
        "id": "yofjm-ZQjf56",
        "outputId": "e4e6bc48-8c6b-4bee-a47c-2554daac5495"
      },
      "source": [
        "# Download Dataset\n",
        "!gdown --id 1boKJGs-XUWsxz6JocgU7wyhf8nSayr7k # train csv\n",
        "!gdown --id 1WLTPLk8oJ0XDduXnzLmxM3xwlChsgs81 # test csv\n",
        "!gdown --id 1-6MlDGVEZlLFQliVL6Hgxee1wnpi_yeG # full data csv after added new clean text column"
      ],
      "execution_count": null,
      "outputs": [
        {
          "output_type": "stream",
          "name": "stdout",
          "text": [
            "Downloading...\n",
            "From: https://drive.google.com/uc?id=1boKJGs-XUWsxz6JocgU7wyhf8nSayr7k\n",
            "To: /content/train.csv\n",
            "100% 859M/859M [00:06<00:00, 134MB/s] \n",
            "Downloading...\n",
            "From: https://drive.google.com/uc?id=1WLTPLk8oJ0XDduXnzLmxM3xwlChsgs81\n",
            "To: /content/test.csv\n",
            "100% 854M/854M [00:05<00:00, 159MB/s]\n",
            "Downloading...\n",
            "From: https://drive.google.com/uc?id=1-6MlDGVEZlLFQliVL6Hgxee1wnpi_yeG\n",
            "To: /content/fulldata.csv\n",
            "100% 2.39G/2.39G [00:17<00:00, 137MB/s]\n"
          ]
        }
      ]
    },
    {
      "cell_type": "code",
      "metadata": {
        "id": "06A_IYgdm3-D"
      },
      "source": [
        "train= pd.read_csv('/content/train.csv')\n",
        "test=pd.read_csv('/content/test.csv')\n",
        "fulldata = pd.read_csv(\"/content/fulldata.csv\")"
      ],
      "execution_count": null,
      "outputs": []
    },
    {
      "cell_type": "code",
      "metadata": {
        "colab": {
          "base_uri": "https://localhost:8080/",
          "height": 204
        },
        "id": "4Lfy6T2S2sqz",
        "outputId": "62c6ff67-b662-4f48-aefa-d8aa7191a417"
      },
      "source": [
        "fulldata.head()"
      ],
      "execution_count": null,
      "outputs": [
        {
          "output_type": "execute_result",
          "data": {
            "text/html": [
              "<div>\n",
              "<style scoped>\n",
              "    .dataframe tbody tr th:only-of-type {\n",
              "        vertical-align: middle;\n",
              "    }\n",
              "\n",
              "    .dataframe tbody tr th {\n",
              "        vertical-align: top;\n",
              "    }\n",
              "\n",
              "    .dataframe thead th {\n",
              "        text-align: right;\n",
              "    }\n",
              "</style>\n",
              "<table border=\"1\" class=\"dataframe\">\n",
              "  <thead>\n",
              "    <tr style=\"text-align: right;\">\n",
              "      <th></th>\n",
              "      <th>Unnamed: 0</th>\n",
              "      <th>category</th>\n",
              "      <th>text</th>\n",
              "      <th>cleanText</th>\n",
              "      <th>new_clean_text</th>\n",
              "    </tr>\n",
              "  </thead>\n",
              "  <tbody>\n",
              "    <tr>\n",
              "      <th>0</th>\n",
              "      <td>0</td>\n",
              "      <td>education</td>\n",
              "      <td>অধ্যায়-২প্রিয় পরীক্ষার্থী, আজ তথ্য ও যোগাযোগ প...</td>\n",
              "      <td>অধ্যায়    প্রিয়    পরীক্ষার্থী    তথ্য    যো...</td>\n",
              "      <td>অধ্যায় প্রিয় পরীক্ষার্থী তথ্য যোগাযোগ প্রযুক্ত...</td>\n",
              "    </tr>\n",
              "    <tr>\n",
              "      <th>1</th>\n",
              "      <td>1</td>\n",
              "      <td>sports</td>\n",
              "      <td>স্পিন, স্পিন, স্পিন। লর্ডসে ইয়াসির শাহ্‌র লেগ ...</td>\n",
              "      <td>স্পিন    স্পিন    স্পিন    লর্ডসে    ইয়াসির ...</td>\n",
              "      <td>স্পিন স্পিন স্পিন লর্ডসে ইয়াসির শাহ্ লেগ স্পিন...</td>\n",
              "    </tr>\n",
              "    <tr>\n",
              "      <th>2</th>\n",
              "      <td>2</td>\n",
              "      <td>international</td>\n",
              "      <td>সিরিয়ার উত্তর-পশ্চিমাঞ্চলে গতকাল রোববার বিমান...</td>\n",
              "      <td>সিরিয়ার    উত্তর    পশ্চিমাঞ্চলে    গতকাল  ...</td>\n",
              "      <td>সিরিয়ার পশ্চিমাঞ্চলে গতকাল রোববার বিমান হামলা...</td>\n",
              "    </tr>\n",
              "    <tr>\n",
              "      <th>3</th>\n",
              "      <td>3</td>\n",
              "      <td>international</td>\n",
              "      <td>দক্ষিণ আফ্রিকার কেপটাউন বিশ্ববিদ্যালয়ের (ইউসিট...</td>\n",
              "      <td>দক্ষিণ    আফ্রিকার    কেপটাউন    বিশ্ববিদ্যা...</td>\n",
              "      <td>দক্ষিণ আফ্রিকার কেপটাউন বিশ্ববিদ্যালয়ের ইউসিটি...</td>\n",
              "    </tr>\n",
              "    <tr>\n",
              "      <th>4</th>\n",
              "      <td>4</td>\n",
              "      <td>technology</td>\n",
              "      <td>সহজে ডিজিটাল আর্থিক সেবা দিতে অ্যাপ ও ডিজিটাল ...</td>\n",
              "      <td>সহজে    ডিজিটাল    আর্থিক    সেবা    অ্যাপ  ...</td>\n",
              "      <td>সহজে ডিজিটাল আর্থিক সেবা অ্যাপ ডিজিটাল কেওয়াইস...</td>\n",
              "    </tr>\n",
              "  </tbody>\n",
              "</table>\n",
              "</div>"
            ],
            "text/plain": [
              "   Unnamed: 0  ...                                     new_clean_text\n",
              "0           0  ...  অধ্যায় প্রিয় পরীক্ষার্থী তথ্য যোগাযোগ প্রযুক্ত...\n",
              "1           1  ...  স্পিন স্পিন স্পিন লর্ডসে ইয়াসির শাহ্ লেগ স্পিন...\n",
              "2           2  ...  সিরিয়ার পশ্চিমাঞ্চলে গতকাল রোববার বিমান হামলা...\n",
              "3           3  ...  দক্ষিণ আফ্রিকার কেপটাউন বিশ্ববিদ্যালয়ের ইউসিটি...\n",
              "4           4  ...  সহজে ডিজিটাল আর্থিক সেবা অ্যাপ ডিজিটাল কেওয়াইস...\n",
              "\n",
              "[5 rows x 5 columns]"
            ]
          },
          "metadata": {},
          "execution_count": 6
        }
      ]
    },
    {
      "cell_type": "code",
      "metadata": {
        "colab": {
          "base_uri": "https://localhost:8080/"
        },
        "id": "4LZN-YpQ2v0k",
        "outputId": "8eb2f43f-f10f-4480-d749-cd84389f70f6"
      },
      "source": [
        "fulldata.columns"
      ],
      "execution_count": null,
      "outputs": [
        {
          "output_type": "execute_result",
          "data": {
            "text/plain": [
              "Index(['Unnamed: 0', 'category', 'text', 'cleanText', 'new_clean_text'], dtype='object')"
            ]
          },
          "metadata": {},
          "execution_count": 7
        }
      ]
    },
    {
      "cell_type": "code",
      "metadata": {
        "colab": {
          "base_uri": "https://localhost:8080/"
        },
        "id": "Lb334Z9t3izW",
        "outputId": "0f4e32d9-49ac-4e2d-e8ae-7566b4c7fb96"
      },
      "source": [
        "fulldata.pop('Unnamed: 0') # Remove unexpected column"
      ],
      "execution_count": null,
      "outputs": [
        {
          "output_type": "execute_result",
          "data": {
            "text/plain": [
              "0             0\n",
              "1             1\n",
              "2             2\n",
              "3             3\n",
              "4             4\n",
              "          ...  \n",
              "197762    98878\n",
              "197763    98879\n",
              "197764    98880\n",
              "197765    98881\n",
              "197766    98882\n",
              "Name: Unnamed: 0, Length: 197767, dtype: int64"
            ]
          },
          "metadata": {},
          "execution_count": 8
        }
      ]
    },
    {
      "cell_type": "code",
      "metadata": {
        "colab": {
          "base_uri": "https://localhost:8080/",
          "height": 204
        },
        "id": "8o_LCDlj4Avd",
        "outputId": "f6712549-2ae7-46fb-dac3-c6fa8d8cddda"
      },
      "source": [
        "fulldata.head()"
      ],
      "execution_count": null,
      "outputs": [
        {
          "output_type": "execute_result",
          "data": {
            "text/html": [
              "<div>\n",
              "<style scoped>\n",
              "    .dataframe tbody tr th:only-of-type {\n",
              "        vertical-align: middle;\n",
              "    }\n",
              "\n",
              "    .dataframe tbody tr th {\n",
              "        vertical-align: top;\n",
              "    }\n",
              "\n",
              "    .dataframe thead th {\n",
              "        text-align: right;\n",
              "    }\n",
              "</style>\n",
              "<table border=\"1\" class=\"dataframe\">\n",
              "  <thead>\n",
              "    <tr style=\"text-align: right;\">\n",
              "      <th></th>\n",
              "      <th>category</th>\n",
              "      <th>text</th>\n",
              "      <th>cleanText</th>\n",
              "      <th>new_clean_text</th>\n",
              "    </tr>\n",
              "  </thead>\n",
              "  <tbody>\n",
              "    <tr>\n",
              "      <th>0</th>\n",
              "      <td>education</td>\n",
              "      <td>অধ্যায়-২প্রিয় পরীক্ষার্থী, আজ তথ্য ও যোগাযোগ প...</td>\n",
              "      <td>অধ্যায়    প্রিয়    পরীক্ষার্থী    তথ্য    যো...</td>\n",
              "      <td>অধ্যায় প্রিয় পরীক্ষার্থী তথ্য যোগাযোগ প্রযুক্ত...</td>\n",
              "    </tr>\n",
              "    <tr>\n",
              "      <th>1</th>\n",
              "      <td>sports</td>\n",
              "      <td>স্পিন, স্পিন, স্পিন। লর্ডসে ইয়াসির শাহ্‌র লেগ ...</td>\n",
              "      <td>স্পিন    স্পিন    স্পিন    লর্ডসে    ইয়াসির ...</td>\n",
              "      <td>স্পিন স্পিন স্পিন লর্ডসে ইয়াসির শাহ্ লেগ স্পিন...</td>\n",
              "    </tr>\n",
              "    <tr>\n",
              "      <th>2</th>\n",
              "      <td>international</td>\n",
              "      <td>সিরিয়ার উত্তর-পশ্চিমাঞ্চলে গতকাল রোববার বিমান...</td>\n",
              "      <td>সিরিয়ার    উত্তর    পশ্চিমাঞ্চলে    গতকাল  ...</td>\n",
              "      <td>সিরিয়ার পশ্চিমাঞ্চলে গতকাল রোববার বিমান হামলা...</td>\n",
              "    </tr>\n",
              "    <tr>\n",
              "      <th>3</th>\n",
              "      <td>international</td>\n",
              "      <td>দক্ষিণ আফ্রিকার কেপটাউন বিশ্ববিদ্যালয়ের (ইউসিট...</td>\n",
              "      <td>দক্ষিণ    আফ্রিকার    কেপটাউন    বিশ্ববিদ্যা...</td>\n",
              "      <td>দক্ষিণ আফ্রিকার কেপটাউন বিশ্ববিদ্যালয়ের ইউসিটি...</td>\n",
              "    </tr>\n",
              "    <tr>\n",
              "      <th>4</th>\n",
              "      <td>technology</td>\n",
              "      <td>সহজে ডিজিটাল আর্থিক সেবা দিতে অ্যাপ ও ডিজিটাল ...</td>\n",
              "      <td>সহজে    ডিজিটাল    আর্থিক    সেবা    অ্যাপ  ...</td>\n",
              "      <td>সহজে ডিজিটাল আর্থিক সেবা অ্যাপ ডিজিটাল কেওয়াইস...</td>\n",
              "    </tr>\n",
              "  </tbody>\n",
              "</table>\n",
              "</div>"
            ],
            "text/plain": [
              "        category  ...                                     new_clean_text\n",
              "0      education  ...  অধ্যায় প্রিয় পরীক্ষার্থী তথ্য যোগাযোগ প্রযুক্ত...\n",
              "1         sports  ...  স্পিন স্পিন স্পিন লর্ডসে ইয়াসির শাহ্ লেগ স্পিন...\n",
              "2  international  ...  সিরিয়ার পশ্চিমাঞ্চলে গতকাল রোববার বিমান হামলা...\n",
              "3  international  ...  দক্ষিণ আফ্রিকার কেপটাউন বিশ্ববিদ্যালয়ের ইউসিটি...\n",
              "4     technology  ...  সহজে ডিজিটাল আর্থিক সেবা অ্যাপ ডিজিটাল কেওয়াইস...\n",
              "\n",
              "[5 rows x 4 columns]"
            ]
          },
          "metadata": {},
          "execution_count": 9
        }
      ]
    },
    {
      "cell_type": "markdown",
      "metadata": {
        "id": "WvVEHpIwIrJm"
      },
      "source": [
        "## Preprocessing"
      ]
    },
    {
      "cell_type": "markdown",
      "metadata": {
        "id": "7wCCq851JLMq"
      },
      "source": [
        "### Convert Categories String to  Categories Number "
      ]
    },
    {
      "cell_type": "code",
      "metadata": {
        "id": "CbzTSrpEJRNR"
      },
      "source": [
        "def label_encoding(dataset,bool):\n",
        "  '''\n",
        "  This function will convert categorical class names into a numeric label\n",
        "\n",
        "  Args:\n",
        "  dataset: A dataset\n",
        "  bool : a boolean (True or False)\n",
        "\n",
        "  returns:\n",
        "  labels: encoded labels \n",
        "  '''\n",
        "  le = LabelEncoder()\n",
        "  le.fit(dataset.category)\n",
        "  encoded_labels = le.transform(dataset.category)\n",
        "  labels = np.array(encoded_labels) # Converting into numpy array\n",
        "  class_names =le.classes_ ## Define the class names again\n",
        "  if bool == True:\n",
        "    print(color.BOLD+\"\\n\\t\\t\\t===== Label Encoding =====\"+color.END,\"\\nClass Names:-->\",le.classes_)\n",
        "  return labels "
      ],
      "execution_count": null,
      "outputs": []
    },
    {
      "cell_type": "code",
      "metadata": {
        "colab": {
          "base_uri": "https://localhost:8080/"
        },
        "id": "5FPaJy3tJuIr",
        "outputId": "6dcb4432-c19e-47a0-b229-b6bbe791d304"
      },
      "source": [
        "labels = label_encoding(fulldata,True)"
      ],
      "execution_count": null,
      "outputs": [
        {
          "output_type": "stream",
          "name": "stdout",
          "text": [
            "\u001b[1m\n",
            "\t\t\t===== Label Encoding =====\u001b[0m \n",
            "Class Names:--> ['economy' 'education' 'entertainment' 'international' 'sports' 'state'\n",
            " 'technology']\n"
          ]
        }
      ]
    },
    {
      "cell_type": "markdown",
      "metadata": {
        "id": "ayH5i1hR7_ps"
      },
      "source": [
        "### Glove for Vectorization\n",
        "\n",
        "Use Glove pretrained corpus model to represent words."
      ]
    },
    {
      "cell_type": "code",
      "metadata": {
        "colab": {
          "base_uri": "https://localhost:8080/"
        },
        "id": "yKQazhtf4L1J",
        "outputId": "08780d17-a704-42cf-efbb-7eaa8a4ba5ce"
      },
      "source": [
        "!gdown --id 1hau9l8myQOVF2cR4GBPeCtUDi5UOk1_P # Download Bengali GloVe Word Vectors"
      ],
      "execution_count": null,
      "outputs": [
        {
          "output_type": "stream",
          "name": "stdout",
          "text": [
            "Downloading...\n",
            "From: https://drive.google.com/uc?id=1hau9l8myQOVF2cR4GBPeCtUDi5UOk1_P\n",
            "To: /content/bn_glove.39M.100d.txt\n",
            "100% 173M/173M [00:01<00:00, 111MB/s] \n"
          ]
        }
      ]
    },
    {
      "cell_type": "code",
      "metadata": {
        "colab": {
          "base_uri": "https://localhost:8080/",
          "height": 612
        },
        "id": "a1oC3Ezs_eqB",
        "outputId": "3861a158-9862-4f7f-a464-63826728a58c"
      },
      "source": [
        "# import and define Blnp for tokenizer\n",
        "!pip install bnlp_toolkit\n",
        "from bnlp import NLTKTokenizer \n",
        "bnltk = NLTKTokenizer()"
      ],
      "execution_count": null,
      "outputs": [
        {
          "output_type": "stream",
          "name": "stdout",
          "text": [
            "Collecting bnlp_toolkit\n",
            "  Downloading bnlp_toolkit-3.1.2-py3-none-any.whl (17 kB)\n",
            "Collecting sklearn-crfsuite\n",
            "  Downloading sklearn_crfsuite-0.3.6-py2.py3-none-any.whl (12 kB)\n",
            "Requirement already satisfied: scipy in /usr/local/lib/python3.7/dist-packages (from bnlp_toolkit) (1.4.1)\n",
            "Requirement already satisfied: numpy in /usr/local/lib/python3.7/dist-packages (from bnlp_toolkit) (1.19.5)\n",
            "Requirement already satisfied: wasabi in /usr/local/lib/python3.7/dist-packages (from bnlp_toolkit) (0.8.2)\n",
            "Collecting gensim==4.0.1\n",
            "  Downloading gensim-4.0.1-cp37-cp37m-manylinux1_x86_64.whl (23.9 MB)\n",
            "\u001b[K     |████████████████████████████████| 23.9 MB 224 kB/s \n",
            "\u001b[?25hRequirement already satisfied: nltk in /usr/local/lib/python3.7/dist-packages (from bnlp_toolkit) (3.2.5)\n",
            "Collecting sentencepiece\n",
            "  Downloading sentencepiece-0.1.96-cp37-cp37m-manylinux_2_17_x86_64.manylinux2014_x86_64.whl (1.2 MB)\n",
            "\u001b[K     |████████████████████████████████| 1.2 MB 51.3 MB/s \n",
            "\u001b[?25hRequirement already satisfied: smart-open>=1.8.1 in /usr/local/lib/python3.7/dist-packages (from gensim==4.0.1->bnlp_toolkit) (5.2.1)\n",
            "Requirement already satisfied: six in /usr/local/lib/python3.7/dist-packages (from nltk->bnlp_toolkit) (1.15.0)\n",
            "Collecting python-crfsuite>=0.8.3\n",
            "  Downloading python_crfsuite-0.9.7-cp37-cp37m-manylinux1_x86_64.whl (743 kB)\n",
            "\u001b[K     |████████████████████████████████| 743 kB 53.7 MB/s \n",
            "\u001b[?25hRequirement already satisfied: tqdm>=2.0 in /usr/local/lib/python3.7/dist-packages (from sklearn-crfsuite->bnlp_toolkit) (4.62.3)\n",
            "Requirement already satisfied: tabulate in /usr/local/lib/python3.7/dist-packages (from sklearn-crfsuite->bnlp_toolkit) (0.8.9)\n",
            "Installing collected packages: python-crfsuite, sklearn-crfsuite, sentencepiece, gensim, bnlp-toolkit\n",
            "  Attempting uninstall: gensim\n",
            "    Found existing installation: gensim 3.6.0\n",
            "    Uninstalling gensim-3.6.0:\n",
            "      Successfully uninstalled gensim-3.6.0\n",
            "Successfully installed bnlp-toolkit-3.1.2 gensim-4.0.1 python-crfsuite-0.9.7 sentencepiece-0.1.96 sklearn-crfsuite-0.3.6\n"
          ]
        },
        {
          "output_type": "display_data",
          "data": {
            "application/vnd.colab-display-data+json": {
              "pip_warning": {
                "packages": [
                  "gensim"
                ]
              }
            }
          },
          "metadata": {}
        },
        {
          "output_type": "stream",
          "name": "stdout",
          "text": [
            "punkt not found. downloading...\n",
            "[nltk_data] Downloading package punkt to /root/nltk_data...\n",
            "[nltk_data]   Unzipping tokenizers/punkt.zip.\n"
          ]
        }
      ]
    },
    {
      "cell_type": "code",
      "metadata": {
        "id": "AQOWXhBL9oVO"
      },
      "source": [
        "from bnlp.corpus import stopwords\n",
        "\n",
        "def create_corpus(df):\n",
        "    \"\"\"\n",
        "    This function will return the tokenizer of using bnltk tokenizer. \n",
        "    \n",
        "    Args:\n",
        "        df: dataset corpus\n",
        "        \n",
        "    Returns:\n",
        "        corpus: tokenized corpus \n",
        "        \n",
        "    \"\"\"\n",
        "\n",
        "    corpus=[]\n",
        "    for train in tqdm(df['new_clean_text']):\n",
        "        words=[word for word in bnltk.word_tokenize(train) if( (word not in stopwords))]    \n",
        "        corpus.append(words)\n",
        "    return corpus     "
      ],
      "execution_count": null,
      "outputs": []
    },
    {
      "cell_type": "code",
      "metadata": {
        "colab": {
          "base_uri": "https://localhost:8080/"
        },
        "id": "Bx3pT-PF-kzu",
        "outputId": "e6d02732-fa25-4440-aa3f-9e6a55cad03b"
      },
      "source": [
        "corpus=create_corpus(fulldata)"
      ],
      "execution_count": null,
      "outputs": [
        {
          "output_type": "stream",
          "name": "stderr",
          "text": [
            "100%|██████████| 197767/197767 [07:36<00:00, 432.85it/s]\n"
          ]
        }
      ]
    },
    {
      "cell_type": "code",
      "metadata": {
        "colab": {
          "base_uri": "https://localhost:8080/"
        },
        "id": "KvhdBO46AJ6I",
        "outputId": "5b330afc-7a4a-4924-ca4e-cb9664b4d222"
      },
      "source": [
        "# Check corpus\n",
        "\n",
        "for i,_ in enumerate(corpus):\n",
        "  print(_)\n",
        "  if i == 5:\n",
        "    break"
      ],
      "execution_count": null,
      "outputs": [
        {
          "output_type": "stream",
          "name": "stdout",
          "text": [
            "['অধ্যায়', 'প্রিয়', 'পরীক্ষার্থী', 'তথ্য', 'যোগাযোগ', 'প্রযুক্তি', 'বিষয়ের', 'সৃজনশীল', 'নমুনা', 'প্রশ্নোত্তর', 'করিম', 'সাহেব', 'একজন', 'ব্যবসায়ী', 'ছোট', 'ভাই', 'মাসুদকে', 'অফিসের', 'কম্পিউটারগুলো', 'পরস্পরের', 'সংযোগের', 'কেব্ল', 'অর্থসাশ্রয়ী', 'সহজে', 'স্থাপনযোগ্য', 'ছোট', 'ভাই', 'মাসুদের', 'অফিসে', 'দেখলেন', 'অফিসে', 'সেদিন', 'কম্পিউটার', 'অনুসন্ধানে', 'কম্পিউটারের', 'সংযোগ', 'কেব্ল', 'নষ্ট', 'পরের', 'ভাইয়ের', 'অফিসে', 'দেখলেন', 'অফিসের', 'কম্পিউটার', 'কেন্দ্রীয়', 'ডিভাইসের', 'সংযুক্ত', 'মডেম', 'ট্রান্সমিশন', 'মোডে', 'উভয়', 'ডেটা', 'আদান', 'প্রদান', 'ব্যাখ্যা', 'করো', 'করিম', 'সাহেবের', 'অফিসে', 'ব্যবহূত', 'কেব্লটি', 'ধরনের', 'ব্যাখ্যা', 'করো', 'নেটওয়ার্ক', 'সংযোগের', 'উদ্দীপকে', 'উল্লিখিত', 'ব্যবস্থাদ্বয়ের', 'কোনটি', 'উত্তম', 'বিশ্লেষণপূর্বক', 'মতামত', 'দাও', 'কমডেম', 'সংক্ষিপ্ত', 'রূপ', 'মডেম', 'ইলেকট্রনিক', 'ডিভাইস', 'অ্যানালগ', 'সংকেতকে', 'ডিজিটাল', 'ডিজিটাল', 'সংকেতকে', 'অ্যানালগ', 'সংকেতে', 'রূপান্তর', 'খফুল', 'ডুপ্লেক্স', 'মোডে', 'উভয়', 'ডেটা', 'আদান', 'প্রদান', 'ডেটা', 'ট্রান্সমিশন', 'মোডে', 'ডেটা', 'উত্স', 'গন্তব্যের', 'গন্তব্য', 'উেসর', 'প্রবাহিত', 'ফুল', 'ডুপ্লেক্স', 'মোড', 'অর্থাত্', 'পদ্ধতিতে', 'ডেটাপ্রবাহ', 'যুগোপযোগীভাবে', 'সম্পন্ন', 'মোবাইল', 'ফোন', 'টেলিফোন', 'গকরিম', 'সাহেবের', 'অফিসের', 'কেব্লটি', 'টুইস্টেড', 'পেয়ার', 'কেব্ল', 'পরিবাহী', 'তারকে', 'পরস্পর', 'পেঁচিয়ে', 'টুইস্টেড', 'পেয়ার', 'কেব্ল', 'তৈরি', 'প্যাঁচানো', 'দুটিকে', 'পৃথক', 'রাখার', 'মাঝে', 'অপরিবাহী', 'পদার্থ', 'অন্যান্য', 'কেবলের', 'তুলনায়', 'টুইস্টেড', 'পেয়ার', 'কেব্ল', 'অর্থসাশ্রয়ী', 'সহজে', 'স্থাপনযোগ্য', 'উদ্দীপকে', 'করিম', 'সাহেবের', 'অফিসের', 'কম্পিউটার', 'পরস্পরের', 'সংযোগের', 'কেব্ল', 'ব্যবহূত', 'অর্থসাশ্রয়ী', 'সহজে', 'স্থাপনযোগ্য', 'করিম', 'সাহেবের', 'অফিসের', 'কেব্লটি', 'টুইস্টেড', 'পেয়ার', 'কেব্ল', 'ঘনেটওয়ার্ক', 'সংযোগের', 'উদ্দীপকে', 'উল্লিখিত', 'ব্যবস্থা', 'রিং', 'টপোলজি', 'স্টার', 'টপোলজি', 'কম্পিউটার', 'নেটওয়ার্কে', 'কম্পিউটারের', 'অপর', 'কম্পিউটারের', 'সংযোগব্যবস্থাকেই', 'টপোলজি', 'সংগঠনে', 'কম্পিউটারগুলো', 'পরস্পর', 'যুক্ত', 'বৃত্তাকার', 'নেটওয়ার্ক', 'গড়ে', 'তোলে', 'রিং', 'টপোলজি', 'টপোলজিতে', 'কম্পিউটারের', 'সংযোগ', 'নষ্ট', 'কম্পিউটারেই', 'সংগঠনে', 'কেন্দ্রীয়', 'ডিভাইসের', 'অন্যান্য', 'কম্পিউটার', 'সংযুক্ত', 'স্টার', 'টপোলজি', 'উদ্দীপকে', 'মাসুদ', 'সাহেবের', 'অফিসে', 'সেদিন', 'কম্পিউটারই', 'করেনি', 'কম্পিউটারের', 'সংযোগ', 'নষ্ট', 'রিং', 'টপোলজি', 'অন্যদিকে', 'ভাই', 'করিম', 'সাহেবের', 'অফিসের', 'কম্পিউটার', 'কেন্দ্রীয়', 'ডিভাইসের', 'সংযুক্ত', 'স্টার', 'টপোলজি', 'উদ্দীপকের', 'রিং', 'স্টার', 'টপোলজির', 'স্টার', 'টপোলজি', 'উত্তম', 'রিং', 'টপোলজিতে', 'কম্পিউটার', 'কারণে', 'নষ্ট', 'অপসারণ', 'পুরো', 'নেটওয়ার্ক', 'অচল', 'পড়ে', 'স্টার', 'টপোলজিতে', 'কখনোই', 'মাস্টার', 'ট্রেইনারপ্রভাষক', 'রাউজান', 'কলেজ', 'চট্টগ্রাম']\n",
            "['স্পিন', 'স্পিন', 'স্পিন', 'লর্ডসে', 'ইয়াসির', 'শাহ্', 'লেগ', 'স্পিনে', 'জেরবার', 'দিনের', 'টেস্ট', 'হারের', 'ইংল্যান্ডের', 'ক্রিকেটাঙ্গনে', 'আলোচনা', 'স্পিন', 'নিয়েই', 'ইয়াসিরের', 'সাফল্যে', 'প্রভাবিত', 'ইংলিশরা', 'দ্বিতীয়', 'টেস্টের', 'দলে', 'নিয়েছে', 'লেগ', 'স্পিনার', 'আদিল', 'রশিদকে', 'ওল্ড', 'ট্রাফোর্ড', 'টেস্টের', 'পাকিস্তানের', 'সাবেক', 'স্পিনার', 'সাকলায়েন', 'মুশতাকেরও', 'শরণ', 'নিয়েছে', 'ইংল্যান্ড', 'পরামর্শক', 'কোচ', 'হিসেবে', 'খণ্ডকালীন', 'দায়িত্ব', 'পেয়েছেন', 'দুসরা', 'জনক', 'মঙ্গলবার', 'ইংলিশ', 'বোলারদের', 'সাকলায়েন', 'ছাত্র', 'মঈন', 'আলী', 'আদিল', 'রশিদকে', 'প্রশংসায়', 'ভাসিয়েছেন', 'টেস্ট', 'খেলা', 'সাকলায়েন', 'বিশ্বাস', 'এঁরাই', 'ইয়াসিরের', 'জবাব', 'বছর', 'ভারতের', 'বিপক্ষে', 'মঈনকে', 'দেখেছি', 'চমৎকার', 'করছিল', 'আমিরাতে', 'পাকিস্তানের', 'বিপক্ষে', 'আদিল', 'ভালো', 'উইকেট', 'নিয়েছিল', 'দুজনই', 'দক্ষ', 'তূণে', 'তিরেরও', 'অভাব', 'ইয়াসিরের', 'জবাব', 'চোট', 'কাটিয়ে', 'ইংল্যান্ড', 'দলে', 'ফেরা', 'অলরাউন্ডার', 'বেন', 'স্টোকস', 'সাকলায়েনের', 'ইংলিশ', 'ব্যাটসম্যানদেরও', 'শেখা', 'কপালের', 'জোরে', 'শিখে', 'নেওয়াটাই', 'বুদ্ধিমানের', 'ব্যাটসম্যানরা', 'টিপস', 'নিলে', 'বোকামি', 'স্টোকস', 'ঠিকই', 'বোলারদের', 'শিখলেই', 'ব্যাটসম্যানদেরও', 'সামলাতে', 'ইয়াসিরকে', 'এএফপি', 'ডেইলি', 'মেইল']\n",
            "['সিরিয়ার', 'পশ্চিমাঞ্চলে', 'গতকাল', 'রোববার', 'বিমান', 'হামলায়', 'কমপক্ষে', 'নিহত', 'দেড়', 'শতাধিক', 'মানুষ', 'আহত', 'রাশিয়ার', 'জঙ্গিবিমান', 'হামলা', 'চালিয়েছে', 'ধারণা', 'উদ্ধারকর্মী', 'স্থানীয়', 'লোকজন', 'স্থানীয়', 'লোকজন', 'জানান', 'পশ্চিমাঞ্চলে', 'বিদ্রোহীদের', 'নিয়ন্ত্রণে', 'ইদলিব', 'প্রদেশের', 'কেন্দ্রভাগের', 'বাজার', 'সরকারি', 'ভবন', 'আবাসিক', 'এলাকায়', 'গতকাল', 'ছয়', 'দফায়', 'বিমান', 'হামলা', 'চালানো', 'এরপর', 'মত্যু', 'আহত', 'দেড়', 'শতাধিক', 'মানুষ', 'গুরুতর', 'আহত', 'অনেককে', 'চিকিৎসার', 'তুরস্কের', 'হাসপাতালে', 'পাঠানো', 'ইয়াসির', 'হাম্মো', 'নামে', 'বেসামরিক', 'প্রতিরক্ষা', 'বিভাগের', 'কর্মী', 'এখনো', 'মৃতদেহ', 'ধ্বংসস্তূপের', 'নিচে', 'চাপা', 'পড়ে', 'রয়টার্স']\n",
            "['দক্ষিণ', 'আফ্রিকার', 'কেপটাউন', 'বিশ্ববিদ্যালয়ের', 'ইউসিটি', 'প্রাঙ্গণ', 'ঔপনিবেশিক', 'যুগের', 'খনি', 'ব্যবসায়ী', 'রাজনীতিক', 'সিসিল', 'রোডসের', 'মূর্তি', 'সরিয়ে', 'ফেলার', 'ভোট', 'সেখানকার', 'কাউন্সিল', 'শ্বেতাঙ্গদের', 'নিপীড়নের', 'প্রতীক', 'হিসেবে', 'পরিচিত', 'মূর্তিটির', 'বিরুদ্ধে', 'মাসব্যাপী', 'বিক্ষোভের', 'বিষয়টি', 'নিষ্পত্তির', 'বুধবার', 'ভোটের', 'আয়োজন', 'ব্রোঞ্জের', 'তৈরি', 'মূর্তিটি', 'অপসারণের', 'ইতিহাস', 'ঐতিহ্য', 'সংরক্ষণ', 'কর্তৃপক্ষের', 'ইউসিটির', 'বিবৃতি', 'মূর্তিটি', 'গতকাল', 'বৃহস্পতিবার', 'সরিয়ে', 'ফেলা', 'এএফপি']\n",
            "['সহজে', 'ডিজিটাল', 'আর্থিক', 'সেবা', 'অ্যাপ', 'ডিজিটাল', 'কেওয়াইসি', 'নিবন্ধন', 'প্রক্রিয়া', 'উদ্বোধন', 'ডিজিটাল', 'আর্থিক', 'সেবাদাতা', 'প্রতিষ্ঠান', 'নগদ', 'সহযোগিতা', 'বাংলাদেশ', 'ডাক', 'বিভাগ', 'গতকাল', 'রাজধানীর', 'ওয়েস্টিন', 'হোটেলে', 'অনুষ্ঠানে', 'নগদ', 'অ্যাপ', 'ডিজিটাল', 'কেওয়াইসি', 'উদ্বোধন', 'নগদ', 'কর্তৃপক্ষ', 'অনুষ্ঠানে', 'উপস্থিত', 'ডাক', 'টেলিযোগাযোগ', 'তথ্যপ্রযুক্তি', 'মন্ত্রী', 'মোস্তাফা', 'জব্বার', 'ডাক', 'টেলিযোগাযোগ', 'বিভাগের', 'ভারপ্রাপ্ত', 'সচিব', 'অশোক', 'কুমার', 'বিশ্বাস', 'বাংলাদেশ', 'ডাক', 'বিভাগের', 'মহাপরিচালক', 'সুশান্ত', 'কুমার', 'মণ্ডল', 'নগদের', 'ব্যবস্থাপনা', 'পরিচালক', 'তানভীর', 'মিশুক', 'সময়', 'বাংলাদেশ', 'ডাক', 'বিভাগ', 'নগদের', 'অন্যান্য', 'ঊর্ধ্বতন', 'কর্মকর্তাগণও', 'উপস্থিত', 'অনুষ্ঠানে', 'ডাক', 'টেলিযোগাযোগ', 'তথ্যপ্রযুক্তিমন্ত্রী', 'মোস্তাফা', 'জব্বার', 'দেশের', 'মানুষের', 'সুবিধার্থে', 'বাংলাদেশ', 'সরকার', 'স্বপ্রণোদিতভাবে', 'ধরনের', 'সেবা', 'আসছে', 'ধারাবাহিকতায়', 'এসেছে', 'বাংলাদেশ', 'ডাক', 'বিভাগের', 'সেবা', 'নগদ', 'মুক্তবাজার', 'অর্থনীতিতে', 'একচেটিয়া', 'ভেঙে', 'প্রতিযোগিতার', 'নগদ', 'সুশান্ত', 'কুমার', 'মণ্ডল', 'আর্থিক', 'লেনদেন', 'ব্যবস্থাপনার', 'একশ', 'বছরেরও', 'অভিজ্ঞতা', 'দেশজুড়ে', 'ডাক', 'বিভাগের', 'ডাকঘর', 'কর্মী', 'নেটওয়ার্কের', 'ডিজিটাল', 'আর্থিক', 'খাতে', 'দ্রুততা', 'কার্যকারিতার', 'যেকোনো', 'অনিয়ম', 'মোকাবিলায়', 'প্রস্তুত', 'ডিজিটাল', 'কেওয়াইসি', 'নিবন্ধন', 'প্রক্রিয়া', 'সম্পন্ন', 'ক্রেতাদের', 'জাতীয়', 'পরিচয়পত্র', 'নিবন্ধনকৃত', 'মোবাইল', 'ফোন', 'আসতে', 'গ্রাহকের', 'ছবি', 'পরিচয়পত্রের', 'তথ্য', 'কৃত্রিম', 'বুদ্ধিমত্তার', 'সহায়তায়', 'রিয়েল', 'টাইমে', 'নির্বাচন', 'কমিশনের', 'ডেটাবেইসের', 'মিলিয়ে', 'কেওয়াইসি', 'আবেদন', 'পত্রের', 'নির্দিষ্ট', 'স্বয়ংক্রিয়', 'স্ক্যানিং', 'প্রক্রিয়ায়', 'পরিচয়পত্রের', 'তথ্য', 'পূরণ', 'বর্তমানে', 'নগদ', 'অ্যাপটি', 'শুধুমাত্র', 'অ্যান্ড্রয়েড', 'প্ল্যাটফর্মে', 'মেগাবাইটের', 'সহজে', 'ব্যবহারযোগ্য', 'অ্যাপটির', 'বেটা', 'সংস্করণে', 'ব্যবহারকারী', 'হাজারেরও']\n",
            "['সাউথ', 'বাংলা', 'এগ্রিকালচার', 'অ্যান্ড', 'কমার্স', 'এসবিএসি', 'ব্যাংকের', 'তৃতীয়', 'বার্ষিক', 'সভা', 'এজিএম', 'রাজধানীর', 'হোটেলে', 'অনুষ্ঠিত', 'প্রধান', 'অতিথি', 'ব্যাংকের', 'পরিচালনা', 'পর্ষদের', 'চেয়ারম্যান', 'আমজাদ', 'হোসেন', 'সভায়', 'শেয়ারহোল্ডাররা', 'সমাপ্ত', 'বছরের', 'শতাংশ', 'স্টক', 'ডিভিডেন্ড', 'অনুমোদন', 'সময়', 'ব্যাংকের', 'পরিচালনা', 'পর্ষদের', 'সদস্যরা', 'উল্লেখযোগ্যসংখ্যক', 'শেয়ারহোল্ডার', 'উপস্থিত', 'অনুষ্ঠানে', 'স্বাগত', 'ব্যাংকের', 'ব্যবস্থাপনা', 'পরিচালক', 'সিইও', 'রফিকুল', 'ইসলাম', 'বিজ্ঞপ্তি']\n"
          ]
        }
      ]
    },
    {
      "cell_type": "code",
      "metadata": {
        "id": "z4VWHcArFjAn"
      },
      "source": [
        "embedding_dict={}\n",
        "with open('/content/bn_glove.39M.100d.txt','r') as f:\n",
        "    for line in f:\n",
        "        values=line.split()\n",
        "        word=values[0]\n",
        "        vectors=np.asarray(values[1:],'float32')\n",
        "        embedding_dict[word]=vectors\n",
        "f.close()"
      ],
      "execution_count": null,
      "outputs": []
    },
    {
      "cell_type": "code",
      "metadata": {
        "id": "5BAE7gIKGUTa"
      },
      "source": [
        "MAX_LEN=50\n",
        "tokenizer_obj=Tokenizer()\n",
        "tokenizer_obj.fit_on_texts(corpus)\n",
        "sequences=tokenizer_obj.texts_to_sequences(corpus)\n",
        "\n",
        "train_pad=pad_sequences(sequences,maxlen=MAX_LEN,truncating='post',padding='post')"
      ],
      "execution_count": null,
      "outputs": []
    },
    {
      "cell_type": "code",
      "metadata": {
        "id": "D_-JIvCVH9xi"
      },
      "source": [
        "trainer=train_pad[:train.shape[0]]\n",
        "\n",
        "test=train_pad[train.shape[0]:]\n",
        "\n",
        "labels_train = labels[:train.shape[0]]\n",
        "lables_test = labels[train.shape[0]:]"
      ],
      "execution_count": null,
      "outputs": []
    },
    {
      "cell_type": "code",
      "metadata": {
        "colab": {
          "base_uri": "https://localhost:8080/"
        },
        "id": "RGZ7ydKCHo_f",
        "outputId": "a8bb0fdc-1468-4829-e88f-bdc48f8abf4a"
      },
      "source": [
        "word_index=tokenizer_obj.word_index\n",
        "print('Number of unique words:',len(word_index))"
      ],
      "execution_count": null,
      "outputs": [
        {
          "output_type": "stream",
          "name": "stdout",
          "text": [
            "Number of unique words: 677924\n"
          ]
        }
      ]
    },
    {
      "cell_type": "code",
      "metadata": {
        "colab": {
          "base_uri": "https://localhost:8080/"
        },
        "id": "yxCB_nF5HiBh",
        "outputId": "19202433-3965-4d3d-e646-99a0ece81bf3"
      },
      "source": [
        "num_words=len(word_index)+1\n",
        "embedding_matrix=np.zeros((num_words,100))\n",
        "\n",
        "for word,i in tqdm(word_index.items()):\n",
        "    if i > num_words:\n",
        "        continue\n",
        "    \n",
        "    emb_vec=embedding_dict.get(word)\n",
        "    if emb_vec is not None:\n",
        "        embedding_matrix[i]=emb_vec"
      ],
      "execution_count": null,
      "outputs": [
        {
          "output_type": "stream",
          "name": "stderr",
          "text": [
            "100%|██████████| 677924/677924 [00:00<00:00, 793312.53it/s]\n"
          ]
        }
      ]
    },
    {
      "cell_type": "markdown",
      "metadata": {
        "id": "-TSxT-51KKyM"
      },
      "source": [
        "## TPU strategy"
      ]
    },
    {
      "cell_type": "code",
      "metadata": {
        "colab": {
          "base_uri": "https://localhost:8080/"
        },
        "id": "hooyiIuy1p8x",
        "outputId": "5f4bd7cc-4469-4b35-8f5f-e18695c7eaa0"
      },
      "source": [
        "\n",
        "tpu = tf.distribute.cluster_resolver.TPUClusterResolver()\n",
        "tf.config.experimental_connect_to_cluster(tpu)\n",
        "tf.tpu.experimental.initialize_tpu_system(tpu)\n",
        "strategy = tf.distribute.experimental.TPUStrategy(tpu)\n"
      ],
      "execution_count": null,
      "outputs": [
        {
          "output_type": "stream",
          "name": "stdout",
          "text": [
            "INFO:tensorflow:Clearing out eager caches\n"
          ]
        },
        {
          "output_type": "stream",
          "name": "stderr",
          "text": [
            "INFO:tensorflow:Clearing out eager caches\n"
          ]
        },
        {
          "output_type": "stream",
          "name": "stdout",
          "text": [
            "INFO:tensorflow:Initializing the TPU system: grpc://10.76.221.2:8470\n"
          ]
        },
        {
          "output_type": "stream",
          "name": "stderr",
          "text": [
            "INFO:tensorflow:Initializing the TPU system: grpc://10.76.221.2:8470\n"
          ]
        },
        {
          "output_type": "stream",
          "name": "stdout",
          "text": [
            "INFO:tensorflow:Finished initializing TPU system.\n"
          ]
        },
        {
          "output_type": "stream",
          "name": "stderr",
          "text": [
            "INFO:tensorflow:Finished initializing TPU system.\n",
            "WARNING:absl:`tf.distribute.experimental.TPUStrategy` is deprecated, please use  the non experimental symbol `tf.distribute.TPUStrategy` instead.\n"
          ]
        },
        {
          "output_type": "stream",
          "name": "stdout",
          "text": [
            "INFO:tensorflow:Found TPU system:\n"
          ]
        },
        {
          "output_type": "stream",
          "name": "stderr",
          "text": [
            "INFO:tensorflow:Found TPU system:\n"
          ]
        },
        {
          "output_type": "stream",
          "name": "stdout",
          "text": [
            "INFO:tensorflow:*** Num TPU Cores: 8\n"
          ]
        },
        {
          "output_type": "stream",
          "name": "stderr",
          "text": [
            "INFO:tensorflow:*** Num TPU Cores: 8\n"
          ]
        },
        {
          "output_type": "stream",
          "name": "stdout",
          "text": [
            "INFO:tensorflow:*** Num TPU Workers: 1\n"
          ]
        },
        {
          "output_type": "stream",
          "name": "stderr",
          "text": [
            "INFO:tensorflow:*** Num TPU Workers: 1\n"
          ]
        },
        {
          "output_type": "stream",
          "name": "stdout",
          "text": [
            "INFO:tensorflow:*** Num TPU Cores Per Worker: 8\n"
          ]
        },
        {
          "output_type": "stream",
          "name": "stderr",
          "text": [
            "INFO:tensorflow:*** Num TPU Cores Per Worker: 8\n"
          ]
        },
        {
          "output_type": "stream",
          "name": "stdout",
          "text": [
            "INFO:tensorflow:*** Available Device: _DeviceAttributes(/job:localhost/replica:0/task:0/device:CPU:0, CPU, 0, 0)\n"
          ]
        },
        {
          "output_type": "stream",
          "name": "stderr",
          "text": [
            "INFO:tensorflow:*** Available Device: _DeviceAttributes(/job:localhost/replica:0/task:0/device:CPU:0, CPU, 0, 0)\n"
          ]
        },
        {
          "output_type": "stream",
          "name": "stdout",
          "text": [
            "INFO:tensorflow:*** Available Device: _DeviceAttributes(/job:worker/replica:0/task:0/device:CPU:0, CPU, 0, 0)\n"
          ]
        },
        {
          "output_type": "stream",
          "name": "stderr",
          "text": [
            "INFO:tensorflow:*** Available Device: _DeviceAttributes(/job:worker/replica:0/task:0/device:CPU:0, CPU, 0, 0)\n"
          ]
        },
        {
          "output_type": "stream",
          "name": "stdout",
          "text": [
            "INFO:tensorflow:*** Available Device: _DeviceAttributes(/job:worker/replica:0/task:0/device:TPU:0, TPU, 0, 0)\n"
          ]
        },
        {
          "output_type": "stream",
          "name": "stderr",
          "text": [
            "INFO:tensorflow:*** Available Device: _DeviceAttributes(/job:worker/replica:0/task:0/device:TPU:0, TPU, 0, 0)\n"
          ]
        },
        {
          "output_type": "stream",
          "name": "stdout",
          "text": [
            "INFO:tensorflow:*** Available Device: _DeviceAttributes(/job:worker/replica:0/task:0/device:TPU:1, TPU, 0, 0)\n"
          ]
        },
        {
          "output_type": "stream",
          "name": "stderr",
          "text": [
            "INFO:tensorflow:*** Available Device: _DeviceAttributes(/job:worker/replica:0/task:0/device:TPU:1, TPU, 0, 0)\n"
          ]
        },
        {
          "output_type": "stream",
          "name": "stdout",
          "text": [
            "INFO:tensorflow:*** Available Device: _DeviceAttributes(/job:worker/replica:0/task:0/device:TPU:2, TPU, 0, 0)\n"
          ]
        },
        {
          "output_type": "stream",
          "name": "stderr",
          "text": [
            "INFO:tensorflow:*** Available Device: _DeviceAttributes(/job:worker/replica:0/task:0/device:TPU:2, TPU, 0, 0)\n"
          ]
        },
        {
          "output_type": "stream",
          "name": "stdout",
          "text": [
            "INFO:tensorflow:*** Available Device: _DeviceAttributes(/job:worker/replica:0/task:0/device:TPU:3, TPU, 0, 0)\n"
          ]
        },
        {
          "output_type": "stream",
          "name": "stderr",
          "text": [
            "INFO:tensorflow:*** Available Device: _DeviceAttributes(/job:worker/replica:0/task:0/device:TPU:3, TPU, 0, 0)\n"
          ]
        },
        {
          "output_type": "stream",
          "name": "stdout",
          "text": [
            "INFO:tensorflow:*** Available Device: _DeviceAttributes(/job:worker/replica:0/task:0/device:TPU:4, TPU, 0, 0)\n"
          ]
        },
        {
          "output_type": "stream",
          "name": "stderr",
          "text": [
            "INFO:tensorflow:*** Available Device: _DeviceAttributes(/job:worker/replica:0/task:0/device:TPU:4, TPU, 0, 0)\n"
          ]
        },
        {
          "output_type": "stream",
          "name": "stdout",
          "text": [
            "INFO:tensorflow:*** Available Device: _DeviceAttributes(/job:worker/replica:0/task:0/device:TPU:5, TPU, 0, 0)\n"
          ]
        },
        {
          "output_type": "stream",
          "name": "stderr",
          "text": [
            "INFO:tensorflow:*** Available Device: _DeviceAttributes(/job:worker/replica:0/task:0/device:TPU:5, TPU, 0, 0)\n"
          ]
        },
        {
          "output_type": "stream",
          "name": "stdout",
          "text": [
            "INFO:tensorflow:*** Available Device: _DeviceAttributes(/job:worker/replica:0/task:0/device:TPU:6, TPU, 0, 0)\n"
          ]
        },
        {
          "output_type": "stream",
          "name": "stderr",
          "text": [
            "INFO:tensorflow:*** Available Device: _DeviceAttributes(/job:worker/replica:0/task:0/device:TPU:6, TPU, 0, 0)\n"
          ]
        },
        {
          "output_type": "stream",
          "name": "stdout",
          "text": [
            "INFO:tensorflow:*** Available Device: _DeviceAttributes(/job:worker/replica:0/task:0/device:TPU:7, TPU, 0, 0)\n"
          ]
        },
        {
          "output_type": "stream",
          "name": "stderr",
          "text": [
            "INFO:tensorflow:*** Available Device: _DeviceAttributes(/job:worker/replica:0/task:0/device:TPU:7, TPU, 0, 0)\n"
          ]
        },
        {
          "output_type": "stream",
          "name": "stdout",
          "text": [
            "INFO:tensorflow:*** Available Device: _DeviceAttributes(/job:worker/replica:0/task:0/device:TPU_SYSTEM:0, TPU_SYSTEM, 0, 0)\n"
          ]
        },
        {
          "output_type": "stream",
          "name": "stderr",
          "text": [
            "INFO:tensorflow:*** Available Device: _DeviceAttributes(/job:worker/replica:0/task:0/device:TPU_SYSTEM:0, TPU_SYSTEM, 0, 0)\n"
          ]
        },
        {
          "output_type": "stream",
          "name": "stdout",
          "text": [
            "INFO:tensorflow:*** Available Device: _DeviceAttributes(/job:worker/replica:0/task:0/device:XLA_CPU:0, XLA_CPU, 0, 0)\n"
          ]
        },
        {
          "output_type": "stream",
          "name": "stderr",
          "text": [
            "INFO:tensorflow:*** Available Device: _DeviceAttributes(/job:worker/replica:0/task:0/device:XLA_CPU:0, XLA_CPU, 0, 0)\n"
          ]
        }
      ]
    },
    {
      "cell_type": "markdown",
      "metadata": {
        "id": "byf65GK6Hxyp"
      },
      "source": [
        "## Model Define"
      ]
    },
    {
      "cell_type": "code",
      "metadata": {
        "id": "e07xmzSzHwZi"
      },
      "source": [
        "K.clear_session()\n",
        "with strategy.scope():\n",
        "\n",
        "   \n",
        "  model = tf.keras.models.Sequential([\n",
        "  tf.keras.layers.Embedding(num_words,100,embeddings_initializer=Constant(embedding_matrix),\n",
        "                    input_length=MAX_LEN,trainable=False),\n",
        "  tf.keras.layers.Conv1D(128, 7, activation= 'relu'),\n",
        "  tf.keras.layers.MaxPooling1D(7),\n",
        "  tf.keras.layers.Bidirectional(LSTM(64, return_sequences=True,dropout = 0.2)),\n",
        "  tf.keras.layers.Bidirectional(LSTM(64, return_sequences=True,dropout = 0.2)),\n",
        "  tf.keras.layers.Dense(28, activation='relu'),\n",
        "  tf.keras.layers.Dense(14, activation='relu'),\n",
        "  keras.layers.Flatten(),\n",
        "  tf.keras.layers.Dense(7 , activation='softmax')])\n",
        "\n",
        "\n",
        "\n",
        "\n",
        "\n",
        "  def recall_m(y_true, y_pred):\n",
        "    true_positives = K.sum(K.round(K.clip(y_true * y_pred, 0, 1)))\n",
        "    possible_positives = K.sum(K.round(K.clip(y_true, 0, 1)))\n",
        "    recall = true_positives / (possible_positives + K.epsilon())\n",
        "    return recall\n",
        "\n",
        "  def precision_m(y_true, y_pred):\n",
        "    true_positives = K.sum(K.round(K.clip(y_true * y_pred, 0, 1)))\n",
        "    predicted_positives = K.sum(K.round(K.clip(y_pred, 0, 1)))\n",
        "    precision = true_positives / (predicted_positives + K.epsilon())\n",
        "    return precision\n",
        "  \n",
        "  def f1_m(y_true, y_pred):\n",
        "    precision = precision_m(y_true, y_pred)\n",
        "    recall = recall_m(y_true, y_pred)\n",
        "    return 2*((precision*recall)/(precision+recall+K.epsilon()))\n",
        "  \n",
        "\n",
        "  optimzer=Adam(learning_rate=1e-5)\n",
        "\n",
        "  model.compile(loss='sparse_categorical_crossentropy',optimizer=optimzer,metrics=['accuracy',recall_m,precision_m,f1_m])"
      ],
      "execution_count": null,
      "outputs": []
    },
    {
      "cell_type": "code",
      "metadata": {
        "colab": {
          "base_uri": "https://localhost:8080/"
        },
        "id": "IqBszEb0H9E4",
        "outputId": "07616d37-211e-4254-b2f4-591af7484b6c"
      },
      "source": [
        "model.summary()"
      ],
      "execution_count": null,
      "outputs": [
        {
          "output_type": "stream",
          "name": "stdout",
          "text": [
            "Model: \"sequential\"\n",
            "_________________________________________________________________\n",
            "Layer (type)                 Output Shape              Param #   \n",
            "=================================================================\n",
            "embedding (Embedding)        (None, 50, 100)           67792500  \n",
            "_________________________________________________________________\n",
            "conv1d (Conv1D)              (None, 44, 128)           89728     \n",
            "_________________________________________________________________\n",
            "max_pooling1d (MaxPooling1D) (None, 6, 128)            0         \n",
            "_________________________________________________________________\n",
            "bidirectional (Bidirectional (None, 6, 128)            98816     \n",
            "_________________________________________________________________\n",
            "bidirectional_1 (Bidirection (None, 6, 128)            98816     \n",
            "_________________________________________________________________\n",
            "dense (Dense)                (None, 6, 28)             3612      \n",
            "_________________________________________________________________\n",
            "dense_1 (Dense)              (None, 6, 14)             406       \n",
            "_________________________________________________________________\n",
            "flatten (Flatten)            (None, 84)                0         \n",
            "_________________________________________________________________\n",
            "dense_2 (Dense)              (None, 7)                 595       \n",
            "=================================================================\n",
            "Total params: 68,084,473\n",
            "Trainable params: 291,973\n",
            "Non-trainable params: 67,792,500\n",
            "_________________________________________________________________\n"
          ]
        }
      ]
    },
    {
      "cell_type": "code",
      "metadata": {
        "colab": {
          "base_uri": "https://localhost:8080/"
        },
        "id": "R3GWpN9mW7re",
        "outputId": "a6cbf37d-ca08-4f78-9cd5-1a971584e9a9"
      },
      "source": [
        "X_train,X_test,y_train,y_test=train_test_split(trainer,labels_train,test_size=0.15)\n",
        "print('Shape of train',X_train.shape)\n",
        "print(\"Shape of Validation \",X_test.shape)"
      ],
      "execution_count": null,
      "outputs": [
        {
          "output_type": "stream",
          "name": "stdout",
          "text": [
            "Shape of train (84050, 50)\n",
            "Shape of Validation  (14833, 50)\n"
          ]
        }
      ]
    },
    {
      "cell_type": "code",
      "metadata": {
        "colab": {
          "base_uri": "https://localhost:8080/",
          "height": 1000
        },
        "id": "bVHHH8obRbgv",
        "outputId": "ce6aae7b-053b-49d8-af3e-30949efc17d2"
      },
      "source": [
        "checkpoint = keras.callbacks.ModelCheckpoint('/content/drive/MyDrive/Callbacks Glove Ifti Training Big LSTM CNN/model.h5', monitor=\"val_loss\", save_best_only=True)\n",
        "checkpoint1 = tf.keras.callbacks.CSVLogger('/content/drive/MyDrive/Callbacks Glove Ifti Training Big LSTM CNN/History.csv')\n",
        "checkpoint2 = tf.keras.callbacks.EarlyStopping(monitor='val_loss', patience=3)\n",
        "\n",
        "import gc\n",
        "# Custom Callback To Include in Callbacks List At Training Time\n",
        "class GarbageCollectorCallback(tf.keras.callbacks.Callback):\n",
        "    def on_epoch_end(self, epoch, logs=None):\n",
        "        gc.collect()\n",
        "\n",
        "history = model.fit(\n",
        "                  X_train,y_train,\n",
        "                  batch_size=32,\n",
        "                  epochs=100,\n",
        "                  callbacks=[checkpoint, checkpoint1, GarbageCollectorCallback(),checkpoint2],\n",
        "                  validation_data=(X_test,y_test),\n",
        "\n",
        ")"
      ],
      "execution_count": null,
      "outputs": [
        {
          "metadata": {
            "tags": null
          },
          "name": "stdout",
          "output_type": "stream",
          "text": [
            "Epoch 1/100\n",
            "   4/2627 [..............................] - ETA: 53s - loss: 1.9513 - accuracy: 0.1719 - recall_m: 3.5990 - precision_m: 121562496.0000 - f1_m: 7.1979 WARNING:tensorflow:Callback method `on_train_batch_end` is slow compared to the batch time (batch time: 0.0023s vs `on_train_batch_end` time: 0.0424s). Check your callbacks.\n"
          ]
        },
        {
          "metadata": {
            "tags": null
          },
          "name": "stderr",
          "output_type": "stream",
          "text": [
            "WARNING:tensorflow:Callback method `on_train_batch_end` is slow compared to the batch time (batch time: 0.0023s vs `on_train_batch_end` time: 0.0424s). Check your callbacks.\n"
          ]
        },
        {
          "output_type": "stream",
          "name": "stdout",
          "text": [
            "2627/2627 [==============================] - 66s 25ms/step - loss: 1.2636 - accuracy: 0.6240 - recall_m: 2.3553 - precision_m: 51128164.0000 - f1_m: 4.0264 - val_loss: 0.6522 - val_accuracy: 0.8003 - val_recall_m: 1.4438 - val_precision_m: 32329.2715 - val_f1_m: 1.5023\n",
            "Epoch 2/100\n",
            "2627/2627 [==============================] - 60s 23ms/step - loss: 0.6039 - accuracy: 0.8119 - recall_m: 1.3946 - precision_m: 34735.7617 - f1_m: 1.4183 - val_loss: 0.5163 - val_accuracy: 0.8333 - val_recall_m: 1.2576 - val_precision_m: 1.2479 - val_f1_m: 1.2249\n",
            "Epoch 3/100\n",
            "2627/2627 [==============================] - 61s 23ms/step - loss: 0.5174 - accuracy: 0.8332 - recall_m: 1.2876 - precision_m: 8090.4087 - f1_m: 1.2599 - val_loss: 0.4694 - val_accuracy: 0.8480 - val_recall_m: 1.2174 - val_precision_m: 1.1627 - val_f1_m: 1.1658\n",
            "Epoch 4/100\n",
            "2627/2627 [==============================] - 59s 22ms/step - loss: 0.4789 - accuracy: 0.8451 - recall_m: 1.2551 - precision_m: 3331.9019 - f1_m: 1.2106 - val_loss: 0.4416 - val_accuracy: 0.8536 - val_recall_m: 1.2163 - val_precision_m: 1.1548 - val_f1_m: 1.1612\n",
            "Epoch 5/100\n",
            "2627/2627 [==============================] - 60s 23ms/step - loss: 0.4534 - accuracy: 0.8531 - recall_m: 1.2406 - precision_m: 2856.1509 - f1_m: 1.1944 - val_loss: 0.4255 - val_accuracy: 0.8580 - val_recall_m: 1.1985 - val_precision_m: 1.1235 - val_f1_m: 1.1383\n",
            "Epoch 6/100\n",
            "2627/2627 [==============================] - 61s 23ms/step - loss: 0.4337 - accuracy: 0.8585 - recall_m: 1.2291 - precision_m: 3807.7351 - f1_m: 1.1766 - val_loss: 0.4116 - val_accuracy: 0.8622 - val_recall_m: 1.1919 - val_precision_m: 1.1129 - val_f1_m: 1.1307\n",
            "Epoch 7/100\n",
            "2627/2627 [==============================] - 58s 22ms/step - loss: 0.4174 - accuracy: 0.8630 - recall_m: 1.2228 - precision_m: 1.1617 - f1_m: 1.1677 - val_loss: 0.4024 - val_accuracy: 0.8645 - val_recall_m: 1.1886 - val_precision_m: 1.1071 - val_f1_m: 1.1262\n",
            "Epoch 8/100\n",
            "2627/2627 [==============================] - 58s 22ms/step - loss: 0.4052 - accuracy: 0.8664 - recall_m: 1.2155 - precision_m: 1.1455 - f1_m: 1.1567 - val_loss: 0.3923 - val_accuracy: 0.8679 - val_recall_m: 1.1845 - val_precision_m: 1.1004 - val_f1_m: 1.1208\n",
            "Epoch 9/100\n",
            "2627/2627 [==============================] - 58s 22ms/step - loss: 0.3933 - accuracy: 0.8697 - recall_m: 1.2089 - precision_m: 1.1353 - f1_m: 1.1487 - val_loss: 0.3838 - val_accuracy: 0.8708 - val_recall_m: 1.1838 - val_precision_m: 1.0917 - val_f1_m: 1.1167\n",
            "Epoch 10/100\n",
            "2627/2627 [==============================] - 58s 22ms/step - loss: 0.3839 - accuracy: 0.8731 - recall_m: 1.2047 - precision_m: 1.1242 - f1_m: 1.1418 - val_loss: 0.3782 - val_accuracy: 0.8738 - val_recall_m: 1.1915 - val_precision_m: 1.0966 - val_f1_m: 1.1235\n",
            "Epoch 11/100\n",
            "2627/2627 [==============================] - 61s 23ms/step - loss: 0.3738 - accuracy: 0.8767 - recall_m: 1.2039 - precision_m: 1.1204 - f1_m: 1.1390 - val_loss: 0.3715 - val_accuracy: 0.8736 - val_recall_m: 1.1738 - val_precision_m: 1.0783 - val_f1_m: 1.1050\n",
            "Epoch 12/100\n",
            "2627/2627 [==============================] - 60s 23ms/step - loss: 0.3659 - accuracy: 0.8791 - recall_m: 1.1988 - precision_m: 1.1140 - f1_m: 1.1335 - val_loss: 0.3679 - val_accuracy: 0.8776 - val_recall_m: 1.1796 - val_precision_m: 1.0818 - val_f1_m: 1.1100\n",
            "Epoch 13/100\n",
            "2627/2627 [==============================] - 61s 23ms/step - loss: 0.3598 - accuracy: 0.8800 - recall_m: 1.1954 - precision_m: 3331.8418 - f1_m: 1.1289 - val_loss: 0.3608 - val_accuracy: 0.8784 - val_recall_m: 1.1761 - val_precision_m: 1.0725 - val_f1_m: 1.1043\n",
            "Epoch 14/100\n",
            "2627/2627 [==============================] - 61s 23ms/step - loss: 0.3515 - accuracy: 0.8825 - recall_m: 1.1939 - precision_m: 1.0996 - f1_m: 1.1248 - val_loss: 0.3571 - val_accuracy: 0.8803 - val_recall_m: 1.1721 - val_precision_m: 1.0711 - val_f1_m: 1.1010\n",
            "Epoch 15/100\n",
            "2627/2627 [==============================] - 62s 24ms/step - loss: 0.3456 - accuracy: 0.8854 - recall_m: 1.1886 - precision_m: 1.0944 - f1_m: 1.1193 - val_loss: 0.3535 - val_accuracy: 0.8822 - val_recall_m: 1.1649 - val_precision_m: 1.0562 - val_f1_m: 1.0908\n",
            "Epoch 16/100\n",
            "2627/2627 [==============================] - 61s 23ms/step - loss: 0.3409 - accuracy: 0.8857 - recall_m: 1.1870 - precision_m: 1.0914 - f1_m: 1.1175 - val_loss: 0.3475 - val_accuracy: 0.8826 - val_recall_m: 1.1723 - val_precision_m: 1.0654 - val_f1_m: 1.0983\n",
            "Epoch 17/100\n",
            "2627/2627 [==============================] - 61s 23ms/step - loss: 0.3343 - accuracy: 0.8881 - recall_m: 1.1850 - precision_m: 1.0865 - f1_m: 1.1142 - val_loss: 0.3456 - val_accuracy: 0.8831 - val_recall_m: 1.1673 - val_precision_m: 1.0585 - val_f1_m: 1.0923\n",
            "Epoch 18/100\n",
            "2627/2627 [==============================] - 61s 23ms/step - loss: 0.3293 - accuracy: 0.8894 - recall_m: 1.1840 - precision_m: 1.0815 - f1_m: 1.1115 - val_loss: 0.3416 - val_accuracy: 0.8843 - val_recall_m: 1.1670 - val_precision_m: 1.0548 - val_f1_m: 1.0907\n",
            "Epoch 19/100\n",
            "2627/2627 [==============================] - 60s 23ms/step - loss: 0.3245 - accuracy: 0.8914 - recall_m: 1.1810 - precision_m: 1.0783 - f1_m: 1.1082 - val_loss: 0.3388 - val_accuracy: 0.8861 - val_recall_m: 1.1637 - val_precision_m: 1.0537 - val_f1_m: 1.0883\n",
            "Epoch 20/100\n",
            "2627/2627 [==============================] - 61s 23ms/step - loss: 0.3194 - accuracy: 0.8922 - recall_m: 1.1800 - precision_m: 1.0744 - f1_m: 1.1062 - val_loss: 0.3373 - val_accuracy: 0.8869 - val_recall_m: 1.1661 - val_precision_m: 1.0539 - val_f1_m: 1.0896\n",
            "Epoch 21/100\n",
            "2627/2627 [==============================] - 62s 24ms/step - loss: 0.3156 - accuracy: 0.8942 - recall_m: 1.1807 - precision_m: 1428.5532 - f1_m: 1.1049 - val_loss: 0.3370 - val_accuracy: 0.8867 - val_recall_m: 1.1608 - val_precision_m: 1.0462 - val_f1_m: 1.0839\n",
            "Epoch 22/100\n",
            "2627/2627 [==============================] - 61s 23ms/step - loss: 0.3117 - accuracy: 0.8959 - recall_m: 1.1760 - precision_m: 1.0660 - f1_m: 1.1001 - val_loss: 0.3319 - val_accuracy: 0.8885 - val_recall_m: 1.1656 - val_precision_m: 1.0498 - val_f1_m: 1.0878\n",
            "Epoch 23/100\n",
            "2627/2627 [==============================] - 61s 23ms/step - loss: 0.3082 - accuracy: 0.8962 - recall_m: 1.1758 - precision_m: 1.0652 - f1_m: 1.0997 - val_loss: 0.3288 - val_accuracy: 0.8900 - val_recall_m: 1.1677 - val_precision_m: 1.0524 - val_f1_m: 1.0900\n",
            "Epoch 24/100\n",
            "2627/2627 [==============================] - 61s 23ms/step - loss: 0.3041 - accuracy: 0.8969 - recall_m: 1.1744 - precision_m: 1.0616 - f1_m: 1.0974 - val_loss: 0.3279 - val_accuracy: 0.8898 - val_recall_m: 1.1629 - val_precision_m: 1.0440 - val_f1_m: 1.0834\n",
            "Epoch 25/100\n",
            "2627/2627 [==============================] - 61s 23ms/step - loss: 0.2989 - accuracy: 0.8987 - recall_m: 1.1740 - precision_m: 1.0602 - f1_m: 1.0965 - val_loss: 0.3253 - val_accuracy: 0.8906 - val_recall_m: 1.1617 - val_precision_m: 1.0452 - val_f1_m: 1.0840\n",
            "Epoch 26/100\n",
            "2627/2627 [==============================] - 61s 23ms/step - loss: 0.2969 - accuracy: 0.9005 - recall_m: 1.1719 - precision_m: 1.0572 - f1_m: 1.0940 - val_loss: 0.3242 - val_accuracy: 0.8908 - val_recall_m: 1.1563 - val_precision_m: 1.0380 - val_f1_m: 1.0779\n",
            "Epoch 27/100\n",
            "2627/2627 [==============================] - 62s 24ms/step - loss: 0.2941 - accuracy: 0.9002 - recall_m: 1.1710 - precision_m: 1.0548 - f1_m: 1.0926 - val_loss: 0.3228 - val_accuracy: 0.8906 - val_recall_m: 1.1590 - val_precision_m: 1.0385 - val_f1_m: 1.0795\n",
            "Epoch 28/100\n",
            "2627/2627 [==============================] - 60s 23ms/step - loss: 0.2899 - accuracy: 0.9018 - recall_m: 1.1680 - precision_m: 1.0506 - f1_m: 1.0888 - val_loss: 0.3209 - val_accuracy: 0.8927 - val_recall_m: 1.1569 - val_precision_m: 1.0376 - val_f1_m: 1.0780\n",
            "Epoch 29/100\n",
            "2627/2627 [==============================] - 60s 23ms/step - loss: 0.2870 - accuracy: 0.9030 - recall_m: 1.1655 - precision_m: 1.0481 - f1_m: 1.0865 - val_loss: 0.3193 - val_accuracy: 0.8923 - val_recall_m: 1.1547 - val_precision_m: 1.0341 - val_f1_m: 1.0751\n",
            "Epoch 30/100\n",
            "2627/2627 [==============================] - 61s 23ms/step - loss: 0.2836 - accuracy: 0.9036 - recall_m: 1.1664 - precision_m: 1.0462 - f1_m: 1.0860 - val_loss: 0.3184 - val_accuracy: 0.8930 - val_recall_m: 1.1543 - val_precision_m: 1.0345 - val_f1_m: 1.0753\n",
            "Epoch 31/100\n",
            "2627/2627 [==============================] - 60s 23ms/step - loss: 0.2805 - accuracy: 0.9058 - recall_m: 1.1661 - precision_m: 1.0472 - f1_m: 1.0860 - val_loss: 0.3159 - val_accuracy: 0.8946 - val_recall_m: 1.1545 - val_precision_m: 1.0322 - val_f1_m: 1.0740\n",
            "Epoch 32/100\n",
            "2627/2627 [==============================] - 60s 23ms/step - loss: 0.2769 - accuracy: 0.9062 - recall_m: 1.1629 - precision_m: 1.0445 - f1_m: 1.0835 - val_loss: 0.3175 - val_accuracy: 0.8929 - val_recall_m: 1.1550 - val_precision_m: 1.0315 - val_f1_m: 1.0738\n",
            "Epoch 33/100\n",
            "2627/2627 [==============================] - 56s 21ms/step - loss: 0.2737 - accuracy: 0.9077 - recall_m: 1.1622 - precision_m: 1.0424 - f1_m: 1.0818 - val_loss: 0.3145 - val_accuracy: 0.8950 - val_recall_m: 1.1497 - val_precision_m: 1.0247 - val_f1_m: 1.0680\n",
            "Epoch 34/100\n",
            "2627/2627 [==============================] - 61s 23ms/step - loss: 0.2710 - accuracy: 0.9079 - recall_m: 1.1587 - precision_m: 1.0366 - f1_m: 1.0775 - val_loss: 0.3140 - val_accuracy: 0.8942 - val_recall_m: 1.1528 - val_precision_m: 1.0309 - val_f1_m: 1.0724\n",
            "Epoch 35/100\n",
            "2627/2627 [==============================] - 60s 23ms/step - loss: 0.2684 - accuracy: 0.9086 - recall_m: 1.1590 - precision_m: 1.0383 - f1_m: 1.0782 - val_loss: 0.3157 - val_accuracy: 0.8943 - val_recall_m: 1.1515 - val_precision_m: 1.0277 - val_f1_m: 1.0705\n",
            "Epoch 36/100\n",
            "1867/2627 [====================>.........] - ETA: 15s - loss: 0.2633 - accuracy: 0.9102 - recall_m: 1.1594 - precision_m: 1.0362 - f1_m: 1.0774"
          ]
        },
        {
          "output_type": "error",
          "ename": "KeyboardInterrupt",
          "evalue": "ignored",
          "traceback": [
            "\u001b[0;31m---------------------------------------------------------------------------\u001b[0m",
            "\u001b[0;31mKeyboardInterrupt\u001b[0m                         Traceback (most recent call last)",
            "\u001b[0;32m<ipython-input-33-52c98f782027>\u001b[0m in \u001b[0;36m<module>\u001b[0;34m()\u001b[0m\n\u001b[1;32m     14\u001b[0m                   \u001b[0mepochs\u001b[0m\u001b[0;34m=\u001b[0m\u001b[0;36m100\u001b[0m\u001b[0;34m,\u001b[0m\u001b[0;34m\u001b[0m\u001b[0;34m\u001b[0m\u001b[0m\n\u001b[1;32m     15\u001b[0m                   \u001b[0mcallbacks\u001b[0m\u001b[0;34m=\u001b[0m\u001b[0;34m[\u001b[0m\u001b[0mcheckpoint\u001b[0m\u001b[0;34m,\u001b[0m \u001b[0mcheckpoint1\u001b[0m\u001b[0;34m,\u001b[0m \u001b[0mGarbageCollectorCallback\u001b[0m\u001b[0;34m(\u001b[0m\u001b[0;34m)\u001b[0m\u001b[0;34m,\u001b[0m\u001b[0mcheckpoint2\u001b[0m\u001b[0;34m]\u001b[0m\u001b[0;34m,\u001b[0m\u001b[0;34m\u001b[0m\u001b[0;34m\u001b[0m\u001b[0m\n\u001b[0;32m---> 16\u001b[0;31m                   \u001b[0mvalidation_data\u001b[0m\u001b[0;34m=\u001b[0m\u001b[0;34m(\u001b[0m\u001b[0mX_test\u001b[0m\u001b[0;34m,\u001b[0m\u001b[0my_test\u001b[0m\u001b[0;34m)\u001b[0m\u001b[0;34m,\u001b[0m\u001b[0;34m\u001b[0m\u001b[0;34m\u001b[0m\u001b[0m\n\u001b[0m\u001b[1;32m     17\u001b[0m \u001b[0;34m\u001b[0m\u001b[0m\n\u001b[1;32m     18\u001b[0m )\n",
            "\u001b[0;32m/usr/local/lib/python3.7/dist-packages/keras/engine/training.py\u001b[0m in \u001b[0;36mfit\u001b[0;34m(self, x, y, batch_size, epochs, verbose, callbacks, validation_split, validation_data, shuffle, class_weight, sample_weight, initial_epoch, steps_per_epoch, validation_steps, validation_batch_size, validation_freq, max_queue_size, workers, use_multiprocessing)\u001b[0m\n\u001b[1;32m   1187\u001b[0m               \u001b[0mlogs\u001b[0m \u001b[0;34m=\u001b[0m \u001b[0mtmp_logs\u001b[0m  \u001b[0;31m# No error, now safe to assign to logs.\u001b[0m\u001b[0;34m\u001b[0m\u001b[0;34m\u001b[0m\u001b[0m\n\u001b[1;32m   1188\u001b[0m               \u001b[0mend_step\u001b[0m \u001b[0;34m=\u001b[0m \u001b[0mstep\u001b[0m \u001b[0;34m+\u001b[0m \u001b[0mdata_handler\u001b[0m\u001b[0;34m.\u001b[0m\u001b[0mstep_increment\u001b[0m\u001b[0;34m\u001b[0m\u001b[0;34m\u001b[0m\u001b[0m\n\u001b[0;32m-> 1189\u001b[0;31m               \u001b[0mcallbacks\u001b[0m\u001b[0;34m.\u001b[0m\u001b[0mon_train_batch_end\u001b[0m\u001b[0;34m(\u001b[0m\u001b[0mend_step\u001b[0m\u001b[0;34m,\u001b[0m \u001b[0mlogs\u001b[0m\u001b[0;34m)\u001b[0m\u001b[0;34m\u001b[0m\u001b[0;34m\u001b[0m\u001b[0m\n\u001b[0m\u001b[1;32m   1190\u001b[0m               \u001b[0;32mif\u001b[0m \u001b[0mself\u001b[0m\u001b[0;34m.\u001b[0m\u001b[0mstop_training\u001b[0m\u001b[0;34m:\u001b[0m\u001b[0;34m\u001b[0m\u001b[0;34m\u001b[0m\u001b[0m\n\u001b[1;32m   1191\u001b[0m                 \u001b[0;32mbreak\u001b[0m\u001b[0;34m\u001b[0m\u001b[0;34m\u001b[0m\u001b[0m\n",
            "\u001b[0;32m/usr/local/lib/python3.7/dist-packages/keras/callbacks.py\u001b[0m in \u001b[0;36mon_train_batch_end\u001b[0;34m(self, batch, logs)\u001b[0m\n\u001b[1;32m    433\u001b[0m     \"\"\"\n\u001b[1;32m    434\u001b[0m     \u001b[0;32mif\u001b[0m \u001b[0mself\u001b[0m\u001b[0;34m.\u001b[0m\u001b[0m_should_call_train_batch_hooks\u001b[0m\u001b[0;34m:\u001b[0m\u001b[0;34m\u001b[0m\u001b[0;34m\u001b[0m\u001b[0m\n\u001b[0;32m--> 435\u001b[0;31m       \u001b[0mself\u001b[0m\u001b[0;34m.\u001b[0m\u001b[0m_call_batch_hook\u001b[0m\u001b[0;34m(\u001b[0m\u001b[0mModeKeys\u001b[0m\u001b[0;34m.\u001b[0m\u001b[0mTRAIN\u001b[0m\u001b[0;34m,\u001b[0m \u001b[0;34m'end'\u001b[0m\u001b[0;34m,\u001b[0m \u001b[0mbatch\u001b[0m\u001b[0;34m,\u001b[0m \u001b[0mlogs\u001b[0m\u001b[0;34m=\u001b[0m\u001b[0mlogs\u001b[0m\u001b[0;34m)\u001b[0m\u001b[0;34m\u001b[0m\u001b[0;34m\u001b[0m\u001b[0m\n\u001b[0m\u001b[1;32m    436\u001b[0m \u001b[0;34m\u001b[0m\u001b[0m\n\u001b[1;32m    437\u001b[0m   \u001b[0;32mdef\u001b[0m \u001b[0mon_test_batch_begin\u001b[0m\u001b[0;34m(\u001b[0m\u001b[0mself\u001b[0m\u001b[0;34m,\u001b[0m \u001b[0mbatch\u001b[0m\u001b[0;34m,\u001b[0m \u001b[0mlogs\u001b[0m\u001b[0;34m=\u001b[0m\u001b[0;32mNone\u001b[0m\u001b[0;34m)\u001b[0m\u001b[0;34m:\u001b[0m\u001b[0;34m\u001b[0m\u001b[0;34m\u001b[0m\u001b[0m\n",
            "\u001b[0;32m/usr/local/lib/python3.7/dist-packages/keras/callbacks.py\u001b[0m in \u001b[0;36m_call_batch_hook\u001b[0;34m(self, mode, hook, batch, logs)\u001b[0m\n\u001b[1;32m    293\u001b[0m       \u001b[0mself\u001b[0m\u001b[0;34m.\u001b[0m\u001b[0m_call_batch_begin_hook\u001b[0m\u001b[0;34m(\u001b[0m\u001b[0mmode\u001b[0m\u001b[0;34m,\u001b[0m \u001b[0mbatch\u001b[0m\u001b[0;34m,\u001b[0m \u001b[0mlogs\u001b[0m\u001b[0;34m)\u001b[0m\u001b[0;34m\u001b[0m\u001b[0;34m\u001b[0m\u001b[0m\n\u001b[1;32m    294\u001b[0m     \u001b[0;32melif\u001b[0m \u001b[0mhook\u001b[0m \u001b[0;34m==\u001b[0m \u001b[0;34m'end'\u001b[0m\u001b[0;34m:\u001b[0m\u001b[0;34m\u001b[0m\u001b[0;34m\u001b[0m\u001b[0m\n\u001b[0;32m--> 295\u001b[0;31m       \u001b[0mself\u001b[0m\u001b[0;34m.\u001b[0m\u001b[0m_call_batch_end_hook\u001b[0m\u001b[0;34m(\u001b[0m\u001b[0mmode\u001b[0m\u001b[0;34m,\u001b[0m \u001b[0mbatch\u001b[0m\u001b[0;34m,\u001b[0m \u001b[0mlogs\u001b[0m\u001b[0;34m)\u001b[0m\u001b[0;34m\u001b[0m\u001b[0;34m\u001b[0m\u001b[0m\n\u001b[0m\u001b[1;32m    296\u001b[0m     \u001b[0;32melse\u001b[0m\u001b[0;34m:\u001b[0m\u001b[0;34m\u001b[0m\u001b[0;34m\u001b[0m\u001b[0m\n\u001b[1;32m    297\u001b[0m       \u001b[0;32mraise\u001b[0m \u001b[0mValueError\u001b[0m\u001b[0;34m(\u001b[0m\u001b[0;34m'Unrecognized hook: {}'\u001b[0m\u001b[0;34m.\u001b[0m\u001b[0mformat\u001b[0m\u001b[0;34m(\u001b[0m\u001b[0mhook\u001b[0m\u001b[0;34m)\u001b[0m\u001b[0;34m)\u001b[0m\u001b[0;34m\u001b[0m\u001b[0;34m\u001b[0m\u001b[0m\n",
            "\u001b[0;32m/usr/local/lib/python3.7/dist-packages/keras/callbacks.py\u001b[0m in \u001b[0;36m_call_batch_end_hook\u001b[0;34m(self, mode, batch, logs)\u001b[0m\n\u001b[1;32m    313\u001b[0m       \u001b[0mself\u001b[0m\u001b[0;34m.\u001b[0m\u001b[0m_batch_times\u001b[0m\u001b[0;34m.\u001b[0m\u001b[0mappend\u001b[0m\u001b[0;34m(\u001b[0m\u001b[0mbatch_time\u001b[0m\u001b[0;34m)\u001b[0m\u001b[0;34m\u001b[0m\u001b[0;34m\u001b[0m\u001b[0m\n\u001b[1;32m    314\u001b[0m \u001b[0;34m\u001b[0m\u001b[0m\n\u001b[0;32m--> 315\u001b[0;31m     \u001b[0mself\u001b[0m\u001b[0;34m.\u001b[0m\u001b[0m_call_batch_hook_helper\u001b[0m\u001b[0;34m(\u001b[0m\u001b[0mhook_name\u001b[0m\u001b[0;34m,\u001b[0m \u001b[0mbatch\u001b[0m\u001b[0;34m,\u001b[0m \u001b[0mlogs\u001b[0m\u001b[0;34m)\u001b[0m\u001b[0;34m\u001b[0m\u001b[0;34m\u001b[0m\u001b[0m\n\u001b[0m\u001b[1;32m    316\u001b[0m \u001b[0;34m\u001b[0m\u001b[0m\n\u001b[1;32m    317\u001b[0m     \u001b[0;32mif\u001b[0m \u001b[0mlen\u001b[0m\u001b[0;34m(\u001b[0m\u001b[0mself\u001b[0m\u001b[0;34m.\u001b[0m\u001b[0m_batch_times\u001b[0m\u001b[0;34m)\u001b[0m \u001b[0;34m>=\u001b[0m \u001b[0mself\u001b[0m\u001b[0;34m.\u001b[0m\u001b[0m_num_batches_for_timing_check\u001b[0m\u001b[0;34m:\u001b[0m\u001b[0;34m\u001b[0m\u001b[0;34m\u001b[0m\u001b[0m\n",
            "\u001b[0;32m/usr/local/lib/python3.7/dist-packages/keras/callbacks.py\u001b[0m in \u001b[0;36m_call_batch_hook_helper\u001b[0;34m(self, hook_name, batch, logs)\u001b[0m\n\u001b[1;32m    351\u001b[0m     \u001b[0;32mfor\u001b[0m \u001b[0mcallback\u001b[0m \u001b[0;32min\u001b[0m \u001b[0mself\u001b[0m\u001b[0;34m.\u001b[0m\u001b[0mcallbacks\u001b[0m\u001b[0;34m:\u001b[0m\u001b[0;34m\u001b[0m\u001b[0;34m\u001b[0m\u001b[0m\n\u001b[1;32m    352\u001b[0m       \u001b[0mhook\u001b[0m \u001b[0;34m=\u001b[0m \u001b[0mgetattr\u001b[0m\u001b[0;34m(\u001b[0m\u001b[0mcallback\u001b[0m\u001b[0;34m,\u001b[0m \u001b[0mhook_name\u001b[0m\u001b[0;34m)\u001b[0m\u001b[0;34m\u001b[0m\u001b[0;34m\u001b[0m\u001b[0m\n\u001b[0;32m--> 353\u001b[0;31m       \u001b[0mhook\u001b[0m\u001b[0;34m(\u001b[0m\u001b[0mbatch\u001b[0m\u001b[0;34m,\u001b[0m \u001b[0mlogs\u001b[0m\u001b[0;34m)\u001b[0m\u001b[0;34m\u001b[0m\u001b[0;34m\u001b[0m\u001b[0m\n\u001b[0m\u001b[1;32m    354\u001b[0m \u001b[0;34m\u001b[0m\u001b[0m\n\u001b[1;32m    355\u001b[0m     \u001b[0;32mif\u001b[0m \u001b[0mself\u001b[0m\u001b[0;34m.\u001b[0m\u001b[0m_check_timing\u001b[0m\u001b[0;34m:\u001b[0m\u001b[0;34m\u001b[0m\u001b[0;34m\u001b[0m\u001b[0m\n",
            "\u001b[0;32m/usr/local/lib/python3.7/dist-packages/keras/callbacks.py\u001b[0m in \u001b[0;36mon_train_batch_end\u001b[0;34m(self, batch, logs)\u001b[0m\n\u001b[1;32m   1026\u001b[0m \u001b[0;34m\u001b[0m\u001b[0m\n\u001b[1;32m   1027\u001b[0m   \u001b[0;32mdef\u001b[0m \u001b[0mon_train_batch_end\u001b[0m\u001b[0;34m(\u001b[0m\u001b[0mself\u001b[0m\u001b[0;34m,\u001b[0m \u001b[0mbatch\u001b[0m\u001b[0;34m,\u001b[0m \u001b[0mlogs\u001b[0m\u001b[0;34m=\u001b[0m\u001b[0;32mNone\u001b[0m\u001b[0;34m)\u001b[0m\u001b[0;34m:\u001b[0m\u001b[0;34m\u001b[0m\u001b[0;34m\u001b[0m\u001b[0m\n\u001b[0;32m-> 1028\u001b[0;31m     \u001b[0mself\u001b[0m\u001b[0;34m.\u001b[0m\u001b[0m_batch_update_progbar\u001b[0m\u001b[0;34m(\u001b[0m\u001b[0mbatch\u001b[0m\u001b[0;34m,\u001b[0m \u001b[0mlogs\u001b[0m\u001b[0;34m)\u001b[0m\u001b[0;34m\u001b[0m\u001b[0;34m\u001b[0m\u001b[0m\n\u001b[0m\u001b[1;32m   1029\u001b[0m \u001b[0;34m\u001b[0m\u001b[0m\n\u001b[1;32m   1030\u001b[0m   \u001b[0;32mdef\u001b[0m \u001b[0mon_test_batch_end\u001b[0m\u001b[0;34m(\u001b[0m\u001b[0mself\u001b[0m\u001b[0;34m,\u001b[0m \u001b[0mbatch\u001b[0m\u001b[0;34m,\u001b[0m \u001b[0mlogs\u001b[0m\u001b[0;34m=\u001b[0m\u001b[0;32mNone\u001b[0m\u001b[0;34m)\u001b[0m\u001b[0;34m:\u001b[0m\u001b[0;34m\u001b[0m\u001b[0;34m\u001b[0m\u001b[0m\n",
            "\u001b[0;32m/usr/local/lib/python3.7/dist-packages/keras/callbacks.py\u001b[0m in \u001b[0;36m_batch_update_progbar\u001b[0;34m(self, batch, logs)\u001b[0m\n\u001b[1;32m   1098\u001b[0m     \u001b[0;32mif\u001b[0m \u001b[0mself\u001b[0m\u001b[0;34m.\u001b[0m\u001b[0mverbose\u001b[0m \u001b[0;34m==\u001b[0m \u001b[0;36m1\u001b[0m\u001b[0;34m:\u001b[0m\u001b[0;34m\u001b[0m\u001b[0;34m\u001b[0m\u001b[0m\n\u001b[1;32m   1099\u001b[0m       \u001b[0;31m# Only block async when verbose = 1.\u001b[0m\u001b[0;34m\u001b[0m\u001b[0;34m\u001b[0m\u001b[0;34m\u001b[0m\u001b[0m\n\u001b[0;32m-> 1100\u001b[0;31m       \u001b[0mlogs\u001b[0m \u001b[0;34m=\u001b[0m \u001b[0mtf_utils\u001b[0m\u001b[0;34m.\u001b[0m\u001b[0msync_to_numpy_or_python_type\u001b[0m\u001b[0;34m(\u001b[0m\u001b[0mlogs\u001b[0m\u001b[0;34m)\u001b[0m\u001b[0;34m\u001b[0m\u001b[0;34m\u001b[0m\u001b[0m\n\u001b[0m\u001b[1;32m   1101\u001b[0m       \u001b[0mself\u001b[0m\u001b[0;34m.\u001b[0m\u001b[0mprogbar\u001b[0m\u001b[0;34m.\u001b[0m\u001b[0mupdate\u001b[0m\u001b[0;34m(\u001b[0m\u001b[0mself\u001b[0m\u001b[0;34m.\u001b[0m\u001b[0mseen\u001b[0m\u001b[0;34m,\u001b[0m \u001b[0mlist\u001b[0m\u001b[0;34m(\u001b[0m\u001b[0mlogs\u001b[0m\u001b[0;34m.\u001b[0m\u001b[0mitems\u001b[0m\u001b[0;34m(\u001b[0m\u001b[0;34m)\u001b[0m\u001b[0;34m)\u001b[0m\u001b[0;34m,\u001b[0m \u001b[0mfinalize\u001b[0m\u001b[0;34m=\u001b[0m\u001b[0;32mFalse\u001b[0m\u001b[0;34m)\u001b[0m\u001b[0;34m\u001b[0m\u001b[0;34m\u001b[0m\u001b[0m\n\u001b[1;32m   1102\u001b[0m \u001b[0;34m\u001b[0m\u001b[0m\n",
            "\u001b[0;32m/usr/local/lib/python3.7/dist-packages/keras/utils/tf_utils.py\u001b[0m in \u001b[0;36msync_to_numpy_or_python_type\u001b[0;34m(tensors)\u001b[0m\n\u001b[1;32m    514\u001b[0m     \u001b[0;32mreturn\u001b[0m \u001b[0mt\u001b[0m  \u001b[0;31m# Don't turn ragged or sparse tensors to NumPy.\u001b[0m\u001b[0;34m\u001b[0m\u001b[0;34m\u001b[0m\u001b[0m\n\u001b[1;32m    515\u001b[0m \u001b[0;34m\u001b[0m\u001b[0m\n\u001b[0;32m--> 516\u001b[0;31m   \u001b[0;32mreturn\u001b[0m \u001b[0mtf\u001b[0m\u001b[0;34m.\u001b[0m\u001b[0mnest\u001b[0m\u001b[0;34m.\u001b[0m\u001b[0mmap_structure\u001b[0m\u001b[0;34m(\u001b[0m\u001b[0m_to_single_numpy_or_python_type\u001b[0m\u001b[0;34m,\u001b[0m \u001b[0mtensors\u001b[0m\u001b[0;34m)\u001b[0m\u001b[0;34m\u001b[0m\u001b[0;34m\u001b[0m\u001b[0m\n\u001b[0m\u001b[1;32m    517\u001b[0m \u001b[0;34m\u001b[0m\u001b[0m\n\u001b[1;32m    518\u001b[0m \u001b[0;34m\u001b[0m\u001b[0m\n",
            "\u001b[0;32m/usr/local/lib/python3.7/dist-packages/tensorflow/python/util/nest.py\u001b[0m in \u001b[0;36mmap_structure\u001b[0;34m(func, *structure, **kwargs)\u001b[0m\n\u001b[1;32m    867\u001b[0m \u001b[0;34m\u001b[0m\u001b[0m\n\u001b[1;32m    868\u001b[0m   return pack_sequence_as(\n\u001b[0;32m--> 869\u001b[0;31m       \u001b[0mstructure\u001b[0m\u001b[0;34m[\u001b[0m\u001b[0;36m0\u001b[0m\u001b[0;34m]\u001b[0m\u001b[0;34m,\u001b[0m \u001b[0;34m[\u001b[0m\u001b[0mfunc\u001b[0m\u001b[0;34m(\u001b[0m\u001b[0;34m*\u001b[0m\u001b[0mx\u001b[0m\u001b[0;34m)\u001b[0m \u001b[0;32mfor\u001b[0m \u001b[0mx\u001b[0m \u001b[0;32min\u001b[0m \u001b[0mentries\u001b[0m\u001b[0;34m]\u001b[0m\u001b[0;34m,\u001b[0m\u001b[0;34m\u001b[0m\u001b[0;34m\u001b[0m\u001b[0m\n\u001b[0m\u001b[1;32m    870\u001b[0m       expand_composites=expand_composites)\n\u001b[1;32m    871\u001b[0m \u001b[0;34m\u001b[0m\u001b[0m\n",
            "\u001b[0;32m/usr/local/lib/python3.7/dist-packages/tensorflow/python/util/nest.py\u001b[0m in \u001b[0;36m<listcomp>\u001b[0;34m(.0)\u001b[0m\n\u001b[1;32m    867\u001b[0m \u001b[0;34m\u001b[0m\u001b[0m\n\u001b[1;32m    868\u001b[0m   return pack_sequence_as(\n\u001b[0;32m--> 869\u001b[0;31m       \u001b[0mstructure\u001b[0m\u001b[0;34m[\u001b[0m\u001b[0;36m0\u001b[0m\u001b[0;34m]\u001b[0m\u001b[0;34m,\u001b[0m \u001b[0;34m[\u001b[0m\u001b[0mfunc\u001b[0m\u001b[0;34m(\u001b[0m\u001b[0;34m*\u001b[0m\u001b[0mx\u001b[0m\u001b[0;34m)\u001b[0m \u001b[0;32mfor\u001b[0m \u001b[0mx\u001b[0m \u001b[0;32min\u001b[0m \u001b[0mentries\u001b[0m\u001b[0;34m]\u001b[0m\u001b[0;34m,\u001b[0m\u001b[0;34m\u001b[0m\u001b[0;34m\u001b[0m\u001b[0m\n\u001b[0m\u001b[1;32m    870\u001b[0m       expand_composites=expand_composites)\n\u001b[1;32m    871\u001b[0m \u001b[0;34m\u001b[0m\u001b[0m\n",
            "\u001b[0;32m/usr/local/lib/python3.7/dist-packages/keras/utils/tf_utils.py\u001b[0m in \u001b[0;36m_to_single_numpy_or_python_type\u001b[0;34m(t)\u001b[0m\n\u001b[1;32m    510\u001b[0m   \u001b[0;32mdef\u001b[0m \u001b[0m_to_single_numpy_or_python_type\u001b[0m\u001b[0;34m(\u001b[0m\u001b[0mt\u001b[0m\u001b[0;34m)\u001b[0m\u001b[0;34m:\u001b[0m\u001b[0;34m\u001b[0m\u001b[0;34m\u001b[0m\u001b[0m\n\u001b[1;32m    511\u001b[0m     \u001b[0;32mif\u001b[0m \u001b[0misinstance\u001b[0m\u001b[0;34m(\u001b[0m\u001b[0mt\u001b[0m\u001b[0;34m,\u001b[0m \u001b[0mtf\u001b[0m\u001b[0;34m.\u001b[0m\u001b[0mTensor\u001b[0m\u001b[0;34m)\u001b[0m\u001b[0;34m:\u001b[0m\u001b[0;34m\u001b[0m\u001b[0;34m\u001b[0m\u001b[0m\n\u001b[0;32m--> 512\u001b[0;31m       \u001b[0mx\u001b[0m \u001b[0;34m=\u001b[0m \u001b[0mt\u001b[0m\u001b[0;34m.\u001b[0m\u001b[0mnumpy\u001b[0m\u001b[0;34m(\u001b[0m\u001b[0;34m)\u001b[0m\u001b[0;34m\u001b[0m\u001b[0;34m\u001b[0m\u001b[0m\n\u001b[0m\u001b[1;32m    513\u001b[0m       \u001b[0;32mreturn\u001b[0m \u001b[0mx\u001b[0m\u001b[0;34m.\u001b[0m\u001b[0mitem\u001b[0m\u001b[0;34m(\u001b[0m\u001b[0;34m)\u001b[0m \u001b[0;32mif\u001b[0m \u001b[0mnp\u001b[0m\u001b[0;34m.\u001b[0m\u001b[0mndim\u001b[0m\u001b[0;34m(\u001b[0m\u001b[0mx\u001b[0m\u001b[0;34m)\u001b[0m \u001b[0;34m==\u001b[0m \u001b[0;36m0\u001b[0m \u001b[0;32melse\u001b[0m \u001b[0mx\u001b[0m\u001b[0;34m\u001b[0m\u001b[0;34m\u001b[0m\u001b[0m\n\u001b[1;32m    514\u001b[0m     \u001b[0;32mreturn\u001b[0m \u001b[0mt\u001b[0m  \u001b[0;31m# Don't turn ragged or sparse tensors to NumPy.\u001b[0m\u001b[0;34m\u001b[0m\u001b[0;34m\u001b[0m\u001b[0m\n",
            "\u001b[0;32m/usr/local/lib/python3.7/dist-packages/tensorflow/python/framework/ops.py\u001b[0m in \u001b[0;36mnumpy\u001b[0;34m(self)\u001b[0m\n\u001b[1;32m   1092\u001b[0m     \"\"\"\n\u001b[1;32m   1093\u001b[0m     \u001b[0;31m# TODO(slebedev): Consider avoiding a copy for non-CPU or remote tensors.\u001b[0m\u001b[0;34m\u001b[0m\u001b[0;34m\u001b[0m\u001b[0;34m\u001b[0m\u001b[0m\n\u001b[0;32m-> 1094\u001b[0;31m     \u001b[0mmaybe_arr\u001b[0m \u001b[0;34m=\u001b[0m \u001b[0mself\u001b[0m\u001b[0;34m.\u001b[0m\u001b[0m_numpy\u001b[0m\u001b[0;34m(\u001b[0m\u001b[0;34m)\u001b[0m  \u001b[0;31m# pylint: disable=protected-access\u001b[0m\u001b[0;34m\u001b[0m\u001b[0;34m\u001b[0m\u001b[0m\n\u001b[0m\u001b[1;32m   1095\u001b[0m     \u001b[0;32mreturn\u001b[0m \u001b[0mmaybe_arr\u001b[0m\u001b[0;34m.\u001b[0m\u001b[0mcopy\u001b[0m\u001b[0;34m(\u001b[0m\u001b[0;34m)\u001b[0m \u001b[0;32mif\u001b[0m \u001b[0misinstance\u001b[0m\u001b[0;34m(\u001b[0m\u001b[0mmaybe_arr\u001b[0m\u001b[0;34m,\u001b[0m \u001b[0mnp\u001b[0m\u001b[0;34m.\u001b[0m\u001b[0mndarray\u001b[0m\u001b[0;34m)\u001b[0m \u001b[0;32melse\u001b[0m \u001b[0mmaybe_arr\u001b[0m\u001b[0;34m\u001b[0m\u001b[0;34m\u001b[0m\u001b[0m\n\u001b[1;32m   1096\u001b[0m \u001b[0;34m\u001b[0m\u001b[0m\n",
            "\u001b[0;32m/usr/local/lib/python3.7/dist-packages/tensorflow/python/framework/ops.py\u001b[0m in \u001b[0;36m_numpy\u001b[0;34m(self)\u001b[0m\n\u001b[1;32m   1058\u001b[0m   \u001b[0;32mdef\u001b[0m \u001b[0m_numpy\u001b[0m\u001b[0;34m(\u001b[0m\u001b[0mself\u001b[0m\u001b[0;34m)\u001b[0m\u001b[0;34m:\u001b[0m\u001b[0;34m\u001b[0m\u001b[0;34m\u001b[0m\u001b[0m\n\u001b[1;32m   1059\u001b[0m     \u001b[0;32mtry\u001b[0m\u001b[0;34m:\u001b[0m\u001b[0;34m\u001b[0m\u001b[0;34m\u001b[0m\u001b[0m\n\u001b[0;32m-> 1060\u001b[0;31m       \u001b[0;32mreturn\u001b[0m \u001b[0mself\u001b[0m\u001b[0;34m.\u001b[0m\u001b[0m_numpy_internal\u001b[0m\u001b[0;34m(\u001b[0m\u001b[0;34m)\u001b[0m\u001b[0;34m\u001b[0m\u001b[0;34m\u001b[0m\u001b[0m\n\u001b[0m\u001b[1;32m   1061\u001b[0m     \u001b[0;32mexcept\u001b[0m \u001b[0mcore\u001b[0m\u001b[0;34m.\u001b[0m\u001b[0m_NotOkStatusException\u001b[0m \u001b[0;32mas\u001b[0m \u001b[0me\u001b[0m\u001b[0;34m:\u001b[0m  \u001b[0;31m# pylint: disable=protected-access\u001b[0m\u001b[0;34m\u001b[0m\u001b[0;34m\u001b[0m\u001b[0m\n\u001b[1;32m   1062\u001b[0m       \u001b[0msix\u001b[0m\u001b[0;34m.\u001b[0m\u001b[0mraise_from\u001b[0m\u001b[0;34m(\u001b[0m\u001b[0mcore\u001b[0m\u001b[0;34m.\u001b[0m\u001b[0m_status_to_exception\u001b[0m\u001b[0;34m(\u001b[0m\u001b[0me\u001b[0m\u001b[0;34m.\u001b[0m\u001b[0mcode\u001b[0m\u001b[0;34m,\u001b[0m \u001b[0me\u001b[0m\u001b[0;34m.\u001b[0m\u001b[0mmessage\u001b[0m\u001b[0;34m)\u001b[0m\u001b[0;34m,\u001b[0m \u001b[0;32mNone\u001b[0m\u001b[0;34m)\u001b[0m  \u001b[0;31m# pylint: disable=protected-access\u001b[0m\u001b[0;34m\u001b[0m\u001b[0;34m\u001b[0m\u001b[0m\n",
            "\u001b[0;31mKeyboardInterrupt\u001b[0m: "
          ]
        }
      ]
    },
    {
      "cell_type": "code",
      "metadata": {
        "id": "46ZO0358yrSp",
        "colab": {
          "base_uri": "https://localhost:8080/"
        },
        "outputId": "cdf6883c-8487-44b2-ad34-78962eedddc7"
      },
      "source": [
        "gc.collect()"
      ],
      "execution_count": null,
      "outputs": [
        {
          "output_type": "execute_result",
          "data": {
            "text/plain": [
              "19322"
            ]
          },
          "metadata": {},
          "execution_count": 40
        }
      ]
    }
  ]
}