{
  "nbformat": 4,
  "nbformat_minor": 0,
  "metadata": {
    "accelerator": "GPU",
    "colab": {
      "name": "Evaluation of Bert.ipynb",
      "provenance": [],
      "toc_visible": true,
      "machine_shape": "hm",
      "include_colab_link": true
    },
    "kernelspec": {
      "display_name": "Python 3",
      "language": "python",
      "name": "python3"
    },
    "language_info": {
      "codemirror_mode": {
        "name": "ipython",
        "version": 3
      },
      "file_extension": ".py",
      "mimetype": "text/x-python",
      "name": "python",
      "nbconvert_exporter": "python",
      "pygments_lexer": "ipython3",
      "version": "3.6.4"
    },
    "widgets": {
      "application/vnd.jupyter.widget-state+json": {
        "e81d33c737dc49f8944a7cecfcca416e": {
          "model_module": "@jupyter-widgets/controls",
          "model_name": "HBoxModel",
          "model_module_version": "1.5.0",
          "state": {
            "_dom_classes": [],
            "_model_module": "@jupyter-widgets/controls",
            "_model_module_version": "1.5.0",
            "_model_name": "HBoxModel",
            "_view_count": null,
            "_view_module": "@jupyter-widgets/controls",
            "_view_module_version": "1.5.0",
            "_view_name": "HBoxView",
            "box_style": "",
            "children": [
              "IPY_MODEL_06ba6af5315548958c1a5d0d50b90c33",
              "IPY_MODEL_3053dc947f944b658ea68e8aed88a47b",
              "IPY_MODEL_26282707b39549cbace4aba93f468cf7"
            ],
            "layout": "IPY_MODEL_055722918d724d23b6a462889c1cf63e"
          }
        },
        "06ba6af5315548958c1a5d0d50b90c33": {
          "model_module": "@jupyter-widgets/controls",
          "model_name": "HTMLModel",
          "model_module_version": "1.5.0",
          "state": {
            "_dom_classes": [],
            "_model_module": "@jupyter-widgets/controls",
            "_model_module_version": "1.5.0",
            "_model_name": "HTMLModel",
            "_view_count": null,
            "_view_module": "@jupyter-widgets/controls",
            "_view_module_version": "1.5.0",
            "_view_name": "HTMLView",
            "description": "",
            "description_tooltip": null,
            "layout": "IPY_MODEL_2c39931152b046eda610ce3e2bbc9b0b",
            "placeholder": "​",
            "style": "IPY_MODEL_3a4967fb004f4e9a8289980148aedbd6",
            "value": "Downloading: 100%"
          }
        },
        "3053dc947f944b658ea68e8aed88a47b": {
          "model_module": "@jupyter-widgets/controls",
          "model_name": "FloatProgressModel",
          "model_module_version": "1.5.0",
          "state": {
            "_dom_classes": [],
            "_model_module": "@jupyter-widgets/controls",
            "_model_module_version": "1.5.0",
            "_model_name": "FloatProgressModel",
            "_view_count": null,
            "_view_module": "@jupyter-widgets/controls",
            "_view_module_version": "1.5.0",
            "_view_name": "ProgressView",
            "bar_style": "success",
            "description": "",
            "description_tooltip": null,
            "layout": "IPY_MODEL_2ad0d0cde4104986803a7242a4bfb105",
            "max": 491,
            "min": 0,
            "orientation": "horizontal",
            "style": "IPY_MODEL_59b9185bcc3e47f7989d446575e14d9d",
            "value": 491
          }
        },
        "26282707b39549cbace4aba93f468cf7": {
          "model_module": "@jupyter-widgets/controls",
          "model_name": "HTMLModel",
          "model_module_version": "1.5.0",
          "state": {
            "_dom_classes": [],
            "_model_module": "@jupyter-widgets/controls",
            "_model_module_version": "1.5.0",
            "_model_name": "HTMLModel",
            "_view_count": null,
            "_view_module": "@jupyter-widgets/controls",
            "_view_module_version": "1.5.0",
            "_view_name": "HTMLView",
            "description": "",
            "description_tooltip": null,
            "layout": "IPY_MODEL_94e06af45bfd4cb7bb47eb80e5fdb901",
            "placeholder": "​",
            "style": "IPY_MODEL_ce38bbb7c6b2498fbffbe0fea5abcf47",
            "value": " 491/491 [00:00&lt;00:00, 15.7kB/s]"
          }
        },
        "055722918d724d23b6a462889c1cf63e": {
          "model_module": "@jupyter-widgets/base",
          "model_name": "LayoutModel",
          "model_module_version": "1.2.0",
          "state": {
            "_model_module": "@jupyter-widgets/base",
            "_model_module_version": "1.2.0",
            "_model_name": "LayoutModel",
            "_view_count": null,
            "_view_module": "@jupyter-widgets/base",
            "_view_module_version": "1.2.0",
            "_view_name": "LayoutView",
            "align_content": null,
            "align_items": null,
            "align_self": null,
            "border": null,
            "bottom": null,
            "display": null,
            "flex": null,
            "flex_flow": null,
            "grid_area": null,
            "grid_auto_columns": null,
            "grid_auto_flow": null,
            "grid_auto_rows": null,
            "grid_column": null,
            "grid_gap": null,
            "grid_row": null,
            "grid_template_areas": null,
            "grid_template_columns": null,
            "grid_template_rows": null,
            "height": null,
            "justify_content": null,
            "justify_items": null,
            "left": null,
            "margin": null,
            "max_height": null,
            "max_width": null,
            "min_height": null,
            "min_width": null,
            "object_fit": null,
            "object_position": null,
            "order": null,
            "overflow": null,
            "overflow_x": null,
            "overflow_y": null,
            "padding": null,
            "right": null,
            "top": null,
            "visibility": null,
            "width": null
          }
        },
        "2c39931152b046eda610ce3e2bbc9b0b": {
          "model_module": "@jupyter-widgets/base",
          "model_name": "LayoutModel",
          "model_module_version": "1.2.0",
          "state": {
            "_model_module": "@jupyter-widgets/base",
            "_model_module_version": "1.2.0",
            "_model_name": "LayoutModel",
            "_view_count": null,
            "_view_module": "@jupyter-widgets/base",
            "_view_module_version": "1.2.0",
            "_view_name": "LayoutView",
            "align_content": null,
            "align_items": null,
            "align_self": null,
            "border": null,
            "bottom": null,
            "display": null,
            "flex": null,
            "flex_flow": null,
            "grid_area": null,
            "grid_auto_columns": null,
            "grid_auto_flow": null,
            "grid_auto_rows": null,
            "grid_column": null,
            "grid_gap": null,
            "grid_row": null,
            "grid_template_areas": null,
            "grid_template_columns": null,
            "grid_template_rows": null,
            "height": null,
            "justify_content": null,
            "justify_items": null,
            "left": null,
            "margin": null,
            "max_height": null,
            "max_width": null,
            "min_height": null,
            "min_width": null,
            "object_fit": null,
            "object_position": null,
            "order": null,
            "overflow": null,
            "overflow_x": null,
            "overflow_y": null,
            "padding": null,
            "right": null,
            "top": null,
            "visibility": null,
            "width": null
          }
        },
        "3a4967fb004f4e9a8289980148aedbd6": {
          "model_module": "@jupyter-widgets/controls",
          "model_name": "DescriptionStyleModel",
          "model_module_version": "1.5.0",
          "state": {
            "_model_module": "@jupyter-widgets/controls",
            "_model_module_version": "1.5.0",
            "_model_name": "DescriptionStyleModel",
            "_view_count": null,
            "_view_module": "@jupyter-widgets/base",
            "_view_module_version": "1.2.0",
            "_view_name": "StyleView",
            "description_width": ""
          }
        },
        "2ad0d0cde4104986803a7242a4bfb105": {
          "model_module": "@jupyter-widgets/base",
          "model_name": "LayoutModel",
          "model_module_version": "1.2.0",
          "state": {
            "_model_module": "@jupyter-widgets/base",
            "_model_module_version": "1.2.0",
            "_model_name": "LayoutModel",
            "_view_count": null,
            "_view_module": "@jupyter-widgets/base",
            "_view_module_version": "1.2.0",
            "_view_name": "LayoutView",
            "align_content": null,
            "align_items": null,
            "align_self": null,
            "border": null,
            "bottom": null,
            "display": null,
            "flex": null,
            "flex_flow": null,
            "grid_area": null,
            "grid_auto_columns": null,
            "grid_auto_flow": null,
            "grid_auto_rows": null,
            "grid_column": null,
            "grid_gap": null,
            "grid_row": null,
            "grid_template_areas": null,
            "grid_template_columns": null,
            "grid_template_rows": null,
            "height": null,
            "justify_content": null,
            "justify_items": null,
            "left": null,
            "margin": null,
            "max_height": null,
            "max_width": null,
            "min_height": null,
            "min_width": null,
            "object_fit": null,
            "object_position": null,
            "order": null,
            "overflow": null,
            "overflow_x": null,
            "overflow_y": null,
            "padding": null,
            "right": null,
            "top": null,
            "visibility": null,
            "width": null
          }
        },
        "59b9185bcc3e47f7989d446575e14d9d": {
          "model_module": "@jupyter-widgets/controls",
          "model_name": "ProgressStyleModel",
          "model_module_version": "1.5.0",
          "state": {
            "_model_module": "@jupyter-widgets/controls",
            "_model_module_version": "1.5.0",
            "_model_name": "ProgressStyleModel",
            "_view_count": null,
            "_view_module": "@jupyter-widgets/base",
            "_view_module_version": "1.2.0",
            "_view_name": "StyleView",
            "bar_color": null,
            "description_width": ""
          }
        },
        "94e06af45bfd4cb7bb47eb80e5fdb901": {
          "model_module": "@jupyter-widgets/base",
          "model_name": "LayoutModel",
          "model_module_version": "1.2.0",
          "state": {
            "_model_module": "@jupyter-widgets/base",
            "_model_module_version": "1.2.0",
            "_model_name": "LayoutModel",
            "_view_count": null,
            "_view_module": "@jupyter-widgets/base",
            "_view_module_version": "1.2.0",
            "_view_name": "LayoutView",
            "align_content": null,
            "align_items": null,
            "align_self": null,
            "border": null,
            "bottom": null,
            "display": null,
            "flex": null,
            "flex_flow": null,
            "grid_area": null,
            "grid_auto_columns": null,
            "grid_auto_flow": null,
            "grid_auto_rows": null,
            "grid_column": null,
            "grid_gap": null,
            "grid_row": null,
            "grid_template_areas": null,
            "grid_template_columns": null,
            "grid_template_rows": null,
            "height": null,
            "justify_content": null,
            "justify_items": null,
            "left": null,
            "margin": null,
            "max_height": null,
            "max_width": null,
            "min_height": null,
            "min_width": null,
            "object_fit": null,
            "object_position": null,
            "order": null,
            "overflow": null,
            "overflow_x": null,
            "overflow_y": null,
            "padding": null,
            "right": null,
            "top": null,
            "visibility": null,
            "width": null
          }
        },
        "ce38bbb7c6b2498fbffbe0fea5abcf47": {
          "model_module": "@jupyter-widgets/controls",
          "model_name": "DescriptionStyleModel",
          "model_module_version": "1.5.0",
          "state": {
            "_model_module": "@jupyter-widgets/controls",
            "_model_module_version": "1.5.0",
            "_model_name": "DescriptionStyleModel",
            "_view_count": null,
            "_view_module": "@jupyter-widgets/base",
            "_view_module_version": "1.2.0",
            "_view_name": "StyleView",
            "description_width": ""
          }
        },
        "69bb202912074fb8b1c765660b45660a": {
          "model_module": "@jupyter-widgets/controls",
          "model_name": "HBoxModel",
          "model_module_version": "1.5.0",
          "state": {
            "_dom_classes": [],
            "_model_module": "@jupyter-widgets/controls",
            "_model_module_version": "1.5.0",
            "_model_name": "HBoxModel",
            "_view_count": null,
            "_view_module": "@jupyter-widgets/controls",
            "_view_module_version": "1.5.0",
            "_view_name": "HBoxView",
            "box_style": "",
            "children": [
              "IPY_MODEL_b79b0d3ee63d45349817f62ea9791aad",
              "IPY_MODEL_0c29866499a64449bc92c86f28652118",
              "IPY_MODEL_2be101fa80554085b95956eb12c0fe0b"
            ],
            "layout": "IPY_MODEL_4fb7450d87db495dafb2791d6241608b"
          }
        },
        "b79b0d3ee63d45349817f62ea9791aad": {
          "model_module": "@jupyter-widgets/controls",
          "model_name": "HTMLModel",
          "model_module_version": "1.5.0",
          "state": {
            "_dom_classes": [],
            "_model_module": "@jupyter-widgets/controls",
            "_model_module_version": "1.5.0",
            "_model_name": "HTMLModel",
            "_view_count": null,
            "_view_module": "@jupyter-widgets/controls",
            "_view_module_version": "1.5.0",
            "_view_name": "HTMLView",
            "description": "",
            "description_tooltip": null,
            "layout": "IPY_MODEL_f2917de159204753b16cc3657ac18168",
            "placeholder": "​",
            "style": "IPY_MODEL_dabe2eb746de4ef7a6e284a7e8fe28ea",
            "value": "Downloading: 100%"
          }
        },
        "0c29866499a64449bc92c86f28652118": {
          "model_module": "@jupyter-widgets/controls",
          "model_name": "FloatProgressModel",
          "model_module_version": "1.5.0",
          "state": {
            "_dom_classes": [],
            "_model_module": "@jupyter-widgets/controls",
            "_model_module_version": "1.5.0",
            "_model_name": "FloatProgressModel",
            "_view_count": null,
            "_view_module": "@jupyter-widgets/controls",
            "_view_module_version": "1.5.0",
            "_view_name": "ProgressView",
            "bar_style": "success",
            "description": "",
            "description_tooltip": null,
            "layout": "IPY_MODEL_f45e4ff7224d4d09bc6fcc1e5ac75265",
            "max": 2237676,
            "min": 0,
            "orientation": "horizontal",
            "style": "IPY_MODEL_764044d604274675924d52503f57b710",
            "value": 2237676
          }
        },
        "2be101fa80554085b95956eb12c0fe0b": {
          "model_module": "@jupyter-widgets/controls",
          "model_name": "HTMLModel",
          "model_module_version": "1.5.0",
          "state": {
            "_dom_classes": [],
            "_model_module": "@jupyter-widgets/controls",
            "_model_module_version": "1.5.0",
            "_model_name": "HTMLModel",
            "_view_count": null,
            "_view_module": "@jupyter-widgets/controls",
            "_view_module_version": "1.5.0",
            "_view_name": "HTMLView",
            "description": "",
            "description_tooltip": null,
            "layout": "IPY_MODEL_15c39d7830c04f77b164edb8edc4937e",
            "placeholder": "​",
            "style": "IPY_MODEL_56b46a0188354472a9c5ee03a6e3dfd0",
            "value": " 2.13M/2.13M [00:00&lt;00:00, 3.62MB/s]"
          }
        },
        "4fb7450d87db495dafb2791d6241608b": {
          "model_module": "@jupyter-widgets/base",
          "model_name": "LayoutModel",
          "model_module_version": "1.2.0",
          "state": {
            "_model_module": "@jupyter-widgets/base",
            "_model_module_version": "1.2.0",
            "_model_name": "LayoutModel",
            "_view_count": null,
            "_view_module": "@jupyter-widgets/base",
            "_view_module_version": "1.2.0",
            "_view_name": "LayoutView",
            "align_content": null,
            "align_items": null,
            "align_self": null,
            "border": null,
            "bottom": null,
            "display": null,
            "flex": null,
            "flex_flow": null,
            "grid_area": null,
            "grid_auto_columns": null,
            "grid_auto_flow": null,
            "grid_auto_rows": null,
            "grid_column": null,
            "grid_gap": null,
            "grid_row": null,
            "grid_template_areas": null,
            "grid_template_columns": null,
            "grid_template_rows": null,
            "height": null,
            "justify_content": null,
            "justify_items": null,
            "left": null,
            "margin": null,
            "max_height": null,
            "max_width": null,
            "min_height": null,
            "min_width": null,
            "object_fit": null,
            "object_position": null,
            "order": null,
            "overflow": null,
            "overflow_x": null,
            "overflow_y": null,
            "padding": null,
            "right": null,
            "top": null,
            "visibility": null,
            "width": null
          }
        },
        "f2917de159204753b16cc3657ac18168": {
          "model_module": "@jupyter-widgets/base",
          "model_name": "LayoutModel",
          "model_module_version": "1.2.0",
          "state": {
            "_model_module": "@jupyter-widgets/base",
            "_model_module_version": "1.2.0",
            "_model_name": "LayoutModel",
            "_view_count": null,
            "_view_module": "@jupyter-widgets/base",
            "_view_module_version": "1.2.0",
            "_view_name": "LayoutView",
            "align_content": null,
            "align_items": null,
            "align_self": null,
            "border": null,
            "bottom": null,
            "display": null,
            "flex": null,
            "flex_flow": null,
            "grid_area": null,
            "grid_auto_columns": null,
            "grid_auto_flow": null,
            "grid_auto_rows": null,
            "grid_column": null,
            "grid_gap": null,
            "grid_row": null,
            "grid_template_areas": null,
            "grid_template_columns": null,
            "grid_template_rows": null,
            "height": null,
            "justify_content": null,
            "justify_items": null,
            "left": null,
            "margin": null,
            "max_height": null,
            "max_width": null,
            "min_height": null,
            "min_width": null,
            "object_fit": null,
            "object_position": null,
            "order": null,
            "overflow": null,
            "overflow_x": null,
            "overflow_y": null,
            "padding": null,
            "right": null,
            "top": null,
            "visibility": null,
            "width": null
          }
        },
        "dabe2eb746de4ef7a6e284a7e8fe28ea": {
          "model_module": "@jupyter-widgets/controls",
          "model_name": "DescriptionStyleModel",
          "model_module_version": "1.5.0",
          "state": {
            "_model_module": "@jupyter-widgets/controls",
            "_model_module_version": "1.5.0",
            "_model_name": "DescriptionStyleModel",
            "_view_count": null,
            "_view_module": "@jupyter-widgets/base",
            "_view_module_version": "1.2.0",
            "_view_name": "StyleView",
            "description_width": ""
          }
        },
        "f45e4ff7224d4d09bc6fcc1e5ac75265": {
          "model_module": "@jupyter-widgets/base",
          "model_name": "LayoutModel",
          "model_module_version": "1.2.0",
          "state": {
            "_model_module": "@jupyter-widgets/base",
            "_model_module_version": "1.2.0",
            "_model_name": "LayoutModel",
            "_view_count": null,
            "_view_module": "@jupyter-widgets/base",
            "_view_module_version": "1.2.0",
            "_view_name": "LayoutView",
            "align_content": null,
            "align_items": null,
            "align_self": null,
            "border": null,
            "bottom": null,
            "display": null,
            "flex": null,
            "flex_flow": null,
            "grid_area": null,
            "grid_auto_columns": null,
            "grid_auto_flow": null,
            "grid_auto_rows": null,
            "grid_column": null,
            "grid_gap": null,
            "grid_row": null,
            "grid_template_areas": null,
            "grid_template_columns": null,
            "grid_template_rows": null,
            "height": null,
            "justify_content": null,
            "justify_items": null,
            "left": null,
            "margin": null,
            "max_height": null,
            "max_width": null,
            "min_height": null,
            "min_width": null,
            "object_fit": null,
            "object_position": null,
            "order": null,
            "overflow": null,
            "overflow_x": null,
            "overflow_y": null,
            "padding": null,
            "right": null,
            "top": null,
            "visibility": null,
            "width": null
          }
        },
        "764044d604274675924d52503f57b710": {
          "model_module": "@jupyter-widgets/controls",
          "model_name": "ProgressStyleModel",
          "model_module_version": "1.5.0",
          "state": {
            "_model_module": "@jupyter-widgets/controls",
            "_model_module_version": "1.5.0",
            "_model_name": "ProgressStyleModel",
            "_view_count": null,
            "_view_module": "@jupyter-widgets/base",
            "_view_module_version": "1.2.0",
            "_view_name": "StyleView",
            "bar_color": null,
            "description_width": ""
          }
        },
        "15c39d7830c04f77b164edb8edc4937e": {
          "model_module": "@jupyter-widgets/base",
          "model_name": "LayoutModel",
          "model_module_version": "1.2.0",
          "state": {
            "_model_module": "@jupyter-widgets/base",
            "_model_module_version": "1.2.0",
            "_model_name": "LayoutModel",
            "_view_count": null,
            "_view_module": "@jupyter-widgets/base",
            "_view_module_version": "1.2.0",
            "_view_name": "LayoutView",
            "align_content": null,
            "align_items": null,
            "align_self": null,
            "border": null,
            "bottom": null,
            "display": null,
            "flex": null,
            "flex_flow": null,
            "grid_area": null,
            "grid_auto_columns": null,
            "grid_auto_flow": null,
            "grid_auto_rows": null,
            "grid_column": null,
            "grid_gap": null,
            "grid_row": null,
            "grid_template_areas": null,
            "grid_template_columns": null,
            "grid_template_rows": null,
            "height": null,
            "justify_content": null,
            "justify_items": null,
            "left": null,
            "margin": null,
            "max_height": null,
            "max_width": null,
            "min_height": null,
            "min_width": null,
            "object_fit": null,
            "object_position": null,
            "order": null,
            "overflow": null,
            "overflow_x": null,
            "overflow_y": null,
            "padding": null,
            "right": null,
            "top": null,
            "visibility": null,
            "width": null
          }
        },
        "56b46a0188354472a9c5ee03a6e3dfd0": {
          "model_module": "@jupyter-widgets/controls",
          "model_name": "DescriptionStyleModel",
          "model_module_version": "1.5.0",
          "state": {
            "_model_module": "@jupyter-widgets/controls",
            "_model_module_version": "1.5.0",
            "_model_name": "DescriptionStyleModel",
            "_view_count": null,
            "_view_module": "@jupyter-widgets/base",
            "_view_module_version": "1.2.0",
            "_view_name": "StyleView",
            "description_width": ""
          }
        },
        "16b873000f804c868bd9cbd2eef4aac8": {
          "model_module": "@jupyter-widgets/controls",
          "model_name": "HBoxModel",
          "model_module_version": "1.5.0",
          "state": {
            "_dom_classes": [],
            "_model_module": "@jupyter-widgets/controls",
            "_model_module_version": "1.5.0",
            "_model_name": "HBoxModel",
            "_view_count": null,
            "_view_module": "@jupyter-widgets/controls",
            "_view_module_version": "1.5.0",
            "_view_name": "HBoxView",
            "box_style": "",
            "children": [
              "IPY_MODEL_5db9dda03c5b47d4b6d36aaf45f9e9c9",
              "IPY_MODEL_44b50ec7198341acbcdc45ee72b2b8b5",
              "IPY_MODEL_568bf8d9ff1f47408dd86866b9f46be3"
            ],
            "layout": "IPY_MODEL_199e8717c5c04d9cbdaed43571549765"
          }
        },
        "5db9dda03c5b47d4b6d36aaf45f9e9c9": {
          "model_module": "@jupyter-widgets/controls",
          "model_name": "HTMLModel",
          "model_module_version": "1.5.0",
          "state": {
            "_dom_classes": [],
            "_model_module": "@jupyter-widgets/controls",
            "_model_module_version": "1.5.0",
            "_model_name": "HTMLModel",
            "_view_count": null,
            "_view_module": "@jupyter-widgets/controls",
            "_view_module_version": "1.5.0",
            "_view_name": "HTMLView",
            "description": "",
            "description_tooltip": null,
            "layout": "IPY_MODEL_a9e28fe693d84efc9bda05167713b4ef",
            "placeholder": "​",
            "style": "IPY_MODEL_b14a44e2ff0d45cea0b0b6eb13cc619d",
            "value": "Downloading: 100%"
          }
        },
        "44b50ec7198341acbcdc45ee72b2b8b5": {
          "model_module": "@jupyter-widgets/controls",
          "model_name": "FloatProgressModel",
          "model_module_version": "1.5.0",
          "state": {
            "_dom_classes": [],
            "_model_module": "@jupyter-widgets/controls",
            "_model_module_version": "1.5.0",
            "_model_name": "FloatProgressModel",
            "_view_count": null,
            "_view_module": "@jupyter-widgets/controls",
            "_view_module_version": "1.5.0",
            "_view_name": "ProgressView",
            "bar_style": "success",
            "description": "",
            "description_tooltip": null,
            "layout": "IPY_MODEL_2c0c8624401c4521957bb23ed03b76a7",
            "max": 660417638,
            "min": 0,
            "orientation": "horizontal",
            "style": "IPY_MODEL_e0a6409b627c46b8864c93619a6d558e",
            "value": 660417638
          }
        },
        "568bf8d9ff1f47408dd86866b9f46be3": {
          "model_module": "@jupyter-widgets/controls",
          "model_name": "HTMLModel",
          "model_module_version": "1.5.0",
          "state": {
            "_dom_classes": [],
            "_model_module": "@jupyter-widgets/controls",
            "_model_module_version": "1.5.0",
            "_model_name": "HTMLModel",
            "_view_count": null,
            "_view_module": "@jupyter-widgets/controls",
            "_view_module_version": "1.5.0",
            "_view_name": "HTMLView",
            "description": "",
            "description_tooltip": null,
            "layout": "IPY_MODEL_9b12b89420ba4f5a884fbc8181eebca1",
            "placeholder": "​",
            "style": "IPY_MODEL_1b3ff9295f3b4594ba9243b910538f9b",
            "value": " 630M/630M [00:17&lt;00:00, 36.4MB/s]"
          }
        },
        "199e8717c5c04d9cbdaed43571549765": {
          "model_module": "@jupyter-widgets/base",
          "model_name": "LayoutModel",
          "model_module_version": "1.2.0",
          "state": {
            "_model_module": "@jupyter-widgets/base",
            "_model_module_version": "1.2.0",
            "_model_name": "LayoutModel",
            "_view_count": null,
            "_view_module": "@jupyter-widgets/base",
            "_view_module_version": "1.2.0",
            "_view_name": "LayoutView",
            "align_content": null,
            "align_items": null,
            "align_self": null,
            "border": null,
            "bottom": null,
            "display": null,
            "flex": null,
            "flex_flow": null,
            "grid_area": null,
            "grid_auto_columns": null,
            "grid_auto_flow": null,
            "grid_auto_rows": null,
            "grid_column": null,
            "grid_gap": null,
            "grid_row": null,
            "grid_template_areas": null,
            "grid_template_columns": null,
            "grid_template_rows": null,
            "height": null,
            "justify_content": null,
            "justify_items": null,
            "left": null,
            "margin": null,
            "max_height": null,
            "max_width": null,
            "min_height": null,
            "min_width": null,
            "object_fit": null,
            "object_position": null,
            "order": null,
            "overflow": null,
            "overflow_x": null,
            "overflow_y": null,
            "padding": null,
            "right": null,
            "top": null,
            "visibility": null,
            "width": null
          }
        },
        "a9e28fe693d84efc9bda05167713b4ef": {
          "model_module": "@jupyter-widgets/base",
          "model_name": "LayoutModel",
          "model_module_version": "1.2.0",
          "state": {
            "_model_module": "@jupyter-widgets/base",
            "_model_module_version": "1.2.0",
            "_model_name": "LayoutModel",
            "_view_count": null,
            "_view_module": "@jupyter-widgets/base",
            "_view_module_version": "1.2.0",
            "_view_name": "LayoutView",
            "align_content": null,
            "align_items": null,
            "align_self": null,
            "border": null,
            "bottom": null,
            "display": null,
            "flex": null,
            "flex_flow": null,
            "grid_area": null,
            "grid_auto_columns": null,
            "grid_auto_flow": null,
            "grid_auto_rows": null,
            "grid_column": null,
            "grid_gap": null,
            "grid_row": null,
            "grid_template_areas": null,
            "grid_template_columns": null,
            "grid_template_rows": null,
            "height": null,
            "justify_content": null,
            "justify_items": null,
            "left": null,
            "margin": null,
            "max_height": null,
            "max_width": null,
            "min_height": null,
            "min_width": null,
            "object_fit": null,
            "object_position": null,
            "order": null,
            "overflow": null,
            "overflow_x": null,
            "overflow_y": null,
            "padding": null,
            "right": null,
            "top": null,
            "visibility": null,
            "width": null
          }
        },
        "b14a44e2ff0d45cea0b0b6eb13cc619d": {
          "model_module": "@jupyter-widgets/controls",
          "model_name": "DescriptionStyleModel",
          "model_module_version": "1.5.0",
          "state": {
            "_model_module": "@jupyter-widgets/controls",
            "_model_module_version": "1.5.0",
            "_model_name": "DescriptionStyleModel",
            "_view_count": null,
            "_view_module": "@jupyter-widgets/base",
            "_view_module_version": "1.2.0",
            "_view_name": "StyleView",
            "description_width": ""
          }
        },
        "2c0c8624401c4521957bb23ed03b76a7": {
          "model_module": "@jupyter-widgets/base",
          "model_name": "LayoutModel",
          "model_module_version": "1.2.0",
          "state": {
            "_model_module": "@jupyter-widgets/base",
            "_model_module_version": "1.2.0",
            "_model_name": "LayoutModel",
            "_view_count": null,
            "_view_module": "@jupyter-widgets/base",
            "_view_module_version": "1.2.0",
            "_view_name": "LayoutView",
            "align_content": null,
            "align_items": null,
            "align_self": null,
            "border": null,
            "bottom": null,
            "display": null,
            "flex": null,
            "flex_flow": null,
            "grid_area": null,
            "grid_auto_columns": null,
            "grid_auto_flow": null,
            "grid_auto_rows": null,
            "grid_column": null,
            "grid_gap": null,
            "grid_row": null,
            "grid_template_areas": null,
            "grid_template_columns": null,
            "grid_template_rows": null,
            "height": null,
            "justify_content": null,
            "justify_items": null,
            "left": null,
            "margin": null,
            "max_height": null,
            "max_width": null,
            "min_height": null,
            "min_width": null,
            "object_fit": null,
            "object_position": null,
            "order": null,
            "overflow": null,
            "overflow_x": null,
            "overflow_y": null,
            "padding": null,
            "right": null,
            "top": null,
            "visibility": null,
            "width": null
          }
        },
        "e0a6409b627c46b8864c93619a6d558e": {
          "model_module": "@jupyter-widgets/controls",
          "model_name": "ProgressStyleModel",
          "model_module_version": "1.5.0",
          "state": {
            "_model_module": "@jupyter-widgets/controls",
            "_model_module_version": "1.5.0",
            "_model_name": "ProgressStyleModel",
            "_view_count": null,
            "_view_module": "@jupyter-widgets/base",
            "_view_module_version": "1.2.0",
            "_view_name": "StyleView",
            "bar_color": null,
            "description_width": ""
          }
        },
        "9b12b89420ba4f5a884fbc8181eebca1": {
          "model_module": "@jupyter-widgets/base",
          "model_name": "LayoutModel",
          "model_module_version": "1.2.0",
          "state": {
            "_model_module": "@jupyter-widgets/base",
            "_model_module_version": "1.2.0",
            "_model_name": "LayoutModel",
            "_view_count": null,
            "_view_module": "@jupyter-widgets/base",
            "_view_module_version": "1.2.0",
            "_view_name": "LayoutView",
            "align_content": null,
            "align_items": null,
            "align_self": null,
            "border": null,
            "bottom": null,
            "display": null,
            "flex": null,
            "flex_flow": null,
            "grid_area": null,
            "grid_auto_columns": null,
            "grid_auto_flow": null,
            "grid_auto_rows": null,
            "grid_column": null,
            "grid_gap": null,
            "grid_row": null,
            "grid_template_areas": null,
            "grid_template_columns": null,
            "grid_template_rows": null,
            "height": null,
            "justify_content": null,
            "justify_items": null,
            "left": null,
            "margin": null,
            "max_height": null,
            "max_width": null,
            "min_height": null,
            "min_width": null,
            "object_fit": null,
            "object_position": null,
            "order": null,
            "overflow": null,
            "overflow_x": null,
            "overflow_y": null,
            "padding": null,
            "right": null,
            "top": null,
            "visibility": null,
            "width": null
          }
        },
        "1b3ff9295f3b4594ba9243b910538f9b": {
          "model_module": "@jupyter-widgets/controls",
          "model_name": "DescriptionStyleModel",
          "model_module_version": "1.5.0",
          "state": {
            "_model_module": "@jupyter-widgets/controls",
            "_model_module_version": "1.5.0",
            "_model_name": "DescriptionStyleModel",
            "_view_count": null,
            "_view_module": "@jupyter-widgets/base",
            "_view_module_version": "1.2.0",
            "_view_name": "StyleView",
            "description_width": ""
          }
        }
      }
    }
  },
  "cells": [
    {
      "cell_type": "markdown",
      "metadata": {
        "id": "view-in-github",
        "colab_type": "text"
      },
      "source": [
        "<a href=\"https://colab.research.google.com/github/AIFahim/Bangla-News-Article-Classification/blob/master/Evaluation_of_Bert.ipynb\" target=\"_parent\"><img src=\"https://colab.research.google.com/assets/colab-badge.svg\" alt=\"Open In Colab\"/></a>"
      ]
    },
    {
      "cell_type": "markdown",
      "metadata": {
        "id": "B3dqhzVBsGAj"
      },
      "source": [
        "## Google Drive Mount"
      ]
    },
    {
      "cell_type": "code",
      "metadata": {
        "colab": {
          "base_uri": "https://localhost:8080/"
        },
        "id": "CN8ix10E-I_J",
        "outputId": "fdb3f5d2-8dee-464a-fb92-bec19b8efdba"
      },
      "source": [
        "from google.colab import drive\n",
        "drive.mount('/content/drive')"
      ],
      "execution_count": null,
      "outputs": [
        {
          "name": "stdout",
          "output_type": "stream",
          "text": [
            "Mounted at /content/drive\n"
          ]
        }
      ]
    },
    {
      "cell_type": "markdown",
      "metadata": {
        "id": "SMFFpZgkjahN"
      },
      "source": [
        "## Importing required Libraries"
      ]
    },
    {
      "cell_type": "code",
      "metadata": {
        "id": "JdZigre3sGBm"
      },
      "source": [
        "import numpy as np\n",
        "import pandas as pd\n",
        "import tensorflow as tf\n",
        "from tensorflow.keras.layers import Dense, Input\n",
        "from tensorflow.keras.optimizers import Adam\n",
        "from tensorflow.keras.models import Model\n",
        "from tensorflow.keras.callbacks import ModelCheckpoint\n",
        "import keras.callbacks\n",
        "import tensorflow_hub as hub\n",
        "\n",
        "# import tokenization\n",
        "\n",
        "\n",
        "import keras\n",
        "import tensorflow as tf\n",
        "import pandas as pd\n",
        "import matplotlib.pyplot as plt\n",
        "import seaborn as sns\n",
        "import numpy as np\n",
        "from nltk.corpus import stopwords\n",
        "from nltk.util import ngrams\n",
        "from sklearn.feature_extraction.text import CountVectorizer\n",
        "from collections import defaultdict\n",
        "from collections import  Counter\n",
        "plt.style.use('ggplot')\n",
        "import re\n",
        "from nltk.tokenize import word_tokenize\n",
        "import gensim\n",
        "import string\n",
        "from keras.preprocessing.text import Tokenizer\n",
        "from keras.preprocessing.sequence import pad_sequences\n",
        "from tqdm import tqdm\n",
        "from keras.models import Sequential\n",
        "from keras.layers import Embedding,LSTM,Dense,SpatialDropout1D\n",
        "from keras.initializers import Constant\n",
        "from sklearn.model_selection import train_test_split\n",
        "from tensorflow.keras.optimizers import Adam\n",
        "\n",
        "from keras import backend as K\n",
        "\n",
        "# import tensorflow.keras.backend as K"
      ],
      "execution_count": 53,
      "outputs": []
    },
    {
      "cell_type": "code",
      "metadata": {
        "colab": {
          "base_uri": "https://localhost:8080/"
        },
        "id": "fIftlqDxKXn3",
        "outputId": "f02eda88-5ecf-45a5-d2bb-2018bc39fd50"
      },
      "source": [
        "from keras.losses import sparse_categorical_crossentropy\n",
        "keras.losses.sparse_categorical_crossentropy"
      ],
      "execution_count": null,
      "outputs": [
        {
          "data": {
            "text/plain": [
              "<function keras.losses.sparse_categorical_crossentropy>"
            ]
          },
          "execution_count": 24,
          "metadata": {},
          "output_type": "execute_result"
        }
      ]
    },
    {
      "cell_type": "markdown",
      "metadata": {
        "id": "KvWh1Xy1jzEN"
      },
      "source": [
        "## Loading the data"
      ]
    },
    {
      "cell_type": "code",
      "metadata": {
        "colab": {
          "base_uri": "https://localhost:8080/"
        },
        "id": "HeaPMHiysf_-",
        "outputId": "ba5496b3-9e7d-46cf-9b97-981b033053b5"
      },
      "source": [
        "!gdown --id 1boKJGs-XUWsxz6JocgU7wyhf8nSayr7k # train csv\n",
        "!gdown --id 1WLTPLk8oJ0XDduXnzLmxM3xwlChsgs81 # test csv\n",
        "!gdown --id 1-6MlDGVEZlLFQliVL6Hgxee1wnpi_yeG # full data csv after added new clean text column"
      ],
      "execution_count": null,
      "outputs": [
        {
          "name": "stdout",
          "output_type": "stream",
          "text": [
            "Downloading...\n",
            "From: https://drive.google.com/uc?id=1boKJGs-XUWsxz6JocgU7wyhf8nSayr7k\n",
            "To: /content/train.csv\n",
            "100% 859M/859M [00:05<00:00, 151MB/s]\n",
            "Downloading...\n",
            "From: https://drive.google.com/uc?id=1WLTPLk8oJ0XDduXnzLmxM3xwlChsgs81\n",
            "To: /content/test.csv\n",
            "100% 854M/854M [00:04<00:00, 202MB/s]\n",
            "Downloading...\n",
            "From: https://drive.google.com/uc?id=1-6MlDGVEZlLFQliVL6Hgxee1wnpi_yeG\n",
            "To: /content/fulldata.csv\n",
            "100% 2.39G/2.39G [00:25<00:00, 95.1MB/s]\n"
          ]
        }
      ]
    },
    {
      "cell_type": "code",
      "metadata": {
        "id": "06A_IYgdm3-D"
      },
      "source": [
        "train= pd.read_csv('/content/train.csv')\n",
        "test=pd.read_csv('/content/test.csv')\n",
        "fulldata = pd.read_csv(\"/content/fulldata.csv\")"
      ],
      "execution_count": null,
      "outputs": []
    },
    {
      "cell_type": "code",
      "metadata": {
        "colab": {
          "base_uri": "https://localhost:8080/",
          "height": 204
        },
        "id": "4Lfy6T2S2sqz",
        "outputId": "95f40dbd-b110-42d5-8b17-ffca86d87fdf"
      },
      "source": [
        "fulldata.head()"
      ],
      "execution_count": null,
      "outputs": [
        {
          "data": {
            "text/html": [
              "<div>\n",
              "<style scoped>\n",
              "    .dataframe tbody tr th:only-of-type {\n",
              "        vertical-align: middle;\n",
              "    }\n",
              "\n",
              "    .dataframe tbody tr th {\n",
              "        vertical-align: top;\n",
              "    }\n",
              "\n",
              "    .dataframe thead th {\n",
              "        text-align: right;\n",
              "    }\n",
              "</style>\n",
              "<table border=\"1\" class=\"dataframe\">\n",
              "  <thead>\n",
              "    <tr style=\"text-align: right;\">\n",
              "      <th></th>\n",
              "      <th>Unnamed: 0</th>\n",
              "      <th>category</th>\n",
              "      <th>text</th>\n",
              "      <th>cleanText</th>\n",
              "      <th>new_clean_text</th>\n",
              "    </tr>\n",
              "  </thead>\n",
              "  <tbody>\n",
              "    <tr>\n",
              "      <th>0</th>\n",
              "      <td>0</td>\n",
              "      <td>education</td>\n",
              "      <td>অধ্যায়-২প্রিয় পরীক্ষার্থী, আজ তথ্য ও যোগাযোগ প...</td>\n",
              "      <td>অধ্যায়    প্রিয়    পরীক্ষার্থী    তথ্য    যো...</td>\n",
              "      <td>অধ্যায় প্রিয় পরীক্ষার্থী তথ্য যোগাযোগ প্রযুক্ত...</td>\n",
              "    </tr>\n",
              "    <tr>\n",
              "      <th>1</th>\n",
              "      <td>1</td>\n",
              "      <td>sports</td>\n",
              "      <td>স্পিন, স্পিন, স্পিন। লর্ডসে ইয়াসির শাহ্‌র লেগ ...</td>\n",
              "      <td>স্পিন    স্পিন    স্পিন    লর্ডসে    ইয়াসির ...</td>\n",
              "      <td>স্পিন স্পিন স্পিন লর্ডসে ইয়াসির শাহ্ লেগ স্পিন...</td>\n",
              "    </tr>\n",
              "    <tr>\n",
              "      <th>2</th>\n",
              "      <td>2</td>\n",
              "      <td>international</td>\n",
              "      <td>সিরিয়ার উত্তর-পশ্চিমাঞ্চলে গতকাল রোববার বিমান...</td>\n",
              "      <td>সিরিয়ার    উত্তর    পশ্চিমাঞ্চলে    গতকাল  ...</td>\n",
              "      <td>সিরিয়ার পশ্চিমাঞ্চলে গতকাল রোববার বিমান হামলা...</td>\n",
              "    </tr>\n",
              "    <tr>\n",
              "      <th>3</th>\n",
              "      <td>3</td>\n",
              "      <td>international</td>\n",
              "      <td>দক্ষিণ আফ্রিকার কেপটাউন বিশ্ববিদ্যালয়ের (ইউসিট...</td>\n",
              "      <td>দক্ষিণ    আফ্রিকার    কেপটাউন    বিশ্ববিদ্যা...</td>\n",
              "      <td>দক্ষিণ আফ্রিকার কেপটাউন বিশ্ববিদ্যালয়ের ইউসিটি...</td>\n",
              "    </tr>\n",
              "    <tr>\n",
              "      <th>4</th>\n",
              "      <td>4</td>\n",
              "      <td>technology</td>\n",
              "      <td>সহজে ডিজিটাল আর্থিক সেবা দিতে অ্যাপ ও ডিজিটাল ...</td>\n",
              "      <td>সহজে    ডিজিটাল    আর্থিক    সেবা    অ্যাপ  ...</td>\n",
              "      <td>সহজে ডিজিটাল আর্থিক সেবা অ্যাপ ডিজিটাল কেওয়াইস...</td>\n",
              "    </tr>\n",
              "  </tbody>\n",
              "</table>\n",
              "</div>"
            ],
            "text/plain": [
              "   Unnamed: 0  ...                                     new_clean_text\n",
              "0           0  ...  অধ্যায় প্রিয় পরীক্ষার্থী তথ্য যোগাযোগ প্রযুক্ত...\n",
              "1           1  ...  স্পিন স্পিন স্পিন লর্ডসে ইয়াসির শাহ্ লেগ স্পিন...\n",
              "2           2  ...  সিরিয়ার পশ্চিমাঞ্চলে গতকাল রোববার বিমান হামলা...\n",
              "3           3  ...  দক্ষিণ আফ্রিকার কেপটাউন বিশ্ববিদ্যালয়ের ইউসিটি...\n",
              "4           4  ...  সহজে ডিজিটাল আর্থিক সেবা অ্যাপ ডিজিটাল কেওয়াইস...\n",
              "\n",
              "[5 rows x 5 columns]"
            ]
          },
          "execution_count": 8,
          "metadata": {},
          "output_type": "execute_result"
        }
      ]
    },
    {
      "cell_type": "code",
      "metadata": {
        "colab": {
          "base_uri": "https://localhost:8080/"
        },
        "id": "4LZN-YpQ2v0k",
        "outputId": "b5665d4d-0e0e-4ff6-b7d5-b498a43d72af"
      },
      "source": [
        "fulldata.columns"
      ],
      "execution_count": null,
      "outputs": [
        {
          "data": {
            "text/plain": [
              "Index(['Unnamed: 0', 'category', 'text', 'cleanText', 'new_clean_text'], dtype='object')"
            ]
          },
          "execution_count": 9,
          "metadata": {},
          "output_type": "execute_result"
        }
      ]
    },
    {
      "cell_type": "code",
      "metadata": {
        "colab": {
          "base_uri": "https://localhost:8080/"
        },
        "id": "Lb334Z9t3izW",
        "outputId": "75473e11-ddf9-489f-8d31-dc30fc7288e3"
      },
      "source": [
        "fulldata.pop('Unnamed: 0') # Remove unexpected column"
      ],
      "execution_count": null,
      "outputs": [
        {
          "data": {
            "text/plain": [
              "0             0\n",
              "1             1\n",
              "2             2\n",
              "3             3\n",
              "4             4\n",
              "          ...  \n",
              "197762    98878\n",
              "197763    98879\n",
              "197764    98880\n",
              "197765    98881\n",
              "197766    98882\n",
              "Name: Unnamed: 0, Length: 197767, dtype: int64"
            ]
          },
          "execution_count": 10,
          "metadata": {},
          "output_type": "execute_result"
        }
      ]
    },
    {
      "cell_type": "code",
      "metadata": {
        "colab": {
          "base_uri": "https://localhost:8080/",
          "height": 204
        },
        "id": "8o_LCDlj4Avd",
        "outputId": "3cecd452-0f17-47e9-ac9b-2ad0b11fa717"
      },
      "source": [
        "fulldata.head()"
      ],
      "execution_count": null,
      "outputs": [
        {
          "data": {
            "text/html": [
              "<div>\n",
              "<style scoped>\n",
              "    .dataframe tbody tr th:only-of-type {\n",
              "        vertical-align: middle;\n",
              "    }\n",
              "\n",
              "    .dataframe tbody tr th {\n",
              "        vertical-align: top;\n",
              "    }\n",
              "\n",
              "    .dataframe thead th {\n",
              "        text-align: right;\n",
              "    }\n",
              "</style>\n",
              "<table border=\"1\" class=\"dataframe\">\n",
              "  <thead>\n",
              "    <tr style=\"text-align: right;\">\n",
              "      <th></th>\n",
              "      <th>category</th>\n",
              "      <th>text</th>\n",
              "      <th>cleanText</th>\n",
              "      <th>new_clean_text</th>\n",
              "    </tr>\n",
              "  </thead>\n",
              "  <tbody>\n",
              "    <tr>\n",
              "      <th>0</th>\n",
              "      <td>education</td>\n",
              "      <td>অধ্যায়-২প্রিয় পরীক্ষার্থী, আজ তথ্য ও যোগাযোগ প...</td>\n",
              "      <td>অধ্যায়    প্রিয়    পরীক্ষার্থী    তথ্য    যো...</td>\n",
              "      <td>অধ্যায় প্রিয় পরীক্ষার্থী তথ্য যোগাযোগ প্রযুক্ত...</td>\n",
              "    </tr>\n",
              "    <tr>\n",
              "      <th>1</th>\n",
              "      <td>sports</td>\n",
              "      <td>স্পিন, স্পিন, স্পিন। লর্ডসে ইয়াসির শাহ্‌র লেগ ...</td>\n",
              "      <td>স্পিন    স্পিন    স্পিন    লর্ডসে    ইয়াসির ...</td>\n",
              "      <td>স্পিন স্পিন স্পিন লর্ডসে ইয়াসির শাহ্ লেগ স্পিন...</td>\n",
              "    </tr>\n",
              "    <tr>\n",
              "      <th>2</th>\n",
              "      <td>international</td>\n",
              "      <td>সিরিয়ার উত্তর-পশ্চিমাঞ্চলে গতকাল রোববার বিমান...</td>\n",
              "      <td>সিরিয়ার    উত্তর    পশ্চিমাঞ্চলে    গতকাল  ...</td>\n",
              "      <td>সিরিয়ার পশ্চিমাঞ্চলে গতকাল রোববার বিমান হামলা...</td>\n",
              "    </tr>\n",
              "    <tr>\n",
              "      <th>3</th>\n",
              "      <td>international</td>\n",
              "      <td>দক্ষিণ আফ্রিকার কেপটাউন বিশ্ববিদ্যালয়ের (ইউসিট...</td>\n",
              "      <td>দক্ষিণ    আফ্রিকার    কেপটাউন    বিশ্ববিদ্যা...</td>\n",
              "      <td>দক্ষিণ আফ্রিকার কেপটাউন বিশ্ববিদ্যালয়ের ইউসিটি...</td>\n",
              "    </tr>\n",
              "    <tr>\n",
              "      <th>4</th>\n",
              "      <td>technology</td>\n",
              "      <td>সহজে ডিজিটাল আর্থিক সেবা দিতে অ্যাপ ও ডিজিটাল ...</td>\n",
              "      <td>সহজে    ডিজিটাল    আর্থিক    সেবা    অ্যাপ  ...</td>\n",
              "      <td>সহজে ডিজিটাল আর্থিক সেবা অ্যাপ ডিজিটাল কেওয়াইস...</td>\n",
              "    </tr>\n",
              "  </tbody>\n",
              "</table>\n",
              "</div>"
            ],
            "text/plain": [
              "        category  ...                                     new_clean_text\n",
              "0      education  ...  অধ্যায় প্রিয় পরীক্ষার্থী তথ্য যোগাযোগ প্রযুক্ত...\n",
              "1         sports  ...  স্পিন স্পিন স্পিন লর্ডসে ইয়াসির শাহ্ লেগ স্পিন...\n",
              "2  international  ...  সিরিয়ার পশ্চিমাঞ্চলে গতকাল রোববার বিমান হামলা...\n",
              "3  international  ...  দক্ষিণ আফ্রিকার কেপটাউন বিশ্ববিদ্যালয়ের ইউসিটি...\n",
              "4     technology  ...  সহজে ডিজিটাল আর্থিক সেবা অ্যাপ ডিজিটাল কেওয়াইস...\n",
              "\n",
              "[5 rows x 4 columns]"
            ]
          },
          "execution_count": 11,
          "metadata": {},
          "output_type": "execute_result"
        }
      ]
    },
    {
      "cell_type": "markdown",
      "metadata": {
        "id": "yt5yvfQWj8mo"
      },
      "source": [
        "## Setting up require bert setup file"
      ]
    },
    {
      "cell_type": "code",
      "metadata": {
        "colab": {
          "base_uri": "https://localhost:8080/"
        },
        "id": "9LAHxWdcsUIQ",
        "outputId": "b0d3e110-757e-410a-d79c-248868d10b79"
      },
      "source": [
        "!pip install transformers "
      ],
      "execution_count": null,
      "outputs": [
        {
          "name": "stdout",
          "output_type": "stream",
          "text": [
            "Collecting transformers\n",
            "  Downloading transformers-4.11.3-py3-none-any.whl (2.9 MB)\n",
            "\u001b[K     |████████████████████████████████| 2.9 MB 7.7 MB/s \n",
            "\u001b[?25hCollecting tokenizers<0.11,>=0.10.1\n",
            "  Downloading tokenizers-0.10.3-cp37-cp37m-manylinux_2_5_x86_64.manylinux1_x86_64.manylinux_2_12_x86_64.manylinux2010_x86_64.whl (3.3 MB)\n",
            "\u001b[K     |████████████████████████████████| 3.3 MB 32.0 MB/s \n",
            "\u001b[?25hCollecting pyyaml>=5.1\n",
            "  Downloading PyYAML-6.0-cp37-cp37m-manylinux_2_5_x86_64.manylinux1_x86_64.manylinux_2_12_x86_64.manylinux2010_x86_64.whl (596 kB)\n",
            "\u001b[K     |████████████████████████████████| 596 kB 47.5 MB/s \n",
            "\u001b[?25hRequirement already satisfied: packaging>=20.0 in /usr/local/lib/python3.7/dist-packages (from transformers) (21.0)\n",
            "Collecting huggingface-hub>=0.0.17\n",
            "  Downloading huggingface_hub-0.0.19-py3-none-any.whl (56 kB)\n",
            "\u001b[K     |████████████████████████████████| 56 kB 4.5 MB/s \n",
            "\u001b[?25hRequirement already satisfied: tqdm>=4.27 in /usr/local/lib/python3.7/dist-packages (from transformers) (4.62.3)\n",
            "Requirement already satisfied: importlib-metadata in /usr/local/lib/python3.7/dist-packages (from transformers) (4.8.1)\n",
            "Requirement already satisfied: numpy>=1.17 in /usr/local/lib/python3.7/dist-packages (from transformers) (1.19.5)\n",
            "Requirement already satisfied: requests in /usr/local/lib/python3.7/dist-packages (from transformers) (2.23.0)\n",
            "Collecting sacremoses\n",
            "  Downloading sacremoses-0.0.46-py3-none-any.whl (895 kB)\n",
            "\u001b[K     |████████████████████████████████| 895 kB 59.9 MB/s \n",
            "\u001b[?25hRequirement already satisfied: filelock in /usr/local/lib/python3.7/dist-packages (from transformers) (3.3.0)\n",
            "Requirement already satisfied: regex!=2019.12.17 in /usr/local/lib/python3.7/dist-packages (from transformers) (2019.12.20)\n",
            "Requirement already satisfied: typing-extensions in /usr/local/lib/python3.7/dist-packages (from huggingface-hub>=0.0.17->transformers) (3.7.4.3)\n",
            "Requirement already satisfied: pyparsing>=2.0.2 in /usr/local/lib/python3.7/dist-packages (from packaging>=20.0->transformers) (2.4.7)\n",
            "Requirement already satisfied: zipp>=0.5 in /usr/local/lib/python3.7/dist-packages (from importlib-metadata->transformers) (3.6.0)\n",
            "Requirement already satisfied: chardet<4,>=3.0.2 in /usr/local/lib/python3.7/dist-packages (from requests->transformers) (3.0.4)\n",
            "Requirement already satisfied: urllib3!=1.25.0,!=1.25.1,<1.26,>=1.21.1 in /usr/local/lib/python3.7/dist-packages (from requests->transformers) (1.24.3)\n",
            "Requirement already satisfied: idna<3,>=2.5 in /usr/local/lib/python3.7/dist-packages (from requests->transformers) (2.10)\n",
            "Requirement already satisfied: certifi>=2017.4.17 in /usr/local/lib/python3.7/dist-packages (from requests->transformers) (2021.5.30)\n",
            "Requirement already satisfied: joblib in /usr/local/lib/python3.7/dist-packages (from sacremoses->transformers) (1.0.1)\n",
            "Requirement already satisfied: six in /usr/local/lib/python3.7/dist-packages (from sacremoses->transformers) (1.15.0)\n",
            "Requirement already satisfied: click in /usr/local/lib/python3.7/dist-packages (from sacremoses->transformers) (7.1.2)\n",
            "Installing collected packages: pyyaml, tokenizers, sacremoses, huggingface-hub, transformers\n",
            "  Attempting uninstall: pyyaml\n",
            "    Found existing installation: PyYAML 3.13\n",
            "    Uninstalling PyYAML-3.13:\n",
            "      Successfully uninstalled PyYAML-3.13\n",
            "Successfully installed huggingface-hub-0.0.19 pyyaml-6.0 sacremoses-0.0.46 tokenizers-0.10.3 transformers-4.11.3\n"
          ]
        }
      ]
    },
    {
      "cell_type": "code",
      "metadata": {
        "colab": {
          "base_uri": "https://localhost:8080/",
          "height": 98,
          "referenced_widgets": [
            "e81d33c737dc49f8944a7cecfcca416e",
            "06ba6af5315548958c1a5d0d50b90c33",
            "3053dc947f944b658ea68e8aed88a47b",
            "26282707b39549cbace4aba93f468cf7",
            "055722918d724d23b6a462889c1cf63e",
            "2c39931152b046eda610ce3e2bbc9b0b",
            "3a4967fb004f4e9a8289980148aedbd6",
            "2ad0d0cde4104986803a7242a4bfb105",
            "59b9185bcc3e47f7989d446575e14d9d",
            "94e06af45bfd4cb7bb47eb80e5fdb901",
            "ce38bbb7c6b2498fbffbe0fea5abcf47",
            "69bb202912074fb8b1c765660b45660a",
            "b79b0d3ee63d45349817f62ea9791aad",
            "0c29866499a64449bc92c86f28652118",
            "2be101fa80554085b95956eb12c0fe0b",
            "4fb7450d87db495dafb2791d6241608b",
            "f2917de159204753b16cc3657ac18168",
            "dabe2eb746de4ef7a6e284a7e8fe28ea",
            "f45e4ff7224d4d09bc6fcc1e5ac75265",
            "764044d604274675924d52503f57b710",
            "15c39d7830c04f77b164edb8edc4937e",
            "56b46a0188354472a9c5ee03a6e3dfd0"
          ]
        },
        "id": "nCSi3qQjtuIj",
        "outputId": "bbe44847-17ae-4f16-f4ff-e315f06d9c21"
      },
      "source": [
        "from transformers import AutoTokenizer, AutoModel\n",
        "\n",
        "bnbert_tokenizer = AutoTokenizer.from_pretrained(\"sagorsarker/bangla-bert-base\")\n",
        "text = \"আমি বাংলায় গান গাই।\"\n",
        "bnbert_tokenizer.tokenize(text) # test work or not"
      ],
      "execution_count": null,
      "outputs": [
        {
          "data": {
            "application/vnd.jupyter.widget-view+json": {
              "model_id": "e81d33c737dc49f8944a7cecfcca416e",
              "version_major": 2,
              "version_minor": 0
            },
            "text/plain": [
              "Downloading:   0%|          | 0.00/491 [00:00<?, ?B/s]"
            ]
          },
          "metadata": {},
          "output_type": "display_data"
        },
        {
          "data": {
            "application/vnd.jupyter.widget-view+json": {
              "model_id": "69bb202912074fb8b1c765660b45660a",
              "version_major": 2,
              "version_minor": 0
            },
            "text/plain": [
              "Downloading:   0%|          | 0.00/2.13M [00:00<?, ?B/s]"
            ]
          },
          "metadata": {},
          "output_type": "display_data"
        },
        {
          "data": {
            "text/plain": [
              "['আমি', 'বাংলা', '##য', 'গান', 'গাই', '।']"
            ]
          },
          "execution_count": 13,
          "metadata": {},
          "output_type": "execute_result"
        }
      ]
    },
    {
      "cell_type": "code",
      "metadata": {
        "colab": {
          "base_uri": "https://localhost:8080/",
          "height": 120,
          "referenced_widgets": [
            "16b873000f804c868bd9cbd2eef4aac8",
            "5db9dda03c5b47d4b6d36aaf45f9e9c9",
            "44b50ec7198341acbcdc45ee72b2b8b5",
            "568bf8d9ff1f47408dd86866b9f46be3",
            "199e8717c5c04d9cbdaed43571549765",
            "a9e28fe693d84efc9bda05167713b4ef",
            "b14a44e2ff0d45cea0b0b6eb13cc619d",
            "2c0c8624401c4521957bb23ed03b76a7",
            "e0a6409b627c46b8864c93619a6d558e",
            "9b12b89420ba4f5a884fbc8181eebca1",
            "1b3ff9295f3b4594ba9243b910538f9b"
          ]
        },
        "id": "tYtRqmL377BU",
        "outputId": "7abb6988-33ec-47aa-ff5c-5490eb32513e"
      },
      "source": [
        "from transformers import BertForMaskedLM, BertTokenizer, pipeline\n",
        "bnmodel = BertForMaskedLM.from_pretrained(\"sagorsarker/bangla-bert-base\")\n",
        "bntokenizer = BertTokenizer.from_pretrained(\"sagorsarker/bangla-bert-base\")"
      ],
      "execution_count": null,
      "outputs": [
        {
          "data": {
            "application/vnd.jupyter.widget-view+json": {
              "model_id": "16b873000f804c868bd9cbd2eef4aac8",
              "version_major": 2,
              "version_minor": 0
            },
            "text/plain": [
              "Downloading:   0%|          | 0.00/630M [00:00<?, ?B/s]"
            ]
          },
          "metadata": {},
          "output_type": "display_data"
        },
        {
          "name": "stderr",
          "output_type": "stream",
          "text": [
            "Some weights of the model checkpoint at sagorsarker/bangla-bert-base were not used when initializing BertForMaskedLM: ['cls.seq_relationship.weight', 'cls.seq_relationship.bias']\n",
            "- This IS expected if you are initializing BertForMaskedLM from the checkpoint of a model trained on another task or with another architecture (e.g. initializing a BertForSequenceClassification model from a BertForPreTraining model).\n",
            "- This IS NOT expected if you are initializing BertForMaskedLM from the checkpoint of a model that you expect to be exactly identical (initializing a BertForSequenceClassification model from a BertForSequenceClassification model).\n"
          ]
        }
      ]
    },
    {
      "cell_type": "markdown",
      "metadata": {
        "id": "1DE2CkwasGBp"
      },
      "source": [
        "# Helper Functions"
      ]
    },
    {
      "cell_type": "code",
      "metadata": {
        "id": "2koiQ-6asGBs"
      },
      "source": [
        "def bert_encode(texts, tokenizer, max_len=512):\n",
        "    all_tokens = []\n",
        "    all_masks = []\n",
        "    all_segments = []\n",
        "    \n",
        "    for text in texts:\n",
        "        text = bntokenizer.tokenize(text)\n",
        "            \n",
        "        text = text[:max_len-2]\n",
        "        input_sequence = [\"[CLS]\"] + text + [\"[SEP]\"]\n",
        "        pad_len = max_len - len(input_sequence)\n",
        "        \n",
        "        tokens = bntokenizer.convert_tokens_to_ids(input_sequence)\n",
        "        tokens += [0] * pad_len\n",
        "        pad_masks = [1] * len(input_sequence) + [0] * pad_len\n",
        "        segment_ids = [0] * max_len\n",
        "        \n",
        "        all_tokens.append(tokens)\n",
        "        all_masks.append(pad_masks)\n",
        "        all_segments.append(segment_ids)\n",
        "    \n",
        "    return np.array(all_tokens), np.array(all_masks), np.array(all_segments)"
      ],
      "execution_count": null,
      "outputs": []
    },
    {
      "cell_type": "code",
      "metadata": {
        "id": "Ch9nfrnPsGB3"
      },
      "source": [
        "def build_model(bert_layer, max_len=50):\n",
        "\n",
        "    def recall_m(y_true, y_pred):\n",
        "      true_positives = K.sum(K.round(K.clip(y_true * y_pred, 0, 1)))\n",
        "      possible_positives = K.sum(K.round(K.clip(y_true, 0, 1)))\n",
        "      recall = true_positives / (possible_positives + K.epsilon())\n",
        "      return recall\n",
        "\n",
        "    def precision_m(y_true, y_pred):\n",
        "      true_positives = K.sum(K.round(K.clip(y_true * y_pred, 0, 1)))\n",
        "      predicted_positives = K.sum(K.round(K.clip(y_pred, 0, 1)))\n",
        "      precision = true_positives / (predicted_positives + K.epsilon())\n",
        "      return precision\n",
        "    \n",
        "    def f1_m(y_true, y_pred):\n",
        "      precision = precision_m(y_true, y_pred)\n",
        "      recall = recall_m(y_true, y_pred)\n",
        "      return 2*((precision*recall)/(precision+recall+K.epsilon()))\n",
        "\n",
        "\n",
        "    ########\n",
        "   \n",
        "    input_word_ids = Input(shape=(max_len,), dtype=tf.int32, name=\"input_word_ids\")\n",
        "    input_mask = Input(shape=(max_len,), dtype=tf.int32, name=\"input_mask\")\n",
        "    segment_ids = Input(shape=(max_len,), dtype=tf.int32, name=\"segment_ids\")\n",
        "\n",
        "    _, sequence_output = bert_layer([input_word_ids, input_mask, segment_ids])\n",
        "    clf_output = sequence_output[:, 0, :]\n",
        "    out = Dense(7, activation='sigmoid')(clf_output)\n",
        "    \n",
        "    model = Model(inputs=[input_word_ids, input_mask, segment_ids], outputs=out)\n",
        "    optimizer = Adam(learning_rate=1e-5)\n",
        "    model.compile(optimizer=optimizer, loss='sparse_categorical_crossentropy', metrics=['accuracy' ,recall_m ,precision_m, f1_m])\n",
        "    \n",
        "    return model"
      ],
      "execution_count": null,
      "outputs": []
    },
    {
      "cell_type": "markdown",
      "metadata": {
        "id": "jSLRdXB_sGB7"
      },
      "source": [
        "# Load and Preprocess\n",
        "\n",
        "- Load BERT from the Tensorflow Hub\n",
        "- Load CSV files containing training data\n",
        "- Load tokenizer from the bert layer\n",
        "- Encode the text into tokens, masks, and segment flags"
      ]
    },
    {
      "cell_type": "code",
      "metadata": {
        "colab": {
          "base_uri": "https://localhost:8080/"
        },
        "id": "tI9QJPxasGB_",
        "outputId": "c3c59afd-abf6-4002-a7bb-53f55920fb97"
      },
      "source": [
        "# %%time\n",
        "module_url = \"https://tfhub.dev/tensorflow/bert_en_uncased_L-24_H-1024_A-16/1\"\n",
        "bert_layer = hub.KerasLayer(module_url, trainable=True)"
      ],
      "execution_count": null,
      "outputs": [
        {
          "name": "stderr",
          "output_type": "stream",
          "text": [
            "INFO:absl:Using /tmp/tfhub_modules to cache modules.\n",
            "INFO:absl:Downloading TF-Hub Module 'https://tfhub.dev/tensorflow/bert_en_uncased_L-24_H-1024_A-16/1'.\n",
            "INFO:absl:Downloading https://tfhub.dev/tensorflow/bert_en_uncased_L-24_H-1024_A-16/1: 1.21GB\n",
            "INFO:absl:Downloaded https://tfhub.dev/tensorflow/bert_en_uncased_L-24_H-1024_A-16/1, Total size: 1.26GB\n",
            "INFO:absl:Downloaded TF-Hub Module 'https://tfhub.dev/tensorflow/bert_en_uncased_L-24_H-1024_A-16/1'.\n"
          ]
        }
      ]
    },
    {
      "cell_type": "code",
      "metadata": {
        "id": "OeJXmj0KsGCL"
      },
      "source": [
        "# vocab_file = bert_layer.resolved_object.vocab_file.asset_path.numpy()\n",
        "# do_lower_case = bert_layer.resolved_object.do_lower_case.numpy()\n",
        "# tokenizer = tokenization.FullTokenizer(vocab_file, do_lower_case)"
      ],
      "execution_count": null,
      "outputs": []
    },
    {
      "cell_type": "code",
      "metadata": {
        "id": "e2ANM9ovka3m"
      },
      "source": [
        "from sklearn.preprocessing import LabelEncoder\n",
        "\n",
        "def label_encoding(dataset,bool):\n",
        "  '''\n",
        "  This function will convert categorical class names into a numeric label\n",
        "\n",
        "  Args:\n",
        "  dataset: A dataset\n",
        "  bool : a boolean (True or False)\n",
        "\n",
        "  returns:\n",
        "  labels: encoded labels \n",
        "  '''\n",
        "  le = LabelEncoder()\n",
        "  le.fit(dataset.category)\n",
        "  encoded_labels = le.transform(dataset.category)\n",
        "  labels = np.array(encoded_labels) # Converting into numpy array\n",
        "  class_names =le.classes_ ## Define the class names again\n",
        "  if bool == True:\n",
        "    print(\"\\n\\t\\t\\t===== Label Encoding =====\",\"\\nClass Names:-->\",le.classes_)\n",
        "  return labels "
      ],
      "execution_count": null,
      "outputs": []
    },
    {
      "cell_type": "code",
      "metadata": {
        "id": "Kl60LjOVkgLn"
      },
      "source": [
        "labels = label_encoding(train,False)"
      ],
      "execution_count": null,
      "outputs": []
    },
    {
      "cell_type": "code",
      "metadata": {
        "colab": {
          "base_uri": "https://localhost:8080/"
        },
        "id": "dD1YHzoqHnj4",
        "outputId": "039fe98b-3bdb-494a-bed3-508156cf1e1a"
      },
      "source": [
        "train_labels = labels\n",
        "train_labels # Check "
      ],
      "execution_count": null,
      "outputs": [
        {
          "data": {
            "text/plain": [
              "array([0, 4, 3, ..., 6, 6, 1])"
            ]
          },
          "execution_count": 22,
          "metadata": {},
          "output_type": "execute_result"
        }
      ]
    },
    {
      "cell_type": "code",
      "metadata": {
        "id": "bhlz7bu0sGCO"
      },
      "source": [
        "train_input = bert_encode(train.cleanText.values, bntokenizer, max_len=50)\n",
        "test_input = bert_encode(test.cleanText.values, bntokenizer, max_len=50)"
      ],
      "execution_count": null,
      "outputs": []
    },
    {
      "cell_type": "markdown",
      "metadata": {
        "id": "EPTi0AufsGCZ"
      },
      "source": [
        "# Model: Build and Load Model Weight"
      ]
    },
    {
      "cell_type": "code",
      "metadata": {
        "colab": {
          "base_uri": "https://localhost:8080/"
        },
        "id": "L2-SkYoNsGCc",
        "outputId": "76acf001-e908-4c4c-ce45-237726d96eb9"
      },
      "source": [
        "\n",
        "model = build_model(bert_layer, max_len=50)\n",
        "\n",
        "model.summary()"
      ],
      "execution_count": null,
      "outputs": [
        {
          "name": "stdout",
          "output_type": "stream",
          "text": [
            "Model: \"model\"\n",
            "__________________________________________________________________________________________________\n",
            "Layer (type)                    Output Shape         Param #     Connected to                     \n",
            "==================================================================================================\n",
            "input_word_ids (InputLayer)     [(None, 50)]         0                                            \n",
            "__________________________________________________________________________________________________\n",
            "input_mask (InputLayer)         [(None, 50)]         0                                            \n",
            "__________________________________________________________________________________________________\n",
            "segment_ids (InputLayer)        [(None, 50)]         0                                            \n",
            "__________________________________________________________________________________________________\n",
            "keras_layer (KerasLayer)        [(None, 1024), (None 335141889   input_word_ids[0][0]             \n",
            "                                                                 input_mask[0][0]                 \n",
            "                                                                 segment_ids[0][0]                \n",
            "__________________________________________________________________________________________________\n",
            "tf.__operators__.getitem (Slici (None, 1024)         0           keras_layer[0][1]                \n",
            "__________________________________________________________________________________________________\n",
            "dense (Dense)                   (None, 7)            7175        tf.__operators__.getitem[0][0]   \n",
            "==================================================================================================\n",
            "Total params: 335,149,064\n",
            "Trainable params: 335,149,063\n",
            "Non-trainable params: 1\n",
            "__________________________________________________________________________________________________\n"
          ]
        }
      ]
    },
    {
      "cell_type": "code",
      "metadata": {
        "id": "8X0VqbhTsGCs"
      },
      "source": [
        "model.load_weights('/content/drive/MyDrive/1 Bert Model Bangla Text/model_again_from_1.h5')\n"
      ],
      "execution_count": null,
      "outputs": []
    },
    {
      "cell_type": "markdown",
      "metadata": {
        "id": "FcP5I9hNkl9h"
      },
      "source": [
        "# Model Prediction"
      ]
    },
    {
      "cell_type": "code",
      "metadata": {
        "colab": {
          "background_save": true
        },
        "id": "0XM9PDzi_uss"
      },
      "source": [
        "test_pred = model.predict(test_input)"
      ],
      "execution_count": null,
      "outputs": []
    },
    {
      "cell_type": "code",
      "metadata": {
        "colab": {
          "background_save": true
        },
        "id": "h30ADJJF9P2E",
        "outputId": "039cf518-d606-4708-fa54-62816f7b8476"
      },
      "source": [
        "test_pred"
      ],
      "execution_count": null,
      "outputs": [
        {
          "data": {
            "text/plain": [
              "array([[0.34907606, 0.99978393, 0.00626126, ..., 0.02261654, 0.87866336,\n",
              "        0.38478413],\n",
              "       [0.01744634, 0.1840343 , 0.80145717, ..., 0.9959396 , 0.04246549,\n",
              "        0.09030335],\n",
              "       [0.41013452, 0.03149081, 0.24740924, ..., 0.00182686, 0.9203102 ,\n",
              "        0.32915524],\n",
              "       ...,\n",
              "       [0.36081558, 0.06368786, 0.23657171, ..., 0.00166449, 0.10154317,\n",
              "        0.99878246],\n",
              "       [0.9432657 , 0.2569881 , 0.09263936, ..., 0.01280254, 0.4441346 ,\n",
              "        0.9186623 ],\n",
              "       [0.99982774, 0.0268163 , 0.40409663, ..., 0.03063524, 0.7607629 ,\n",
              "        0.5453403 ]], dtype=float32)"
            ]
          },
          "execution_count": null,
          "metadata": {},
          "output_type": "execute_result"
        }
      ]
    },
    {
      "cell_type": "code",
      "metadata": {
        "colab": {
          "base_uri": "https://localhost:8080/"
        },
        "id": "mZxy7mAIC_g_",
        "outputId": "3118b667-b00f-46dc-b96d-aabb28f5c626"
      },
      "source": [
        "labels_test = label_encoding(test,True) # Encode test label"
      ],
      "execution_count": 42,
      "outputs": [
        {
          "output_type": "stream",
          "name": "stdout",
          "text": [
            "\n",
            "\t\t\t===== Label Encoding ===== \n",
            "Class Names:--> ['economy' 'education' 'entertainment' 'international' 'sports' 'state'\n",
            " 'technology']\n"
          ]
        }
      ]
    },
    {
      "cell_type": "code",
      "metadata": {
        "id": "pXexRwVGDENc"
      },
      "source": [
        "y_test =  labels_test"
      ],
      "execution_count": 43,
      "outputs": []
    },
    {
      "cell_type": "code",
      "metadata": {
        "colab": {
          "base_uri": "https://localhost:8080/"
        },
        "id": "uXL2StMEsGCv",
        "outputId": "28625e5d-1358-491c-bd58-5b09fa6c6896"
      },
      "source": [
        "y_pred = np.argmax(test_pred, axis=1)\n",
        "y_pred"
      ],
      "execution_count": 44,
      "outputs": [
        {
          "output_type": "execute_result",
          "data": {
            "text/plain": [
              "array([1, 4, 3, ..., 6, 0, 0])"
            ]
          },
          "metadata": {},
          "execution_count": 44
        }
      ]
    },
    {
      "cell_type": "markdown",
      "metadata": {
        "id": "qImJnuQ73IMl"
      },
      "source": [
        "# Evaluation"
      ]
    },
    {
      "cell_type": "code",
      "metadata": {
        "colab": {
          "base_uri": "https://localhost:8080/",
          "height": 472
        },
        "id": "D9aqPIRKCk7j",
        "outputId": "07964e6f-ec14-465c-9066-1d5db085db0b"
      },
      "source": [
        "from sklearn.metrics import classification_report, confusion_matrix\n",
        "from sklearn.metrics import accuracy_score\n",
        "cm = confusion_matrix(y_test, y_pred) \n",
        "\n",
        "class_names = ['economy','education','entertainment','international','sports','state','technology']\n",
        "# Transform to df for easier plotting\n",
        "cm_df = pd.DataFrame(cm,\n",
        "                     index = class_names, \n",
        "                     columns = class_names)\n",
        "\n",
        "plt.figure(figsize=(8,6))\n",
        "sns.heatmap(cm_df, annot=True,cmap=\"Greens\", fmt='g')\n",
        "plt.title('Bert \\nAccuracy: {0:.2f}'.format(accuracy_score(y_test, y_pred)*100))\n",
        "plt.ylabel('True label')\n",
        "plt.xlabel('Predicted label')\n",
        "plt.xticks(rotation = 45)\n",
        "plt.yticks(rotation = 45)\n",
        "plt.show()"
      ],
      "execution_count": 45,
      "outputs": [
        {
          "output_type": "display_data",
          "data": {
            "image/png": "[encoded data removed]",
            "text/plain": [
              "<Figure size 576x432 with 2 Axes>"
            ]
          },
          "metadata": {}
        }
      ]
    },
    {
      "cell_type": "code",
      "metadata": {
        "colab": {
          "base_uri": "https://localhost:8080/",
          "height": 359
        },
        "id": "r2MZz1nHvk9k",
        "outputId": "32f5135c-5395-4f45-ed34-b14c46417a52"
      },
      "source": [
        "class_names = ['economy','education','entertainment','international','sports','state','technology']\n",
        "# predictions = model.predict(X_test)\n",
        "# y_pred = np.argmax(predictions, axis=1)\n",
        "report = pd.DataFrame(classification_report(y_true = y_test, y_pred = y_pred, output_dict=True)).transpose()\n",
        "report = report.rename(index={'0': 'economy','1':'education','2':'entertainment','3':'international','4':'sports','5':'state',\n",
        "                              '6': 'technology','7':'International'})\n",
        "report[['precision','recall','f1-score']]=report[['precision','recall','f1-score']].apply(lambda x: round(x*100,2))\n",
        "report"
      ],
      "execution_count": 60,
      "outputs": [
        {
          "output_type": "execute_result",
          "data": {
            "text/html": [
              "<div>\n",
              "<style scoped>\n",
              "    .dataframe tbody tr th:only-of-type {\n",
              "        vertical-align: middle;\n",
              "    }\n",
              "\n",
              "    .dataframe tbody tr th {\n",
              "        vertical-align: top;\n",
              "    }\n",
              "\n",
              "    .dataframe thead th {\n",
              "        text-align: right;\n",
              "    }\n",
              "</style>\n",
              "<table border=\"1\" class=\"dataframe\">\n",
              "  <thead>\n",
              "    <tr style=\"text-align: right;\">\n",
              "      <th></th>\n",
              "      <th>precision</th>\n",
              "      <th>recall</th>\n",
              "      <th>f1-score</th>\n",
              "      <th>support</th>\n",
              "    </tr>\n",
              "  </thead>\n",
              "  <tbody>\n",
              "    <tr>\n",
              "      <th>economy</th>\n",
              "      <td>86.92</td>\n",
              "      <td>82.76</td>\n",
              "      <td>84.79</td>\n",
              "      <td>14488.000000</td>\n",
              "    </tr>\n",
              "    <tr>\n",
              "      <th>education</th>\n",
              "      <td>89.70</td>\n",
              "      <td>89.06</td>\n",
              "      <td>89.38</td>\n",
              "      <td>12818.000000</td>\n",
              "    </tr>\n",
              "    <tr>\n",
              "      <th>entertainment</th>\n",
              "      <td>85.73</td>\n",
              "      <td>91.22</td>\n",
              "      <td>88.39</td>\n",
              "      <td>15261.000000</td>\n",
              "    </tr>\n",
              "    <tr>\n",
              "      <th>international</th>\n",
              "      <td>86.01</td>\n",
              "      <td>88.08</td>\n",
              "      <td>87.03</td>\n",
              "      <td>15314.000000</td>\n",
              "    </tr>\n",
              "    <tr>\n",
              "      <th>sports</th>\n",
              "      <td>96.04</td>\n",
              "      <td>92.94</td>\n",
              "      <td>94.46</td>\n",
              "      <td>15883.000000</td>\n",
              "    </tr>\n",
              "    <tr>\n",
              "      <th>state</th>\n",
              "      <td>83.64</td>\n",
              "      <td>79.55</td>\n",
              "      <td>81.54</td>\n",
              "      <td>15183.000000</td>\n",
              "    </tr>\n",
              "    <tr>\n",
              "      <th>technology</th>\n",
              "      <td>78.90</td>\n",
              "      <td>84.39</td>\n",
              "      <td>81.56</td>\n",
              "      <td>9937.000000</td>\n",
              "    </tr>\n",
              "    <tr>\n",
              "      <th>accuracy</th>\n",
              "      <td>87.01</td>\n",
              "      <td>87.01</td>\n",
              "      <td>87.01</td>\n",
              "      <td>0.870131</td>\n",
              "    </tr>\n",
              "    <tr>\n",
              "      <th>macro avg</th>\n",
              "      <td>86.70</td>\n",
              "      <td>86.86</td>\n",
              "      <td>86.74</td>\n",
              "      <td>98884.000000</td>\n",
              "    </tr>\n",
              "    <tr>\n",
              "      <th>weighted avg</th>\n",
              "      <td>87.11</td>\n",
              "      <td>87.01</td>\n",
              "      <td>87.02</td>\n",
              "      <td>98884.000000</td>\n",
              "    </tr>\n",
              "  </tbody>\n",
              "</table>\n",
              "</div>"
            ],
            "text/plain": [
              "               precision  recall  f1-score       support\n",
              "economy            86.92   82.76     84.79  14488.000000\n",
              "education          89.70   89.06     89.38  12818.000000\n",
              "entertainment      85.73   91.22     88.39  15261.000000\n",
              "international      86.01   88.08     87.03  15314.000000\n",
              "sports             96.04   92.94     94.46  15883.000000\n",
              "state              83.64   79.55     81.54  15183.000000\n",
              "technology         78.90   84.39     81.56   9937.000000\n",
              "accuracy           87.01   87.01     87.01      0.870131\n",
              "macro avg          86.70   86.86     86.74  98884.000000\n",
              "weighted avg       87.11   87.01     87.02  98884.000000"
            ]
          },
          "metadata": {},
          "execution_count": 60
        }
      ]
    },
    {
      "cell_type": "code",
      "metadata": {
        "colab": {
          "base_uri": "https://localhost:8080/",
          "height": 419
        },
        "id": "u2mJdjvBgnhD",
        "outputId": "8c292775-1ce1-4f06-de2e-bef2151a009a"
      },
      "source": [
        "test"
      ],
      "execution_count": 56,
      "outputs": [
        {
          "output_type": "execute_result",
          "data": {
            "text/html": [
              "<div>\n",
              "<style scoped>\n",
              "    .dataframe tbody tr th:only-of-type {\n",
              "        vertical-align: middle;\n",
              "    }\n",
              "\n",
              "    .dataframe tbody tr th {\n",
              "        vertical-align: top;\n",
              "    }\n",
              "\n",
              "    .dataframe thead th {\n",
              "        text-align: right;\n",
              "    }\n",
              "</style>\n",
              "<table border=\"1\" class=\"dataframe\">\n",
              "  <thead>\n",
              "    <tr style=\"text-align: right;\">\n",
              "      <th></th>\n",
              "      <th>category</th>\n",
              "      <th>text</th>\n",
              "      <th>cleanText</th>\n",
              "    </tr>\n",
              "  </thead>\n",
              "  <tbody>\n",
              "    <tr>\n",
              "      <th>0</th>\n",
              "      <td>education</td>\n",
              "      <td>অধ্যায়-২প্রিয় পরীক্ষার্থী, আজ তথ্য ও যোগাযোগ প...</td>\n",
              "      <td>অধ্যায়    প্রিয়    পরীক্ষার্থী    তথ্য    যো...</td>\n",
              "    </tr>\n",
              "    <tr>\n",
              "      <th>1</th>\n",
              "      <td>sports</td>\n",
              "      <td>স্পিন, স্পিন, স্পিন। লর্ডসে ইয়াসির শাহ্‌র লেগ ...</td>\n",
              "      <td>স্পিন    স্পিন    স্পিন    লর্ডসে    ইয়াসির ...</td>\n",
              "    </tr>\n",
              "    <tr>\n",
              "      <th>2</th>\n",
              "      <td>international</td>\n",
              "      <td>সিরিয়ার উত্তর-পশ্চিমাঞ্চলে গতকাল রোববার বিমান...</td>\n",
              "      <td>সিরিয়ার    উত্তর    পশ্চিমাঞ্চলে    গতকাল  ...</td>\n",
              "    </tr>\n",
              "    <tr>\n",
              "      <th>3</th>\n",
              "      <td>international</td>\n",
              "      <td>দক্ষিণ আফ্রিকার কেপটাউন বিশ্ববিদ্যালয়ের (ইউসিট...</td>\n",
              "      <td>দক্ষিণ    আফ্রিকার    কেপটাউন    বিশ্ববিদ্যা...</td>\n",
              "    </tr>\n",
              "    <tr>\n",
              "      <th>4</th>\n",
              "      <td>technology</td>\n",
              "      <td>সহজে ডিজিটাল আর্থিক সেবা দিতে অ্যাপ ও ডিজিটাল ...</td>\n",
              "      <td>সহজে    ডিজিটাল    আর্থিক    সেবা    অ্যাপ  ...</td>\n",
              "    </tr>\n",
              "    <tr>\n",
              "      <th>...</th>\n",
              "      <td>...</td>\n",
              "      <td>...</td>\n",
              "      <td>...</td>\n",
              "    </tr>\n",
              "    <tr>\n",
              "      <th>98879</th>\n",
              "      <td>sports</td>\n",
              "      <td>১৯৫৯ সালে ইউরোপিয়ান ক্লাব কাপে জাতীয় দল পাঠান...</td>\n",
              "      <td>সালে    ইউরোপিয়ান    ক্লাব    কাপে    জাতীয়...</td>\n",
              "    </tr>\n",
              "    <tr>\n",
              "      <th>98880</th>\n",
              "      <td>entertainment</td>\n",
              "      <td>গানের দল সহজিয়ার প্রথম অ্যালবাম ‘রঙমিস্ত্রী’র ...</td>\n",
              "      <td>গানের    সহজিয়ার    প্রথম    অ্যালবাম    রঙম...</td>\n",
              "    </tr>\n",
              "    <tr>\n",
              "      <th>98881</th>\n",
              "      <td>international</td>\n",
              "      <td>ফেসবুকের ৮১ হাজার ব্যবহারকারীর তথ্য চুরি করে স...</td>\n",
              "      <td>ফেসবুকের    হাজার    ব্যবহারকারীর    তথ্য   ...</td>\n",
              "    </tr>\n",
              "    <tr>\n",
              "      <th>98882</th>\n",
              "      <td>economy</td>\n",
              "      <td>পেট্রোল পাম্পে তেল বা সিএনজির বিল বিকাশের মাধ...</td>\n",
              "      <td>পেট্রোল    পাম্পে    তেল    সিএনজির    বিল  ...</td>\n",
              "    </tr>\n",
              "    <tr>\n",
              "      <th>98883</th>\n",
              "      <td>economy</td>\n",
              "      <td>বছর শেষে ঢাকা স্টক এক্সচেঞ্জের (ডিএসই) দুটি সূ...</td>\n",
              "      <td>বছর    শেষে    ঢাকা    স্টক    এক্সচেঞ্জের  ...</td>\n",
              "    </tr>\n",
              "  </tbody>\n",
              "</table>\n",
              "<p>98884 rows × 3 columns</p>\n",
              "</div>"
            ],
            "text/plain": [
              "            category  ...                                          cleanText\n",
              "0          education  ...    অধ্যায়    প্রিয়    পরীক্ষার্থী    তথ্য    যো...\n",
              "1             sports  ...    স্পিন    স্পিন    স্পিন    লর্ডসে    ইয়াসির ...\n",
              "2      international  ...    সিরিয়ার    উত্তর    পশ্চিমাঞ্চলে    গতকাল  ...\n",
              "3      international  ...    দক্ষিণ    আফ্রিকার    কেপটাউন    বিশ্ববিদ্যা...\n",
              "4         technology  ...    সহজে    ডিজিটাল    আর্থিক    সেবা    অ্যাপ  ...\n",
              "...              ...  ...                                                ...\n",
              "98879         sports  ...    সালে    ইউরোপিয়ান    ক্লাব    কাপে    জাতীয়...\n",
              "98880  entertainment  ...    গানের    সহজিয়ার    প্রথম    অ্যালবাম    রঙম...\n",
              "98881  international  ...    ফেসবুকের    হাজার    ব্যবহারকারীর    তথ্য   ...\n",
              "98882        economy  ...    পেট্রোল    পাম্পে    তেল    সিএনজির    বিল  ...\n",
              "98883        economy  ...    বছর    শেষে    ঢাকা    স্টক    এক্সচেঞ্জের  ...\n",
              "\n",
              "[98884 rows x 3 columns]"
            ]
          },
          "metadata": {},
          "execution_count": 56
        }
      ]
    },
    {
      "cell_type": "code",
      "metadata": {
        "id": "LsI9vIILZj1Z"
      },
      "source": [
        "sub=pd.DataFrame({'True':y_test,'Pred_Bert':y_pred})\n",
        "sub.to_csv('Evaluation_Bert.csv',index=False)"
      ],
      "execution_count": 59,
      "outputs": []
    }
  ]
}