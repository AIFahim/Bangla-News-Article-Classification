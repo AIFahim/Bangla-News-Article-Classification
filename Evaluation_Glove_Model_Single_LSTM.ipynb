{
  "nbformat": 4,
  "nbformat_minor": 0,
  "metadata": {
    "colab": {
      "name": "Evaluation_Glove_Model_Single_LSTM.ipynb",
      "provenance": [],
      "collapsed_sections": [],
      "machine_shape": "hm",
      "include_colab_link": true
    },
    "kernelspec": {
      "display_name": "Python 3",
      "name": "python3"
    },
    "language_info": {
      "name": "python"
    }
  },
  "cells": [
    {
      "cell_type": "markdown",
      "metadata": {
        "id": "view-in-github",
        "colab_type": "text"
      },
      "source": [
        "<a href=\"https://colab.research.google.com/github/AIFahim/Bangla-News-Article-Classification/blob/master/Evaluation_Glove_Model_Single_LSTM.ipynb\" target=\"_parent\"><img src=\"https://colab.research.google.com/assets/colab-badge.svg\" alt=\"Open In Colab\"/></a>"
      ]
    },
    {
      "cell_type": "markdown",
      "metadata": {
        "id": "5wfRNh2knxbT"
      },
      "source": [
        "## Importing required Libraries"
      ]
    },
    {
      "cell_type": "code",
      "metadata": {
        "id": "25pWvw-4nuvi"
      },
      "source": [
        "import pandas as pd\n",
        "import matplotlib.pyplot as plt\n",
        "import seaborn as sns\n",
        "import numpy as np\n",
        "from nltk.corpus import stopwords\n",
        "from nltk.util import ngrams\n",
        "from sklearn.feature_extraction.text import CountVectorizer\n",
        "from collections import defaultdict\n",
        "from collections import  Counter\n",
        "plt.style.use('ggplot')\n",
        "import re\n",
        "from nltk.tokenize import word_tokenize\n",
        "import gensim\n",
        "import string\n",
        "\n",
        "from keras import backend as K\n",
        "from keras.preprocessing.text import Tokenizer\n",
        "from keras.preprocessing.sequence import pad_sequences\n",
        "from tqdm import tqdm\n",
        "from keras.models import Sequential\n",
        "from keras.layers import Embedding,LSTM,Dense,SpatialDropout1D\n",
        "from keras.initializers import Constant\n",
        "from sklearn.model_selection import train_test_split\n",
        "from sklearn.preprocessing import LabelEncoder\n",
        "from sklearn.metrics import confusion_matrix, f1_score\n",
        "# from keras.optimizers import Adam\n",
        "from tensorflow.keras.optimizers import Adam\n",
        "\n",
        "import plotly.express as px\n",
        "\n",
        "import zipfile\n",
        "\n",
        "\n",
        "\n",
        "import tensorflow.keras as keras \n",
        "import tensorflow as tf\n",
        "import tensorflow_hub as hub\n",
        "\n",
        "\n",
        "\n",
        "class color: # Text style\n",
        "   PURPLE = '\\033[95m'\n",
        "   CYAN = '\\033[96m'\n",
        "   DARKCYAN = '\\033[36m'\n",
        "   BLUE = '\\033[94m'\n",
        "   GREEN = '\\033[92m'\n",
        "   YELLOW = '\\033[93m'\n",
        "   RED = '\\033[91m'\n",
        "   BOLD = '\\033[1m'\n",
        "   UNDERLINE = '\\033[4m'\n",
        "   END = '\\033[0m'"
      ],
      "execution_count": null,
      "outputs": []
    },
    {
      "cell_type": "markdown",
      "metadata": {
        "id": "uzsI2cA9kcRe"
      },
      "source": [
        "## Loading the data and getting besic information about data"
      ]
    },
    {
      "cell_type": "code",
      "metadata": {
        "colab": {
          "base_uri": "https://localhost:8080/"
        },
        "id": "yofjm-ZQjf56",
        "outputId": "9f3654e0-79b3-4c36-e5f9-57be1bb4aa92"
      },
      "source": [
        "# Download Dataset\n",
        "!gdown --id 1boKJGs-XUWsxz6JocgU7wyhf8nSayr7k # train csv\n",
        "!gdown --id 1WLTPLk8oJ0XDduXnzLmxM3xwlChsgs81 # test csv\n",
        "!gdown --id 1-6MlDGVEZlLFQliVL6Hgxee1wnpi_yeG # full data csv after added new clean text column"
      ],
      "execution_count": null,
      "outputs": [
        {
          "name": "stdout",
          "output_type": "stream",
          "text": [
            "Downloading...\n",
            "From: https://drive.google.com/uc?id=1boKJGs-XUWsxz6JocgU7wyhf8nSayr7k\n",
            "To: /content/train.csv\n",
            "100% 859M/859M [00:06<00:00, 131MB/s] \n",
            "Downloading...\n",
            "From: https://drive.google.com/uc?id=1WLTPLk8oJ0XDduXnzLmxM3xwlChsgs81\n",
            "To: /content/test.csv\n",
            "100% 854M/854M [00:05<00:00, 147MB/s]\n",
            "Downloading...\n",
            "From: https://drive.google.com/uc?id=1-6MlDGVEZlLFQliVL6Hgxee1wnpi_yeG\n",
            "To: /content/fulldata.csv\n",
            "100% 2.39G/2.39G [00:17<00:00, 138MB/s]\n"
          ]
        }
      ]
    },
    {
      "cell_type": "code",
      "metadata": {
        "id": "06A_IYgdm3-D"
      },
      "source": [
        "train= pd.read_csv('/content/train.csv')\n",
        "test=pd.read_csv('/content/test.csv')\n",
        "fulldata = pd.read_csv(\"/content/fulldata.csv\")"
      ],
      "execution_count": null,
      "outputs": []
    },
    {
      "cell_type": "code",
      "metadata": {
        "colab": {
          "base_uri": "https://localhost:8080/",
          "height": 204
        },
        "id": "4Lfy6T2S2sqz",
        "outputId": "29d7493d-024e-472c-cd6c-2bf8adae5649"
      },
      "source": [
        "fulldata.head()"
      ],
      "execution_count": null,
      "outputs": [
        {
          "data": {
            "text/html": [
              "<div>\n",
              "<style scoped>\n",
              "    .dataframe tbody tr th:only-of-type {\n",
              "        vertical-align: middle;\n",
              "    }\n",
              "\n",
              "    .dataframe tbody tr th {\n",
              "        vertical-align: top;\n",
              "    }\n",
              "\n",
              "    .dataframe thead th {\n",
              "        text-align: right;\n",
              "    }\n",
              "</style>\n",
              "<table border=\"1\" class=\"dataframe\">\n",
              "  <thead>\n",
              "    <tr style=\"text-align: right;\">\n",
              "      <th></th>\n",
              "      <th>Unnamed: 0</th>\n",
              "      <th>category</th>\n",
              "      <th>text</th>\n",
              "      <th>cleanText</th>\n",
              "      <th>new_clean_text</th>\n",
              "    </tr>\n",
              "  </thead>\n",
              "  <tbody>\n",
              "    <tr>\n",
              "      <th>0</th>\n",
              "      <td>0</td>\n",
              "      <td>education</td>\n",
              "      <td>অধ্যায়-২প্রিয় পরীক্ষার্থী, আজ তথ্য ও যোগাযোগ প...</td>\n",
              "      <td>অধ্যায়    প্রিয়    পরীক্ষার্থী    তথ্য    যো...</td>\n",
              "      <td>অধ্যায় প্রিয় পরীক্ষার্থী তথ্য যোগাযোগ প্রযুক্ত...</td>\n",
              "    </tr>\n",
              "    <tr>\n",
              "      <th>1</th>\n",
              "      <td>1</td>\n",
              "      <td>sports</td>\n",
              "      <td>স্পিন, স্পিন, স্পিন। লর্ডসে ইয়াসির শাহ্‌র লেগ ...</td>\n",
              "      <td>স্পিন    স্পিন    স্পিন    লর্ডসে    ইয়াসির ...</td>\n",
              "      <td>স্পিন স্পিন স্পিন লর্ডসে ইয়াসির শাহ্ লেগ স্পিন...</td>\n",
              "    </tr>\n",
              "    <tr>\n",
              "      <th>2</th>\n",
              "      <td>2</td>\n",
              "      <td>international</td>\n",
              "      <td>সিরিয়ার উত্তর-পশ্চিমাঞ্চলে গতকাল রোববার বিমান...</td>\n",
              "      <td>সিরিয়ার    উত্তর    পশ্চিমাঞ্চলে    গতকাল  ...</td>\n",
              "      <td>সিরিয়ার পশ্চিমাঞ্চলে গতকাল রোববার বিমান হামলা...</td>\n",
              "    </tr>\n",
              "    <tr>\n",
              "      <th>3</th>\n",
              "      <td>3</td>\n",
              "      <td>international</td>\n",
              "      <td>দক্ষিণ আফ্রিকার কেপটাউন বিশ্ববিদ্যালয়ের (ইউসিট...</td>\n",
              "      <td>দক্ষিণ    আফ্রিকার    কেপটাউন    বিশ্ববিদ্যা...</td>\n",
              "      <td>দক্ষিণ আফ্রিকার কেপটাউন বিশ্ববিদ্যালয়ের ইউসিটি...</td>\n",
              "    </tr>\n",
              "    <tr>\n",
              "      <th>4</th>\n",
              "      <td>4</td>\n",
              "      <td>technology</td>\n",
              "      <td>সহজে ডিজিটাল আর্থিক সেবা দিতে অ্যাপ ও ডিজিটাল ...</td>\n",
              "      <td>সহজে    ডিজিটাল    আর্থিক    সেবা    অ্যাপ  ...</td>\n",
              "      <td>সহজে ডিজিটাল আর্থিক সেবা অ্যাপ ডিজিটাল কেওয়াইস...</td>\n",
              "    </tr>\n",
              "  </tbody>\n",
              "</table>\n",
              "</div>"
            ],
            "text/plain": [
              "   Unnamed: 0  ...                                     new_clean_text\n",
              "0           0  ...  অধ্যায় প্রিয় পরীক্ষার্থী তথ্য যোগাযোগ প্রযুক্ত...\n",
              "1           1  ...  স্পিন স্পিন স্পিন লর্ডসে ইয়াসির শাহ্ লেগ স্পিন...\n",
              "2           2  ...  সিরিয়ার পশ্চিমাঞ্চলে গতকাল রোববার বিমান হামলা...\n",
              "3           3  ...  দক্ষিণ আফ্রিকার কেপটাউন বিশ্ববিদ্যালয়ের ইউসিটি...\n",
              "4           4  ...  সহজে ডিজিটাল আর্থিক সেবা অ্যাপ ডিজিটাল কেওয়াইস...\n",
              "\n",
              "[5 rows x 5 columns]"
            ]
          },
          "execution_count": 5,
          "metadata": {},
          "output_type": "execute_result"
        }
      ]
    },
    {
      "cell_type": "code",
      "metadata": {
        "colab": {
          "base_uri": "https://localhost:8080/"
        },
        "id": "4LZN-YpQ2v0k",
        "outputId": "bc7b33f9-3419-47a4-8876-2fb4026726f6"
      },
      "source": [
        "fulldata.columns"
      ],
      "execution_count": null,
      "outputs": [
        {
          "data": {
            "text/plain": [
              "Index(['Unnamed: 0', 'category', 'text', 'cleanText', 'new_clean_text'], dtype='object')"
            ]
          },
          "execution_count": 6,
          "metadata": {},
          "output_type": "execute_result"
        }
      ]
    },
    {
      "cell_type": "code",
      "metadata": {
        "colab": {
          "base_uri": "https://localhost:8080/"
        },
        "id": "Lb334Z9t3izW",
        "outputId": "09ce7baf-7636-4ece-fc6d-eae036cf91c3"
      },
      "source": [
        "fulldata.pop('Unnamed: 0') # Remove unexpected column"
      ],
      "execution_count": null,
      "outputs": [
        {
          "data": {
            "text/plain": [
              "0             0\n",
              "1             1\n",
              "2             2\n",
              "3             3\n",
              "4             4\n",
              "          ...  \n",
              "197762    98878\n",
              "197763    98879\n",
              "197764    98880\n",
              "197765    98881\n",
              "197766    98882\n",
              "Name: Unnamed: 0, Length: 197767, dtype: int64"
            ]
          },
          "execution_count": 7,
          "metadata": {},
          "output_type": "execute_result"
        }
      ]
    },
    {
      "cell_type": "code",
      "metadata": {
        "colab": {
          "base_uri": "https://localhost:8080/",
          "height": 204
        },
        "id": "8o_LCDlj4Avd",
        "outputId": "252b5277-cc6e-462b-b666-7a2f588787d5"
      },
      "source": [
        "fulldata.head()"
      ],
      "execution_count": null,
      "outputs": [
        {
          "data": {
            "text/html": [
              "<div>\n",
              "<style scoped>\n",
              "    .dataframe tbody tr th:only-of-type {\n",
              "        vertical-align: middle;\n",
              "    }\n",
              "\n",
              "    .dataframe tbody tr th {\n",
              "        vertical-align: top;\n",
              "    }\n",
              "\n",
              "    .dataframe thead th {\n",
              "        text-align: right;\n",
              "    }\n",
              "</style>\n",
              "<table border=\"1\" class=\"dataframe\">\n",
              "  <thead>\n",
              "    <tr style=\"text-align: right;\">\n",
              "      <th></th>\n",
              "      <th>category</th>\n",
              "      <th>text</th>\n",
              "      <th>cleanText</th>\n",
              "      <th>new_clean_text</th>\n",
              "    </tr>\n",
              "  </thead>\n",
              "  <tbody>\n",
              "    <tr>\n",
              "      <th>0</th>\n",
              "      <td>education</td>\n",
              "      <td>অধ্যায়-২প্রিয় পরীক্ষার্থী, আজ তথ্য ও যোগাযোগ প...</td>\n",
              "      <td>অধ্যায়    প্রিয়    পরীক্ষার্থী    তথ্য    যো...</td>\n",
              "      <td>অধ্যায় প্রিয় পরীক্ষার্থী তথ্য যোগাযোগ প্রযুক্ত...</td>\n",
              "    </tr>\n",
              "    <tr>\n",
              "      <th>1</th>\n",
              "      <td>sports</td>\n",
              "      <td>স্পিন, স্পিন, স্পিন। লর্ডসে ইয়াসির শাহ্‌র লেগ ...</td>\n",
              "      <td>স্পিন    স্পিন    স্পিন    লর্ডসে    ইয়াসির ...</td>\n",
              "      <td>স্পিন স্পিন স্পিন লর্ডসে ইয়াসির শাহ্ লেগ স্পিন...</td>\n",
              "    </tr>\n",
              "    <tr>\n",
              "      <th>2</th>\n",
              "      <td>international</td>\n",
              "      <td>সিরিয়ার উত্তর-পশ্চিমাঞ্চলে গতকাল রোববার বিমান...</td>\n",
              "      <td>সিরিয়ার    উত্তর    পশ্চিমাঞ্চলে    গতকাল  ...</td>\n",
              "      <td>সিরিয়ার পশ্চিমাঞ্চলে গতকাল রোববার বিমান হামলা...</td>\n",
              "    </tr>\n",
              "    <tr>\n",
              "      <th>3</th>\n",
              "      <td>international</td>\n",
              "      <td>দক্ষিণ আফ্রিকার কেপটাউন বিশ্ববিদ্যালয়ের (ইউসিট...</td>\n",
              "      <td>দক্ষিণ    আফ্রিকার    কেপটাউন    বিশ্ববিদ্যা...</td>\n",
              "      <td>দক্ষিণ আফ্রিকার কেপটাউন বিশ্ববিদ্যালয়ের ইউসিটি...</td>\n",
              "    </tr>\n",
              "    <tr>\n",
              "      <th>4</th>\n",
              "      <td>technology</td>\n",
              "      <td>সহজে ডিজিটাল আর্থিক সেবা দিতে অ্যাপ ও ডিজিটাল ...</td>\n",
              "      <td>সহজে    ডিজিটাল    আর্থিক    সেবা    অ্যাপ  ...</td>\n",
              "      <td>সহজে ডিজিটাল আর্থিক সেবা অ্যাপ ডিজিটাল কেওয়াইস...</td>\n",
              "    </tr>\n",
              "  </tbody>\n",
              "</table>\n",
              "</div>"
            ],
            "text/plain": [
              "        category  ...                                     new_clean_text\n",
              "0      education  ...  অধ্যায় প্রিয় পরীক্ষার্থী তথ্য যোগাযোগ প্রযুক্ত...\n",
              "1         sports  ...  স্পিন স্পিন স্পিন লর্ডসে ইয়াসির শাহ্ লেগ স্পিন...\n",
              "2  international  ...  সিরিয়ার পশ্চিমাঞ্চলে গতকাল রোববার বিমান হামলা...\n",
              "3  international  ...  দক্ষিণ আফ্রিকার কেপটাউন বিশ্ববিদ্যালয়ের ইউসিটি...\n",
              "4     technology  ...  সহজে ডিজিটাল আর্থিক সেবা অ্যাপ ডিজিটাল কেওয়াইস...\n",
              "\n",
              "[5 rows x 4 columns]"
            ]
          },
          "execution_count": 8,
          "metadata": {},
          "output_type": "execute_result"
        }
      ]
    },
    {
      "cell_type": "markdown",
      "metadata": {
        "id": "WvVEHpIwIrJm"
      },
      "source": [
        "## Preprocessing"
      ]
    },
    {
      "cell_type": "markdown",
      "metadata": {
        "id": "7wCCq851JLMq"
      },
      "source": [
        "### Convert Categories String to  Categories Number "
      ]
    },
    {
      "cell_type": "code",
      "metadata": {
        "id": "CbzTSrpEJRNR"
      },
      "source": [
        "def label_encoding(dataset,bool):\n",
        "  '''\n",
        "  This function will convert categorical class names into a numeric label\n",
        "\n",
        "  Args:\n",
        "  dataset: A dataset\n",
        "  bool : a boolean (True or False)\n",
        "\n",
        "  returns:\n",
        "  labels: encoded labels \n",
        "  '''\n",
        "  le = LabelEncoder()\n",
        "  le.fit(dataset.category)\n",
        "  encoded_labels = le.transform(dataset.category)\n",
        "  labels = np.array(encoded_labels) # Converting into numpy array\n",
        "  class_names =le.classes_ ## Define the class names again\n",
        "  if bool == True:\n",
        "    print(color.BOLD+\"\\n\\t\\t\\t===== Label Encoding =====\"+color.END,\"\\nClass Names:-->\",le.classes_)\n",
        "  return labels "
      ],
      "execution_count": null,
      "outputs": []
    },
    {
      "cell_type": "code",
      "metadata": {
        "colab": {
          "base_uri": "https://localhost:8080/"
        },
        "id": "5FPaJy3tJuIr",
        "outputId": "a3e86df5-c3a6-4c50-edcf-87f4c46b718c"
      },
      "source": [
        "labels = label_encoding(fulldata,True)"
      ],
      "execution_count": null,
      "outputs": [
        {
          "name": "stdout",
          "output_type": "stream",
          "text": [
            "\u001b[1m\n",
            "\t\t\t===== Label Encoding =====\u001b[0m \n",
            "Class Names:--> ['economy' 'education' 'entertainment' 'international' 'sports' 'state'\n",
            " 'technology']\n"
          ]
        }
      ]
    },
    {
      "cell_type": "markdown",
      "metadata": {
        "id": "ayH5i1hR7_ps"
      },
      "source": [
        "### Glove for Vectorization\n",
        "\n",
        "Use Glove pretrained corpus model to represent words."
      ]
    },
    {
      "cell_type": "code",
      "metadata": {
        "colab": {
          "base_uri": "https://localhost:8080/"
        },
        "id": "yKQazhtf4L1J",
        "outputId": "9d922068-4405-4757-adfb-0dadafa3fe79"
      },
      "source": [
        "!gdown --id 1hau9l8myQOVF2cR4GBPeCtUDi5UOk1_P # Download Bengali GloVe Word Vectors"
      ],
      "execution_count": null,
      "outputs": [
        {
          "name": "stdout",
          "output_type": "stream",
          "text": [
            "Downloading...\n",
            "From: https://drive.google.com/uc?id=1hau9l8myQOVF2cR4GBPeCtUDi5UOk1_P\n",
            "To: /content/bn_glove.39M.100d.txt\n",
            "100% 173M/173M [00:01<00:00, 90.2MB/s]\n"
          ]
        }
      ]
    },
    {
      "cell_type": "code",
      "metadata": {
        "colab": {
          "base_uri": "https://localhost:8080/",
          "height": 612
        },
        "id": "a1oC3Ezs_eqB",
        "outputId": "2bfaba21-9666-42f9-d291-1f6ee65c644c"
      },
      "source": [
        "# import and define Blnp for tokenizer\n",
        "!pip install bnlp_toolkit\n",
        "from bnlp import NLTKTokenizer \n",
        "bnltk = NLTKTokenizer()"
      ],
      "execution_count": null,
      "outputs": [
        {
          "name": "stdout",
          "output_type": "stream",
          "text": [
            "Collecting bnlp_toolkit\n",
            "  Downloading bnlp_toolkit-3.1.2-py3-none-any.whl (17 kB)\n",
            "Requirement already satisfied: wasabi in /usr/local/lib/python3.7/dist-packages (from bnlp_toolkit) (0.8.2)\n",
            "Requirement already satisfied: numpy in /usr/local/lib/python3.7/dist-packages (from bnlp_toolkit) (1.19.5)\n",
            "Requirement already satisfied: nltk in /usr/local/lib/python3.7/dist-packages (from bnlp_toolkit) (3.2.5)\n",
            "Collecting sklearn-crfsuite\n",
            "  Downloading sklearn_crfsuite-0.3.6-py2.py3-none-any.whl (12 kB)\n",
            "Requirement already satisfied: scipy in /usr/local/lib/python3.7/dist-packages (from bnlp_toolkit) (1.4.1)\n",
            "Collecting sentencepiece\n",
            "  Downloading sentencepiece-0.1.96-cp37-cp37m-manylinux_2_17_x86_64.manylinux2014_x86_64.whl (1.2 MB)\n",
            "\u001b[K     |████████████████████████████████| 1.2 MB 7.2 MB/s \n",
            "\u001b[?25hCollecting gensim==4.0.1\n",
            "  Downloading gensim-4.0.1-cp37-cp37m-manylinux1_x86_64.whl (23.9 MB)\n",
            "\u001b[K     |████████████████████████████████| 23.9 MB 1.4 MB/s \n",
            "\u001b[?25hRequirement already satisfied: smart-open>=1.8.1 in /usr/local/lib/python3.7/dist-packages (from gensim==4.0.1->bnlp_toolkit) (5.2.1)\n",
            "Requirement already satisfied: six in /usr/local/lib/python3.7/dist-packages (from nltk->bnlp_toolkit) (1.15.0)\n",
            "Requirement already satisfied: tabulate in /usr/local/lib/python3.7/dist-packages (from sklearn-crfsuite->bnlp_toolkit) (0.8.9)\n",
            "Requirement already satisfied: tqdm>=2.0 in /usr/local/lib/python3.7/dist-packages (from sklearn-crfsuite->bnlp_toolkit) (4.62.3)\n",
            "Collecting python-crfsuite>=0.8.3\n",
            "  Downloading python_crfsuite-0.9.7-cp37-cp37m-manylinux1_x86_64.whl (743 kB)\n",
            "\u001b[K     |████████████████████████████████| 743 kB 54.3 MB/s \n",
            "\u001b[?25hInstalling collected packages: python-crfsuite, sklearn-crfsuite, sentencepiece, gensim, bnlp-toolkit\n",
            "  Attempting uninstall: gensim\n",
            "    Found existing installation: gensim 3.6.0\n",
            "    Uninstalling gensim-3.6.0:\n",
            "      Successfully uninstalled gensim-3.6.0\n",
            "Successfully installed bnlp-toolkit-3.1.2 gensim-4.0.1 python-crfsuite-0.9.7 sentencepiece-0.1.96 sklearn-crfsuite-0.3.6\n"
          ]
        },
        {
          "data": {
            "application/vnd.colab-display-data+json": {
              "pip_warning": {
                "packages": [
                  "gensim"
                ]
              }
            }
          },
          "metadata": {},
          "output_type": "display_data"
        },
        {
          "name": "stdout",
          "output_type": "stream",
          "text": [
            "punkt not found. downloading...\n",
            "[nltk_data] Downloading package punkt to /root/nltk_data...\n",
            "[nltk_data]   Unzipping tokenizers/punkt.zip.\n"
          ]
        }
      ]
    },
    {
      "cell_type": "code",
      "metadata": {
        "id": "AQOWXhBL9oVO"
      },
      "source": [
        "from bnlp.corpus import stopwords\n",
        "\n",
        "def create_corpus(df):\n",
        "    \"\"\"\n",
        "    This function will return the tokenizer of using bnltk tokenizer. \n",
        "    \n",
        "    Args:\n",
        "        df: dataset corpus\n",
        "        \n",
        "    Returns:\n",
        "        corpus: tokenized corpus \n",
        "        \n",
        "    \"\"\"\n",
        "\n",
        "    corpus=[]\n",
        "    for train in tqdm(df['new_clean_text']):\n",
        "        words=[word for word in bnltk.word_tokenize(train) if( (word not in stopwords))]    \n",
        "        corpus.append(words)\n",
        "    return corpus     "
      ],
      "execution_count": null,
      "outputs": []
    },
    {
      "cell_type": "code",
      "metadata": {
        "colab": {
          "background_save": true,
          "base_uri": "https://localhost:8080/"
        },
        "id": "Bx3pT-PF-kzu",
        "outputId": "7cf638ca-3546-4715-a266-a49ea8a5bab0"
      },
      "source": [
        "corpus=create_corpus(fulldata)"
      ],
      "execution_count": null,
      "outputs": [
        {
          "name": "stderr",
          "output_type": "stream",
          "text": [
            "100%|██████████| 197767/197767 [07:51<00:00, 419.18it/s]\n"
          ]
        }
      ]
    },
    {
      "cell_type": "code",
      "metadata": {
        "colab": {
          "background_save": true
        },
        "id": "KvhdBO46AJ6I",
        "outputId": "2e705d77-521b-488b-813e-7a0c40c43ec6"
      },
      "source": [
        "# Check corpus\n",
        "\n",
        "for i,_ in enumerate(corpus):\n",
        "  print(_)\n",
        "  if i == 5:\n",
        "    break"
      ],
      "execution_count": null,
      "outputs": [
        {
          "name": "stdout",
          "output_type": "stream",
          "text": [
            "['অধ্যায়', 'প্রিয়', 'পরীক্ষার্থী', 'তথ্য', 'যোগাযোগ', 'প্রযুক্তি', 'বিষয়ের', 'সৃজনশীল', 'নমুনা', 'প্রশ্নোত্তর', 'করিম', 'সাহেব', 'একজন', 'ব্যবসায়ী', 'ছোট', 'ভাই', 'মাসুদকে', 'অফিসের', 'কম্পিউটারগুলো', 'পরস্পরের', 'সংযোগের', 'কেব্ল', 'অর্থসাশ্রয়ী', 'সহজে', 'স্থাপনযোগ্য', 'ছোট', 'ভাই', 'মাসুদের', 'অফিসে', 'দেখলেন', 'অফিসে', 'সেদিন', 'কম্পিউটার', 'অনুসন্ধানে', 'কম্পিউটারের', 'সংযোগ', 'কেব্ল', 'নষ্ট', 'পরের', 'ভাইয়ের', 'অফিসে', 'দেখলেন', 'অফিসের', 'কম্পিউটার', 'কেন্দ্রীয়', 'ডিভাইসের', 'সংযুক্ত', 'মডেম', 'ট্রান্সমিশন', 'মোডে', 'উভয়', 'ডেটা', 'আদান', 'প্রদান', 'ব্যাখ্যা', 'করো', 'করিম', 'সাহেবের', 'অফিসে', 'ব্যবহূত', 'কেব্লটি', 'ধরনের', 'ব্যাখ্যা', 'করো', 'নেটওয়ার্ক', 'সংযোগের', 'উদ্দীপকে', 'উল্লিখিত', 'ব্যবস্থাদ্বয়ের', 'কোনটি', 'উত্তম', 'বিশ্লেষণপূর্বক', 'মতামত', 'দাও', 'কমডেম', 'সংক্ষিপ্ত', 'রূপ', 'মডেম', 'ইলেকট্রনিক', 'ডিভাইস', 'অ্যানালগ', 'সংকেতকে', 'ডিজিটাল', 'ডিজিটাল', 'সংকেতকে', 'অ্যানালগ', 'সংকেতে', 'রূপান্তর', 'খফুল', 'ডুপ্লেক্স', 'মোডে', 'উভয়', 'ডেটা', 'আদান', 'প্রদান', 'ডেটা', 'ট্রান্সমিশন', 'মোডে', 'ডেটা', 'উত্স', 'গন্তব্যের', 'গন্তব্য', 'উেসর', 'প্রবাহিত', 'ফুল', 'ডুপ্লেক্স', 'মোড', 'অর্থাত্', 'পদ্ধতিতে', 'ডেটাপ্রবাহ', 'যুগোপযোগীভাবে', 'সম্পন্ন', 'মোবাইল', 'ফোন', 'টেলিফোন', 'গকরিম', 'সাহেবের', 'অফিসের', 'কেব্লটি', 'টুইস্টেড', 'পেয়ার', 'কেব্ল', 'পরিবাহী', 'তারকে', 'পরস্পর', 'পেঁচিয়ে', 'টুইস্টেড', 'পেয়ার', 'কেব্ল', 'তৈরি', 'প্যাঁচানো', 'দুটিকে', 'পৃথক', 'রাখার', 'মাঝে', 'অপরিবাহী', 'পদার্থ', 'অন্যান্য', 'কেবলের', 'তুলনায়', 'টুইস্টেড', 'পেয়ার', 'কেব্ল', 'অর্থসাশ্রয়ী', 'সহজে', 'স্থাপনযোগ্য', 'উদ্দীপকে', 'করিম', 'সাহেবের', 'অফিসের', 'কম্পিউটার', 'পরস্পরের', 'সংযোগের', 'কেব্ল', 'ব্যবহূত', 'অর্থসাশ্রয়ী', 'সহজে', 'স্থাপনযোগ্য', 'করিম', 'সাহেবের', 'অফিসের', 'কেব্লটি', 'টুইস্টেড', 'পেয়ার', 'কেব্ল', 'ঘনেটওয়ার্ক', 'সংযোগের', 'উদ্দীপকে', 'উল্লিখিত', 'ব্যবস্থা', 'রিং', 'টপোলজি', 'স্টার', 'টপোলজি', 'কম্পিউটার', 'নেটওয়ার্কে', 'কম্পিউটারের', 'অপর', 'কম্পিউটারের', 'সংযোগব্যবস্থাকেই', 'টপোলজি', 'সংগঠনে', 'কম্পিউটারগুলো', 'পরস্পর', 'যুক্ত', 'বৃত্তাকার', 'নেটওয়ার্ক', 'গড়ে', 'তোলে', 'রিং', 'টপোলজি', 'টপোলজিতে', 'কম্পিউটারের', 'সংযোগ', 'নষ্ট', 'কম্পিউটারেই', 'সংগঠনে', 'কেন্দ্রীয়', 'ডিভাইসের', 'অন্যান্য', 'কম্পিউটার', 'সংযুক্ত', 'স্টার', 'টপোলজি', 'উদ্দীপকে', 'মাসুদ', 'সাহেবের', 'অফিসে', 'সেদিন', 'কম্পিউটারই', 'করেনি', 'কম্পিউটারের', 'সংযোগ', 'নষ্ট', 'রিং', 'টপোলজি', 'অন্যদিকে', 'ভাই', 'করিম', 'সাহেবের', 'অফিসের', 'কম্পিউটার', 'কেন্দ্রীয়', 'ডিভাইসের', 'সংযুক্ত', 'স্টার', 'টপোলজি', 'উদ্দীপকের', 'রিং', 'স্টার', 'টপোলজির', 'স্টার', 'টপোলজি', 'উত্তম', 'রিং', 'টপোলজিতে', 'কম্পিউটার', 'কারণে', 'নষ্ট', 'অপসারণ', 'পুরো', 'নেটওয়ার্ক', 'অচল', 'পড়ে', 'স্টার', 'টপোলজিতে', 'কখনোই', 'মাস্টার', 'ট্রেইনারপ্রভাষক', 'রাউজান', 'কলেজ', 'চট্টগ্রাম']\n",
            "['স্পিন', 'স্পিন', 'স্পিন', 'লর্ডসে', 'ইয়াসির', 'শাহ্', 'লেগ', 'স্পিনে', 'জেরবার', 'দিনের', 'টেস্ট', 'হারের', 'ইংল্যান্ডের', 'ক্রিকেটাঙ্গনে', 'আলোচনা', 'স্পিন', 'নিয়েই', 'ইয়াসিরের', 'সাফল্যে', 'প্রভাবিত', 'ইংলিশরা', 'দ্বিতীয়', 'টেস্টের', 'দলে', 'নিয়েছে', 'লেগ', 'স্পিনার', 'আদিল', 'রশিদকে', 'ওল্ড', 'ট্রাফোর্ড', 'টেস্টের', 'পাকিস্তানের', 'সাবেক', 'স্পিনার', 'সাকলায়েন', 'মুশতাকেরও', 'শরণ', 'নিয়েছে', 'ইংল্যান্ড', 'পরামর্শক', 'কোচ', 'হিসেবে', 'খণ্ডকালীন', 'দায়িত্ব', 'পেয়েছেন', 'দুসরা', 'জনক', 'মঙ্গলবার', 'ইংলিশ', 'বোলারদের', 'সাকলায়েন', 'ছাত্র', 'মঈন', 'আলী', 'আদিল', 'রশিদকে', 'প্রশংসায়', 'ভাসিয়েছেন', 'টেস্ট', 'খেলা', 'সাকলায়েন', 'বিশ্বাস', 'এঁরাই', 'ইয়াসিরের', 'জবাব', 'বছর', 'ভারতের', 'বিপক্ষে', 'মঈনকে', 'দেখেছি', 'চমৎকার', 'করছিল', 'আমিরাতে', 'পাকিস্তানের', 'বিপক্ষে', 'আদিল', 'ভালো', 'উইকেট', 'নিয়েছিল', 'দুজনই', 'দক্ষ', 'তূণে', 'তিরেরও', 'অভাব', 'ইয়াসিরের', 'জবাব', 'চোট', 'কাটিয়ে', 'ইংল্যান্ড', 'দলে', 'ফেরা', 'অলরাউন্ডার', 'বেন', 'স্টোকস', 'সাকলায়েনের', 'ইংলিশ', 'ব্যাটসম্যানদেরও', 'শেখা', 'কপালের', 'জোরে', 'শিখে', 'নেওয়াটাই', 'বুদ্ধিমানের', 'ব্যাটসম্যানরা', 'টিপস', 'নিলে', 'বোকামি', 'স্টোকস', 'ঠিকই', 'বোলারদের', 'শিখলেই', 'ব্যাটসম্যানদেরও', 'সামলাতে', 'ইয়াসিরকে', 'এএফপি', 'ডেইলি', 'মেইল']\n",
            "['সিরিয়ার', 'পশ্চিমাঞ্চলে', 'গতকাল', 'রোববার', 'বিমান', 'হামলায়', 'কমপক্ষে', 'নিহত', 'দেড়', 'শতাধিক', 'মানুষ', 'আহত', 'রাশিয়ার', 'জঙ্গিবিমান', 'হামলা', 'চালিয়েছে', 'ধারণা', 'উদ্ধারকর্মী', 'স্থানীয়', 'লোকজন', 'স্থানীয়', 'লোকজন', 'জানান', 'পশ্চিমাঞ্চলে', 'বিদ্রোহীদের', 'নিয়ন্ত্রণে', 'ইদলিব', 'প্রদেশের', 'কেন্দ্রভাগের', 'বাজার', 'সরকারি', 'ভবন', 'আবাসিক', 'এলাকায়', 'গতকাল', 'ছয়', 'দফায়', 'বিমান', 'হামলা', 'চালানো', 'এরপর', 'মত্যু', 'আহত', 'দেড়', 'শতাধিক', 'মানুষ', 'গুরুতর', 'আহত', 'অনেককে', 'চিকিৎসার', 'তুরস্কের', 'হাসপাতালে', 'পাঠানো', 'ইয়াসির', 'হাম্মো', 'নামে', 'বেসামরিক', 'প্রতিরক্ষা', 'বিভাগের', 'কর্মী', 'এখনো', 'মৃতদেহ', 'ধ্বংসস্তূপের', 'নিচে', 'চাপা', 'পড়ে', 'রয়টার্স']\n",
            "['দক্ষিণ', 'আফ্রিকার', 'কেপটাউন', 'বিশ্ববিদ্যালয়ের', 'ইউসিটি', 'প্রাঙ্গণ', 'ঔপনিবেশিক', 'যুগের', 'খনি', 'ব্যবসায়ী', 'রাজনীতিক', 'সিসিল', 'রোডসের', 'মূর্তি', 'সরিয়ে', 'ফেলার', 'ভোট', 'সেখানকার', 'কাউন্সিল', 'শ্বেতাঙ্গদের', 'নিপীড়নের', 'প্রতীক', 'হিসেবে', 'পরিচিত', 'মূর্তিটির', 'বিরুদ্ধে', 'মাসব্যাপী', 'বিক্ষোভের', 'বিষয়টি', 'নিষ্পত্তির', 'বুধবার', 'ভোটের', 'আয়োজন', 'ব্রোঞ্জের', 'তৈরি', 'মূর্তিটি', 'অপসারণের', 'ইতিহাস', 'ঐতিহ্য', 'সংরক্ষণ', 'কর্তৃপক্ষের', 'ইউসিটির', 'বিবৃতি', 'মূর্তিটি', 'গতকাল', 'বৃহস্পতিবার', 'সরিয়ে', 'ফেলা', 'এএফপি']\n",
            "['সহজে', 'ডিজিটাল', 'আর্থিক', 'সেবা', 'অ্যাপ', 'ডিজিটাল', 'কেওয়াইসি', 'নিবন্ধন', 'প্রক্রিয়া', 'উদ্বোধন', 'ডিজিটাল', 'আর্থিক', 'সেবাদাতা', 'প্রতিষ্ঠান', 'নগদ', 'সহযোগিতা', 'বাংলাদেশ', 'ডাক', 'বিভাগ', 'গতকাল', 'রাজধানীর', 'ওয়েস্টিন', 'হোটেলে', 'অনুষ্ঠানে', 'নগদ', 'অ্যাপ', 'ডিজিটাল', 'কেওয়াইসি', 'উদ্বোধন', 'নগদ', 'কর্তৃপক্ষ', 'অনুষ্ঠানে', 'উপস্থিত', 'ডাক', 'টেলিযোগাযোগ', 'তথ্যপ্রযুক্তি', 'মন্ত্রী', 'মোস্তাফা', 'জব্বার', 'ডাক', 'টেলিযোগাযোগ', 'বিভাগের', 'ভারপ্রাপ্ত', 'সচিব', 'অশোক', 'কুমার', 'বিশ্বাস', 'বাংলাদেশ', 'ডাক', 'বিভাগের', 'মহাপরিচালক', 'সুশান্ত', 'কুমার', 'মণ্ডল', 'নগদের', 'ব্যবস্থাপনা', 'পরিচালক', 'তানভীর', 'মিশুক', 'সময়', 'বাংলাদেশ', 'ডাক', 'বিভাগ', 'নগদের', 'অন্যান্য', 'ঊর্ধ্বতন', 'কর্মকর্তাগণও', 'উপস্থিত', 'অনুষ্ঠানে', 'ডাক', 'টেলিযোগাযোগ', 'তথ্যপ্রযুক্তিমন্ত্রী', 'মোস্তাফা', 'জব্বার', 'দেশের', 'মানুষের', 'সুবিধার্থে', 'বাংলাদেশ', 'সরকার', 'স্বপ্রণোদিতভাবে', 'ধরনের', 'সেবা', 'আসছে', 'ধারাবাহিকতায়', 'এসেছে', 'বাংলাদেশ', 'ডাক', 'বিভাগের', 'সেবা', 'নগদ', 'মুক্তবাজার', 'অর্থনীতিতে', 'একচেটিয়া', 'ভেঙে', 'প্রতিযোগিতার', 'নগদ', 'সুশান্ত', 'কুমার', 'মণ্ডল', 'আর্থিক', 'লেনদেন', 'ব্যবস্থাপনার', 'একশ', 'বছরেরও', 'অভিজ্ঞতা', 'দেশজুড়ে', 'ডাক', 'বিভাগের', 'ডাকঘর', 'কর্মী', 'নেটওয়ার্কের', 'ডিজিটাল', 'আর্থিক', 'খাতে', 'দ্রুততা', 'কার্যকারিতার', 'যেকোনো', 'অনিয়ম', 'মোকাবিলায়', 'প্রস্তুত', 'ডিজিটাল', 'কেওয়াইসি', 'নিবন্ধন', 'প্রক্রিয়া', 'সম্পন্ন', 'ক্রেতাদের', 'জাতীয়', 'পরিচয়পত্র', 'নিবন্ধনকৃত', 'মোবাইল', 'ফোন', 'আসতে', 'গ্রাহকের', 'ছবি', 'পরিচয়পত্রের', 'তথ্য', 'কৃত্রিম', 'বুদ্ধিমত্তার', 'সহায়তায়', 'রিয়েল', 'টাইমে', 'নির্বাচন', 'কমিশনের', 'ডেটাবেইসের', 'মিলিয়ে', 'কেওয়াইসি', 'আবেদন', 'পত্রের', 'নির্দিষ্ট', 'স্বয়ংক্রিয়', 'স্ক্যানিং', 'প্রক্রিয়ায়', 'পরিচয়পত্রের', 'তথ্য', 'পূরণ', 'বর্তমানে', 'নগদ', 'অ্যাপটি', 'শুধুমাত্র', 'অ্যান্ড্রয়েড', 'প্ল্যাটফর্মে', 'মেগাবাইটের', 'সহজে', 'ব্যবহারযোগ্য', 'অ্যাপটির', 'বেটা', 'সংস্করণে', 'ব্যবহারকারী', 'হাজারেরও']\n",
            "['সাউথ', 'বাংলা', 'এগ্রিকালচার', 'অ্যান্ড', 'কমার্স', 'এসবিএসি', 'ব্যাংকের', 'তৃতীয়', 'বার্ষিক', 'সভা', 'এজিএম', 'রাজধানীর', 'হোটেলে', 'অনুষ্ঠিত', 'প্রধান', 'অতিথি', 'ব্যাংকের', 'পরিচালনা', 'পর্ষদের', 'চেয়ারম্যান', 'আমজাদ', 'হোসেন', 'সভায়', 'শেয়ারহোল্ডাররা', 'সমাপ্ত', 'বছরের', 'শতাংশ', 'স্টক', 'ডিভিডেন্ড', 'অনুমোদন', 'সময়', 'ব্যাংকের', 'পরিচালনা', 'পর্ষদের', 'সদস্যরা', 'উল্লেখযোগ্যসংখ্যক', 'শেয়ারহোল্ডার', 'উপস্থিত', 'অনুষ্ঠানে', 'স্বাগত', 'ব্যাংকের', 'ব্যবস্থাপনা', 'পরিচালক', 'সিইও', 'রফিকুল', 'ইসলাম', 'বিজ্ঞপ্তি']\n"
          ]
        }
      ]
    },
    {
      "cell_type": "code",
      "metadata": {
        "colab": {
          "background_save": true
        },
        "id": "z4VWHcArFjAn"
      },
      "source": [
        "embedding_dict={}\n",
        "with open('/content/bn_glove.39M.100d.txt','r') as f:\n",
        "    for line in f:\n",
        "        values=line.split()\n",
        "        word=values[0]\n",
        "        vectors=np.asarray(values[1:],'float32')\n",
        "        embedding_dict[word]=vectors\n",
        "f.close()"
      ],
      "execution_count": null,
      "outputs": []
    },
    {
      "cell_type": "code",
      "metadata": {
        "colab": {
          "background_save": true
        },
        "id": "5BAE7gIKGUTa"
      },
      "source": [
        "MAX_LEN=50\n",
        "tokenizer_obj=Tokenizer()\n",
        "tokenizer_obj.fit_on_texts(corpus)\n",
        "sequences=tokenizer_obj.texts_to_sequences(corpus)\n",
        "\n",
        "train_pad=pad_sequences(sequences,maxlen=MAX_LEN,truncating='post',padding='post')"
      ],
      "execution_count": null,
      "outputs": []
    },
    {
      "cell_type": "code",
      "metadata": {
        "colab": {
          "background_save": true
        },
        "id": "D_-JIvCVH9xi"
      },
      "source": [
        "trainer=train_pad[:train.shape[0]]\n",
        "\n",
        "test=train_pad[train.shape[0]:]\n",
        "\n",
        "labels_train = labels[:train.shape[0]]\n",
        "lables_test = labels[train.shape[0]:]"
      ],
      "execution_count": null,
      "outputs": []
    },
    {
      "cell_type": "code",
      "metadata": {
        "colab": {
          "background_save": true
        },
        "id": "RGZ7ydKCHo_f",
        "outputId": "3ca0487c-b981-47ce-fefb-d7fa61dfaf62"
      },
      "source": [
        "word_index=tokenizer_obj.word_index\n",
        "print('Number of unique words:',len(word_index))"
      ],
      "execution_count": null,
      "outputs": [
        {
          "name": "stdout",
          "output_type": "stream",
          "text": [
            "Number of unique words: 677924\n"
          ]
        }
      ]
    },
    {
      "cell_type": "code",
      "metadata": {
        "colab": {
          "background_save": true
        },
        "id": "yxCB_nF5HiBh",
        "outputId": "7d34dd3c-cc65-497a-f30a-8dd5e34c8090"
      },
      "source": [
        "num_words=len(word_index)+1\n",
        "embedding_matrix=np.zeros((num_words,100))\n",
        "\n",
        "for word,i in tqdm(word_index.items()):\n",
        "    if i > num_words:\n",
        "        continue\n",
        "    \n",
        "    emb_vec=embedding_dict.get(word)\n",
        "    if emb_vec is not None:\n",
        "        embedding_matrix[i]=emb_vec"
      ],
      "execution_count": null,
      "outputs": [
        {
          "name": "stderr",
          "output_type": "stream",
          "text": [
            "100%|██████████| 677924/677924 [00:01<00:00, 673697.71it/s]\n"
          ]
        }
      ]
    },
    {
      "cell_type": "markdown",
      "metadata": {
        "id": "byf65GK6Hxyp"
      },
      "source": [
        "## Model Define"
      ]
    },
    {
      "cell_type": "code",
      "metadata": {
        "colab": {
          "background_save": true
        },
        "id": "e07xmzSzHwZi"
      },
      "source": [
        "\n",
        "  \n",
        "model=Sequential()\n",
        "\n",
        "embedding=Embedding(num_words,100,embeddings_initializer=Constant(embedding_matrix),\n",
        "                  input_length=MAX_LEN,trainable=False)\n",
        "\n",
        "model.add(embedding)\n",
        "model.add(SpatialDropout1D(0.2))\n",
        "model.add(LSTM(64, dropout=0.2, recurrent_dropout=0.2))\n",
        "model.add(Dense(7))\n",
        "\n",
        "def recall_m(y_true, y_pred):\n",
        "  true_positives = K.sum(K.round(K.clip(y_true * y_pred, 0, 1)))\n",
        "  possible_positives = K.sum(K.round(K.clip(y_true, 0, 1)))\n",
        "  recall = true_positives / (possible_positives + K.epsilon())\n",
        "  return recall\n",
        "\n",
        "def precision_m(y_true, y_pred):\n",
        "  true_positives = K.sum(K.round(K.clip(y_true * y_pred, 0, 1)))\n",
        "  predicted_positives = K.sum(K.round(K.clip(y_pred, 0, 1)))\n",
        "  precision = true_positives / (predicted_positives + K.epsilon())\n",
        "  return precision\n",
        "\n",
        "def f1_m(y_true, y_pred):\n",
        "  precision = precision_m(y_true, y_pred)\n",
        "  recall = recall_m(y_true, y_pred)\n",
        "  return 2*((precision*recall)/(precision+recall+K.epsilon()))\n",
        "\n",
        "\n",
        "optimzer=Adam(learning_rate=1e-5)\n",
        "\n",
        "model.compile(loss='sparse_categorical_crossentropy',optimizer=optimzer,metrics=['accuracy',recall_m,precision_m,f1_m])"
      ],
      "execution_count": null,
      "outputs": []
    },
    {
      "cell_type": "code",
      "metadata": {
        "colab": {
          "background_save": true
        },
        "id": "IqBszEb0H9E4",
        "outputId": "2525f9a3-3e9a-4e2d-f8bf-e20366c73623"
      },
      "source": [
        "model.summary()"
      ],
      "execution_count": null,
      "outputs": [
        {
          "name": "stdout",
          "output_type": "stream",
          "text": [
            "Model: \"sequential\"\n",
            "_________________________________________________________________\n",
            "Layer (type)                 Output Shape              Param #   \n",
            "=================================================================\n",
            "embedding (Embedding)        (None, 50, 100)           67792500  \n",
            "_________________________________________________________________\n",
            "spatial_dropout1d (SpatialDr (None, 50, 100)           0         \n",
            "_________________________________________________________________\n",
            "lstm (LSTM)                  (None, 64)                42240     \n",
            "_________________________________________________________________\n",
            "dense (Dense)                (None, 7)                 455       \n",
            "=================================================================\n",
            "Total params: 67,835,195\n",
            "Trainable params: 42,695\n",
            "Non-trainable params: 67,792,500\n",
            "_________________________________________________________________\n"
          ]
        }
      ]
    },
    {
      "cell_type": "code",
      "metadata": {
        "colab": {
          "background_save": true
        },
        "id": "R3GWpN9mW7re",
        "outputId": "f29ac63c-c95d-4218-8038-d61bf7fa0c17"
      },
      "source": [
        "X_train,X_test,y_train,y_test=train_test_split(trainer,labels_train,test_size=0.15)\n",
        "print('Shape of train',X_train.shape)\n",
        "print(\"Shape of Validation \",X_test.shape)"
      ],
      "execution_count": null,
      "outputs": [
        {
          "name": "stdout",
          "output_type": "stream",
          "text": [
            "Shape of train (84050, 50)\n",
            "Shape of Validation  (14833, 50)\n"
          ]
        }
      ]
    },
    {
      "cell_type": "code",
      "metadata": {
        "colab": {
          "background_save": true
        },
        "id": "YF4twvrLu5rm"
      },
      "source": [
        "# from google.colab import drive\n",
        "# drive.mount('/content/drive') ## Mount Google Drive"
      ],
      "execution_count": null,
      "outputs": []
    },
    {
      "cell_type": "markdown",
      "metadata": {
        "id": "Lfn0qzPwAmbC"
      },
      "source": [
        "## Model weight Load & Predict"
      ]
    },
    {
      "cell_type": "code",
      "metadata": {
        "id": "Dg2ecpJVD0bV"
      },
      "source": [
        "model.load_weights(\"/content/drive/MyDrive/Callbacks Glove Model Ep 21 - 80/model21_80.h5\")\n"
      ],
      "execution_count": null,
      "outputs": []
    },
    {
      "cell_type": "code",
      "metadata": {
        "id": "1VSBKKmWNwTS"
      },
      "source": [
        "test_pred = model.predict(test)"
      ],
      "execution_count": null,
      "outputs": []
    },
    {
      "cell_type": "code",
      "metadata": {
        "id": "cN4xlVwPOdJI"
      },
      "source": [
        "test1=pd.read_csv('/content/test.csv')"
      ],
      "execution_count": null,
      "outputs": []
    },
    {
      "cell_type": "markdown",
      "metadata": {
        "id": "1qK1AYttAr3z"
      },
      "source": [
        "## Model Evaluation"
      ]
    },
    {
      "cell_type": "code",
      "metadata": {
        "colab": {
          "base_uri": "https://localhost:8080/",
          "height": 544
        },
        "id": "5mE7Fk_C-MoP",
        "outputId": "503a8a6f-41f3-4fac-cdda-387c75b931f8"
      },
      "source": [
        "test_pred\n",
        "labels_test = label_encoding(test1,True)\n",
        "y_test =  labels_test\n",
        "y_pred = np.argmax(test_pred, axis=1)\n",
        "\n",
        "y_pred\n",
        "from sklearn.metrics import classification_report, confusion_matrix\n",
        "from sklearn.metrics import accuracy_score\n",
        "cm = confusion_matrix(y_test, y_pred) \n",
        "\n",
        "class_names = ['economy','education','entertainment','international','sports','state','technology']\n",
        "# Transform to df for easier plotting\n",
        "cm_df = pd.DataFrame(cm,\n",
        "                     index = class_names, \n",
        "                     columns = class_names)\n",
        "\n",
        "plt.figure(figsize=(8,6))\n",
        "sns.heatmap(cm_df, annot=True,cmap=\"Greens\", fmt='g')\n",
        "plt.title('Glove - LSTM \\nAccuracy: {0:.2f}'.format(accuracy_score(y_test, y_pred)*100))\n",
        "plt.ylabel('True label')\n",
        "plt.xlabel('Predicted label')\n",
        "plt.xticks(rotation = 45)\n",
        "plt.yticks(rotation = 45)\n",
        "plt.show()"
      ],
      "execution_count": null,
      "outputs": [
        {
          "output_type": "stream",
          "name": "stdout",
          "text": [
            "\u001b[1m\n",
            "\t\t\t===== Label Encoding =====\u001b[0m \n",
            "Class Names:--> ['economy' 'education' 'entertainment' 'international' 'sports' 'state'\n",
            " 'technology']\n"
          ]
        },
        {
          "output_type": "display_data",
          "data": {
            "image/png": "[encoded data removed]",
            "text/plain": [
              "<Figure size 576x432 with 2 Axes>"
            ]
          },
          "metadata": {}
        }
      ]
    },
    {
      "cell_type": "code",
      "metadata": {
        "colab": {
          "base_uri": "https://localhost:8080/",
          "height": 363
        },
        "id": "QBo3B7Krv865",
        "outputId": "d584c698-0c2a-4d1a-f24b-e332c65074e0"
      },
      "source": [
        "class_names = ['economy','education','entertainment','international','sports','state','technology']\n",
        "report = pd.DataFrame(classification_report(y_true = y_test, y_pred = y_pred, output_dict=True)).transpose()\n",
        "report = report.rename(index={'0': 'economy','1':'education','2':'entertainment','3':'international','4':'sports','5':'state',                             '6': 'technology','7':'International'})\n",
        "report[['precision','recall','f1-score']]=report[['precision','recall','f1-score']].apply(lambda x: round(x*100,2))\n",
        "report"
      ],
      "execution_count": null,
      "outputs": [
        {
          "output_type": "execute_result",
          "data": {
            "text/html": [
              "<div>\n",
              "<style scoped>\n",
              "    .dataframe tbody tr th:only-of-type {\n",
              "        vertical-align: middle;\n",
              "    }\n",
              "\n",
              "    .dataframe tbody tr th {\n",
              "        vertical-align: top;\n",
              "    }\n",
              "\n",
              "    .dataframe thead th {\n",
              "        text-align: right;\n",
              "    }\n",
              "</style>\n",
              "<table border=\"1\" class=\"dataframe\">\n",
              "  <thead>\n",
              "    <tr style=\"text-align: right;\">\n",
              "      <th></th>\n",
              "      <th>precision</th>\n",
              "      <th>recall</th>\n",
              "      <th>f1-score</th>\n",
              "      <th>support</th>\n",
              "    </tr>\n",
              "  </thead>\n",
              "  <tbody>\n",
              "    <tr>\n",
              "      <th>economy</th>\n",
              "      <td>14.38</td>\n",
              "      <td>16.13</td>\n",
              "      <td>15.21</td>\n",
              "      <td>14488.000000</td>\n",
              "    </tr>\n",
              "    <tr>\n",
              "      <th>education</th>\n",
              "      <td>13.04</td>\n",
              "      <td>13.62</td>\n",
              "      <td>13.33</td>\n",
              "      <td>12818.000000</td>\n",
              "    </tr>\n",
              "    <tr>\n",
              "      <th>entertainment</th>\n",
              "      <td>15.82</td>\n",
              "      <td>16.51</td>\n",
              "      <td>16.16</td>\n",
              "      <td>15261.000000</td>\n",
              "    </tr>\n",
              "    <tr>\n",
              "      <th>international</th>\n",
              "      <td>15.29</td>\n",
              "      <td>15.33</td>\n",
              "      <td>15.31</td>\n",
              "      <td>15314.000000</td>\n",
              "    </tr>\n",
              "    <tr>\n",
              "      <th>sports</th>\n",
              "      <td>16.03</td>\n",
              "      <td>15.56</td>\n",
              "      <td>15.79</td>\n",
              "      <td>15883.000000</td>\n",
              "    </tr>\n",
              "    <tr>\n",
              "      <th>state</th>\n",
              "      <td>15.66</td>\n",
              "      <td>13.89</td>\n",
              "      <td>14.72</td>\n",
              "      <td>15183.000000</td>\n",
              "    </tr>\n",
              "    <tr>\n",
              "      <th>technology</th>\n",
              "      <td>10.65</td>\n",
              "      <td>9.72</td>\n",
              "      <td>10.16</td>\n",
              "      <td>9937.000000</td>\n",
              "    </tr>\n",
              "    <tr>\n",
              "      <th>accuracy</th>\n",
              "      <td>14.66</td>\n",
              "      <td>14.66</td>\n",
              "      <td>14.66</td>\n",
              "      <td>0.146616</td>\n",
              "    </tr>\n",
              "    <tr>\n",
              "      <th>macro avg</th>\n",
              "      <td>14.41</td>\n",
              "      <td>14.40</td>\n",
              "      <td>14.38</td>\n",
              "      <td>98884.000000</td>\n",
              "    </tr>\n",
              "    <tr>\n",
              "      <th>weighted avg</th>\n",
              "      <td>14.66</td>\n",
              "      <td>14.66</td>\n",
              "      <td>14.64</td>\n",
              "      <td>98884.000000</td>\n",
              "    </tr>\n",
              "  </tbody>\n",
              "</table>\n",
              "</div>"
            ],
            "text/plain": [
              "               precision  recall  f1-score       support\n",
              "economy            14.38   16.13     15.21  14488.000000\n",
              "education          13.04   13.62     13.33  12818.000000\n",
              "entertainment      15.82   16.51     16.16  15261.000000\n",
              "international      15.29   15.33     15.31  15314.000000\n",
              "sports             16.03   15.56     15.79  15883.000000\n",
              "state              15.66   13.89     14.72  15183.000000\n",
              "technology         10.65    9.72     10.16   9937.000000\n",
              "accuracy           14.66   14.66     14.66      0.146616\n",
              "macro avg          14.41   14.40     14.38  98884.000000\n",
              "weighted avg       14.66   14.66     14.64  98884.000000"
            ]
          },
          "metadata": {},
          "execution_count": 42
        }
      ]
    },
    {
      "cell_type": "code",
      "metadata": {
        "colab": {
          "background_save": true
        },
        "id": "46ZO0358yrSp"
      },
      "source": [
        "# gc.collect()"
      ],
      "execution_count": null,
      "outputs": []
    },
    {
      "cell_type": "code",
      "metadata": {
        "id": "YxjTostriTIv"
      },
      "source": [
        "sub=pd.DataFrame({'True':y_test,'Pred_Bert':y_pred})\n",
        "sub.to_csv('Evaluation_Glove_LSTM.csv',index=False)"
      ],
      "execution_count": null,
      "outputs": []
    }
  ]
}