{
  "nbformat": 4,
  "nbformat_minor": 0,
  "metadata": {
    "colab": {
      "name": "Evaluation of Glove Model Multiple LSTM CNN.ipynb",
      "provenance": [],
      "collapsed_sections": [],
      "toc_visible": true,
      "machine_shape": "hm",
      "authorship_tag": "ABX9TyP2DnzZX3HEzwvAe5TwaO3v",
      "include_colab_link": true
    },
    "kernelspec": {
      "display_name": "Python 3",
      "name": "python3"
    },
    "language_info": {
      "name": "python"
    },
    "accelerator": "TPU"
  },
  "cells": [
    {
      "cell_type": "markdown",
      "metadata": {
        "id": "view-in-github",
        "colab_type": "text"
      },
      "source": [
        "<a href=\"https://colab.research.google.com/github/AIFahim/Bangla-News-Article-Classification/blob/master/Evaluation_of_Glove_Model_Multiple_LSTM_CNN.ipynb\" target=\"_parent\"><img src=\"https://colab.research.google.com/assets/colab-badge.svg\" alt=\"Open In Colab\"/></a>"
      ]
    },
    {
      "cell_type": "markdown",
      "metadata": {
        "id": "99_wp8oiI8DF"
      },
      "source": [
        "## Google Drive Mount"
      ]
    },
    {
      "cell_type": "code",
      "metadata": {
        "colab": {
          "base_uri": "https://localhost:8080/"
        },
        "id": "gQV2mvIiJd9o",
        "outputId": "2a99d727-2bf5-4e8c-90c4-65237d882edb"
      },
      "source": [
        "# from google.colab import drive\n",
        "# drive.mount('/content/drive')"
      ],
      "execution_count": null,
      "outputs": [
        {
          "output_type": "stream",
          "name": "stdout",
          "text": [
            "Mounted at /content/drive\n"
          ]
        }
      ]
    },
    {
      "cell_type": "markdown",
      "metadata": {
        "id": "5wfRNh2knxbT"
      },
      "source": [
        "## Importing required Libraries"
      ]
    },
    {
      "cell_type": "code",
      "metadata": {
        "id": "25pWvw-4nuvi"
      },
      "source": [
        "import pandas as pd\n",
        "import matplotlib.pyplot as plt\n",
        "import seaborn as sns\n",
        "import numpy as np\n",
        "from nltk.corpus import stopwords\n",
        "from nltk.util import ngrams\n",
        "from sklearn.feature_extraction.text import CountVectorizer\n",
        "from collections import defaultdict\n",
        "from collections import  Counter\n",
        "plt.style.use('ggplot')\n",
        "import re\n",
        "from nltk.tokenize import word_tokenize\n",
        "import gensim\n",
        "import string\n",
        "\n",
        "from keras import backend as K\n",
        "from keras.preprocessing.text import Tokenizer\n",
        "from keras.preprocessing.sequence import pad_sequences\n",
        "from tqdm import tqdm\n",
        "from keras.models import Sequential\n",
        "from keras.layers import Embedding,LSTM,Dense,SpatialDropout1D,GRU\n",
        "from keras.initializers import Constant\n",
        "from sklearn.model_selection import train_test_split\n",
        "from sklearn.preprocessing import LabelEncoder\n",
        "from sklearn.metrics import confusion_matrix, f1_score\n",
        "# from keras.optimizers import Adam\n",
        "from tensorflow.keras.optimizers import Adam\n",
        "\n",
        "import plotly.express as px\n",
        "\n",
        "import zipfile\n",
        "\n",
        "\n",
        "\n",
        "import tensorflow.keras as keras \n",
        "import tensorflow as tf\n",
        "import tensorflow_hub as hub\n",
        "\n",
        "\n",
        "\n",
        "class color: # Text style\n",
        "   PURPLE = '\\033[95m'\n",
        "   CYAN = '\\033[96m'\n",
        "   DARKCYAN = '\\033[36m'\n",
        "   BLUE = '\\033[94m'\n",
        "   GREEN = '\\033[92m'\n",
        "   YELLOW = '\\033[93m'\n",
        "   RED = '\\033[91m'\n",
        "   BOLD = '\\033[1m'\n",
        "   UNDERLINE = '\\033[4m'\n",
        "   END = '\\033[0m'"
      ],
      "execution_count": null,
      "outputs": []
    },
    {
      "cell_type": "markdown",
      "metadata": {
        "id": "uzsI2cA9kcRe"
      },
      "source": [
        "## Loading the data and getting besic information about data"
      ]
    },
    {
      "cell_type": "code",
      "metadata": {
        "colab": {
          "base_uri": "https://localhost:8080/"
        },
        "id": "yofjm-ZQjf56",
        "outputId": "e4e6bc48-8c6b-4bee-a47c-2554daac5495"
      },
      "source": [
        "# Download Dataset\n",
        "!gdown --id 1boKJGs-XUWsxz6JocgU7wyhf8nSayr7k # train csv\n",
        "!gdown --id 1WLTPLk8oJ0XDduXnzLmxM3xwlChsgs81 # test csv\n",
        "!gdown --id 1-6MlDGVEZlLFQliVL6Hgxee1wnpi_yeG # full data csv after added new clean text column"
      ],
      "execution_count": null,
      "outputs": [
        {
          "output_type": "stream",
          "name": "stdout",
          "text": [
            "Downloading...\n",
            "From: https://drive.google.com/uc?id=1boKJGs-XUWsxz6JocgU7wyhf8nSayr7k\n",
            "To: /content/train.csv\n",
            "100% 859M/859M [00:06<00:00, 134MB/s] \n",
            "Downloading...\n",
            "From: https://drive.google.com/uc?id=1WLTPLk8oJ0XDduXnzLmxM3xwlChsgs81\n",
            "To: /content/test.csv\n",
            "100% 854M/854M [00:05<00:00, 159MB/s]\n",
            "Downloading...\n",
            "From: https://drive.google.com/uc?id=1-6MlDGVEZlLFQliVL6Hgxee1wnpi_yeG\n",
            "To: /content/fulldata.csv\n",
            "100% 2.39G/2.39G [00:17<00:00, 137MB/s]\n"
          ]
        }
      ]
    },
    {
      "cell_type": "code",
      "metadata": {
        "id": "06A_IYgdm3-D"
      },
      "source": [
        "train= pd.read_csv('/content/train.csv')\n",
        "test=pd.read_csv('/content/test.csv')\n",
        "fulldata = pd.read_csv(\"/content/fulldata.csv\")"
      ],
      "execution_count": null,
      "outputs": []
    },
    {
      "cell_type": "code",
      "metadata": {
        "colab": {
          "base_uri": "https://localhost:8080/",
          "height": 204
        },
        "id": "4Lfy6T2S2sqz",
        "outputId": "62c6ff67-b662-4f48-aefa-d8aa7191a417"
      },
      "source": [
        "fulldata.head()"
      ],
      "execution_count": null,
      "outputs": [
        {
          "output_type": "execute_result",
          "data": {
            "text/html": [
              "<div>\n",
              "<style scoped>\n",
              "    .dataframe tbody tr th:only-of-type {\n",
              "        vertical-align: middle;\n",
              "    }\n",
              "\n",
              "    .dataframe tbody tr th {\n",
              "        vertical-align: top;\n",
              "    }\n",
              "\n",
              "    .dataframe thead th {\n",
              "        text-align: right;\n",
              "    }\n",
              "</style>\n",
              "<table border=\"1\" class=\"dataframe\">\n",
              "  <thead>\n",
              "    <tr style=\"text-align: right;\">\n",
              "      <th></th>\n",
              "      <th>Unnamed: 0</th>\n",
              "      <th>category</th>\n",
              "      <th>text</th>\n",
              "      <th>cleanText</th>\n",
              "      <th>new_clean_text</th>\n",
              "    </tr>\n",
              "  </thead>\n",
              "  <tbody>\n",
              "    <tr>\n",
              "      <th>0</th>\n",
              "      <td>0</td>\n",
              "      <td>education</td>\n",
              "      <td>অধ্যায়-২প্রিয় পরীক্ষার্থী, আজ তথ্য ও যোগাযোগ প...</td>\n",
              "      <td>অধ্যায়    প্রিয়    পরীক্ষার্থী    তথ্য    যো...</td>\n",
              "      <td>অধ্যায় প্রিয় পরীক্ষার্থী তথ্য যোগাযোগ প্রযুক্ত...</td>\n",
              "    </tr>\n",
              "    <tr>\n",
              "      <th>1</th>\n",
              "      <td>1</td>\n",
              "      <td>sports</td>\n",
              "      <td>স্পিন, স্পিন, স্পিন। লর্ডসে ইয়াসির শাহ্‌র লেগ ...</td>\n",
              "      <td>স্পিন    স্পিন    স্পিন    লর্ডসে    ইয়াসির ...</td>\n",
              "      <td>স্পিন স্পিন স্পিন লর্ডসে ইয়াসির শাহ্ লেগ স্পিন...</td>\n",
              "    </tr>\n",
              "    <tr>\n",
              "      <th>2</th>\n",
              "      <td>2</td>\n",
              "      <td>international</td>\n",
              "      <td>সিরিয়ার উত্তর-পশ্চিমাঞ্চলে গতকাল রোববার বিমান...</td>\n",
              "      <td>সিরিয়ার    উত্তর    পশ্চিমাঞ্চলে    গতকাল  ...</td>\n",
              "      <td>সিরিয়ার পশ্চিমাঞ্চলে গতকাল রোববার বিমান হামলা...</td>\n",
              "    </tr>\n",
              "    <tr>\n",
              "      <th>3</th>\n",
              "      <td>3</td>\n",
              "      <td>international</td>\n",
              "      <td>দক্ষিণ আফ্রিকার কেপটাউন বিশ্ববিদ্যালয়ের (ইউসিট...</td>\n",
              "      <td>দক্ষিণ    আফ্রিকার    কেপটাউন    বিশ্ববিদ্যা...</td>\n",
              "      <td>দক্ষিণ আফ্রিকার কেপটাউন বিশ্ববিদ্যালয়ের ইউসিটি...</td>\n",
              "    </tr>\n",
              "    <tr>\n",
              "      <th>4</th>\n",
              "      <td>4</td>\n",
              "      <td>technology</td>\n",
              "      <td>সহজে ডিজিটাল আর্থিক সেবা দিতে অ্যাপ ও ডিজিটাল ...</td>\n",
              "      <td>সহজে    ডিজিটাল    আর্থিক    সেবা    অ্যাপ  ...</td>\n",
              "      <td>সহজে ডিজিটাল আর্থিক সেবা অ্যাপ ডিজিটাল কেওয়াইস...</td>\n",
              "    </tr>\n",
              "  </tbody>\n",
              "</table>\n",
              "</div>"
            ],
            "text/plain": [
              "   Unnamed: 0  ...                                     new_clean_text\n",
              "0           0  ...  অধ্যায় প্রিয় পরীক্ষার্থী তথ্য যোগাযোগ প্রযুক্ত...\n",
              "1           1  ...  স্পিন স্পিন স্পিন লর্ডসে ইয়াসির শাহ্ লেগ স্পিন...\n",
              "2           2  ...  সিরিয়ার পশ্চিমাঞ্চলে গতকাল রোববার বিমান হামলা...\n",
              "3           3  ...  দক্ষিণ আফ্রিকার কেপটাউন বিশ্ববিদ্যালয়ের ইউসিটি...\n",
              "4           4  ...  সহজে ডিজিটাল আর্থিক সেবা অ্যাপ ডিজিটাল কেওয়াইস...\n",
              "\n",
              "[5 rows x 5 columns]"
            ]
          },
          "metadata": {},
          "execution_count": 6
        }
      ]
    },
    {
      "cell_type": "code",
      "metadata": {
        "colab": {
          "base_uri": "https://localhost:8080/"
        },
        "id": "4LZN-YpQ2v0k",
        "outputId": "8eb2f43f-f10f-4480-d749-cd84389f70f6"
      },
      "source": [
        "fulldata.columns"
      ],
      "execution_count": null,
      "outputs": [
        {
          "output_type": "execute_result",
          "data": {
            "text/plain": [
              "Index(['Unnamed: 0', 'category', 'text', 'cleanText', 'new_clean_text'], dtype='object')"
            ]
          },
          "metadata": {},
          "execution_count": 7
        }
      ]
    },
    {
      "cell_type": "code",
      "metadata": {
        "colab": {
          "base_uri": "https://localhost:8080/"
        },
        "id": "Lb334Z9t3izW",
        "outputId": "0f4e32d9-49ac-4e2d-e8ae-7566b4c7fb96"
      },
      "source": [
        "fulldata.pop('Unnamed: 0') # Remove unexpected column"
      ],
      "execution_count": null,
      "outputs": [
        {
          "output_type": "execute_result",
          "data": {
            "text/plain": [
              "0             0\n",
              "1             1\n",
              "2             2\n",
              "3             3\n",
              "4             4\n",
              "          ...  \n",
              "197762    98878\n",
              "197763    98879\n",
              "197764    98880\n",
              "197765    98881\n",
              "197766    98882\n",
              "Name: Unnamed: 0, Length: 197767, dtype: int64"
            ]
          },
          "metadata": {},
          "execution_count": 8
        }
      ]
    },
    {
      "cell_type": "code",
      "metadata": {
        "colab": {
          "base_uri": "https://localhost:8080/",
          "height": 204
        },
        "id": "8o_LCDlj4Avd",
        "outputId": "f6712549-2ae7-46fb-dac3-c6fa8d8cddda"
      },
      "source": [
        "fulldata.head()"
      ],
      "execution_count": null,
      "outputs": [
        {
          "output_type": "execute_result",
          "data": {
            "text/html": [
              "<div>\n",
              "<style scoped>\n",
              "    .dataframe tbody tr th:only-of-type {\n",
              "        vertical-align: middle;\n",
              "    }\n",
              "\n",
              "    .dataframe tbody tr th {\n",
              "        vertical-align: top;\n",
              "    }\n",
              "\n",
              "    .dataframe thead th {\n",
              "        text-align: right;\n",
              "    }\n",
              "</style>\n",
              "<table border=\"1\" class=\"dataframe\">\n",
              "  <thead>\n",
              "    <tr style=\"text-align: right;\">\n",
              "      <th></th>\n",
              "      <th>category</th>\n",
              "      <th>text</th>\n",
              "      <th>cleanText</th>\n",
              "      <th>new_clean_text</th>\n",
              "    </tr>\n",
              "  </thead>\n",
              "  <tbody>\n",
              "    <tr>\n",
              "      <th>0</th>\n",
              "      <td>education</td>\n",
              "      <td>অধ্যায়-২প্রিয় পরীক্ষার্থী, আজ তথ্য ও যোগাযোগ প...</td>\n",
              "      <td>অধ্যায়    প্রিয়    পরীক্ষার্থী    তথ্য    যো...</td>\n",
              "      <td>অধ্যায় প্রিয় পরীক্ষার্থী তথ্য যোগাযোগ প্রযুক্ত...</td>\n",
              "    </tr>\n",
              "    <tr>\n",
              "      <th>1</th>\n",
              "      <td>sports</td>\n",
              "      <td>স্পিন, স্পিন, স্পিন। লর্ডসে ইয়াসির শাহ্‌র লেগ ...</td>\n",
              "      <td>স্পিন    স্পিন    স্পিন    লর্ডসে    ইয়াসির ...</td>\n",
              "      <td>স্পিন স্পিন স্পিন লর্ডসে ইয়াসির শাহ্ লেগ স্পিন...</td>\n",
              "    </tr>\n",
              "    <tr>\n",
              "      <th>2</th>\n",
              "      <td>international</td>\n",
              "      <td>সিরিয়ার উত্তর-পশ্চিমাঞ্চলে গতকাল রোববার বিমান...</td>\n",
              "      <td>সিরিয়ার    উত্তর    পশ্চিমাঞ্চলে    গতকাল  ...</td>\n",
              "      <td>সিরিয়ার পশ্চিমাঞ্চলে গতকাল রোববার বিমান হামলা...</td>\n",
              "    </tr>\n",
              "    <tr>\n",
              "      <th>3</th>\n",
              "      <td>international</td>\n",
              "      <td>দক্ষিণ আফ্রিকার কেপটাউন বিশ্ববিদ্যালয়ের (ইউসিট...</td>\n",
              "      <td>দক্ষিণ    আফ্রিকার    কেপটাউন    বিশ্ববিদ্যা...</td>\n",
              "      <td>দক্ষিণ আফ্রিকার কেপটাউন বিশ্ববিদ্যালয়ের ইউসিটি...</td>\n",
              "    </tr>\n",
              "    <tr>\n",
              "      <th>4</th>\n",
              "      <td>technology</td>\n",
              "      <td>সহজে ডিজিটাল আর্থিক সেবা দিতে অ্যাপ ও ডিজিটাল ...</td>\n",
              "      <td>সহজে    ডিজিটাল    আর্থিক    সেবা    অ্যাপ  ...</td>\n",
              "      <td>সহজে ডিজিটাল আর্থিক সেবা অ্যাপ ডিজিটাল কেওয়াইস...</td>\n",
              "    </tr>\n",
              "  </tbody>\n",
              "</table>\n",
              "</div>"
            ],
            "text/plain": [
              "        category  ...                                     new_clean_text\n",
              "0      education  ...  অধ্যায় প্রিয় পরীক্ষার্থী তথ্য যোগাযোগ প্রযুক্ত...\n",
              "1         sports  ...  স্পিন স্পিন স্পিন লর্ডসে ইয়াসির শাহ্ লেগ স্পিন...\n",
              "2  international  ...  সিরিয়ার পশ্চিমাঞ্চলে গতকাল রোববার বিমান হামলা...\n",
              "3  international  ...  দক্ষিণ আফ্রিকার কেপটাউন বিশ্ববিদ্যালয়ের ইউসিটি...\n",
              "4     technology  ...  সহজে ডিজিটাল আর্থিক সেবা অ্যাপ ডিজিটাল কেওয়াইস...\n",
              "\n",
              "[5 rows x 4 columns]"
            ]
          },
          "metadata": {},
          "execution_count": 9
        }
      ]
    },
    {
      "cell_type": "markdown",
      "metadata": {
        "id": "WvVEHpIwIrJm"
      },
      "source": [
        "## Preprocessing"
      ]
    },
    {
      "cell_type": "markdown",
      "metadata": {
        "id": "7wCCq851JLMq"
      },
      "source": [
        "### Convert Categories String to  Categories Number "
      ]
    },
    {
      "cell_type": "code",
      "metadata": {
        "id": "CbzTSrpEJRNR"
      },
      "source": [
        "def label_encoding(dataset,bool):\n",
        "  '''\n",
        "  This function will convert categorical class names into a numeric label\n",
        "\n",
        "  Args:\n",
        "  dataset: A dataset\n",
        "  bool : a boolean (True or False)\n",
        "\n",
        "  returns:\n",
        "  labels: encoded labels \n",
        "  '''\n",
        "  le = LabelEncoder()\n",
        "  le.fit(dataset.category)\n",
        "  encoded_labels = le.transform(dataset.category)\n",
        "  labels = np.array(encoded_labels) # Converting into numpy array\n",
        "  class_names =le.classes_ ## Define the class names again\n",
        "  if bool == True:\n",
        "    print(color.BOLD+\"\\n\\t\\t\\t===== Label Encoding =====\"+color.END,\"\\nClass Names:-->\",le.classes_)\n",
        "  return labels "
      ],
      "execution_count": null,
      "outputs": []
    },
    {
      "cell_type": "code",
      "metadata": {
        "colab": {
          "base_uri": "https://localhost:8080/"
        },
        "id": "5FPaJy3tJuIr",
        "outputId": "6dcb4432-c19e-47a0-b229-b6bbe791d304"
      },
      "source": [
        "labels = label_encoding(fulldata,True)"
      ],
      "execution_count": null,
      "outputs": [
        {
          "output_type": "stream",
          "name": "stdout",
          "text": [
            "\u001b[1m\n",
            "\t\t\t===== Label Encoding =====\u001b[0m \n",
            "Class Names:--> ['economy' 'education' 'entertainment' 'international' 'sports' 'state'\n",
            " 'technology']\n"
          ]
        }
      ]
    },
    {
      "cell_type": "markdown",
      "metadata": {
        "id": "ayH5i1hR7_ps"
      },
      "source": [
        "### Glove for Vectorization\n",
        "\n",
        "Use Glove pretrained corpus model to represent words."
      ]
    },
    {
      "cell_type": "code",
      "metadata": {
        "colab": {
          "base_uri": "https://localhost:8080/"
        },
        "id": "yKQazhtf4L1J",
        "outputId": "08780d17-a704-42cf-efbb-7eaa8a4ba5ce"
      },
      "source": [
        "!gdown --id 1hau9l8myQOVF2cR4GBPeCtUDi5UOk1_P # Download Bengali GloVe Word Vectors"
      ],
      "execution_count": null,
      "outputs": [
        {
          "output_type": "stream",
          "name": "stdout",
          "text": [
            "Downloading...\n",
            "From: https://drive.google.com/uc?id=1hau9l8myQOVF2cR4GBPeCtUDi5UOk1_P\n",
            "To: /content/bn_glove.39M.100d.txt\n",
            "100% 173M/173M [00:01<00:00, 111MB/s] \n"
          ]
        }
      ]
    },
    {
      "cell_type": "code",
      "metadata": {
        "colab": {
          "base_uri": "https://localhost:8080/",
          "height": 612
        },
        "id": "a1oC3Ezs_eqB",
        "outputId": "3861a158-9862-4f7f-a464-63826728a58c"
      },
      "source": [
        "# import and define Blnp for tokenizer\n",
        "!pip install bnlp_toolkit\n",
        "from bnlp import NLTKTokenizer \n",
        "bnltk = NLTKTokenizer()"
      ],
      "execution_count": null,
      "outputs": [
        {
          "output_type": "stream",
          "name": "stdout",
          "text": [
            "Collecting bnlp_toolkit\n",
            "  Downloading bnlp_toolkit-3.1.2-py3-none-any.whl (17 kB)\n",
            "Collecting sklearn-crfsuite\n",
            "  Downloading sklearn_crfsuite-0.3.6-py2.py3-none-any.whl (12 kB)\n",
            "Requirement already satisfied: scipy in /usr/local/lib/python3.7/dist-packages (from bnlp_toolkit) (1.4.1)\n",
            "Requirement already satisfied: numpy in /usr/local/lib/python3.7/dist-packages (from bnlp_toolkit) (1.19.5)\n",
            "Requirement already satisfied: wasabi in /usr/local/lib/python3.7/dist-packages (from bnlp_toolkit) (0.8.2)\n",
            "Collecting gensim==4.0.1\n",
            "  Downloading gensim-4.0.1-cp37-cp37m-manylinux1_x86_64.whl (23.9 MB)\n",
            "\u001b[K     |████████████████████████████████| 23.9 MB 224 kB/s \n",
            "\u001b[?25hRequirement already satisfied: nltk in /usr/local/lib/python3.7/dist-packages (from bnlp_toolkit) (3.2.5)\n",
            "Collecting sentencepiece\n",
            "  Downloading sentencepiece-0.1.96-cp37-cp37m-manylinux_2_17_x86_64.manylinux2014_x86_64.whl (1.2 MB)\n",
            "\u001b[K     |████████████████████████████████| 1.2 MB 51.3 MB/s \n",
            "\u001b[?25hRequirement already satisfied: smart-open>=1.8.1 in /usr/local/lib/python3.7/dist-packages (from gensim==4.0.1->bnlp_toolkit) (5.2.1)\n",
            "Requirement already satisfied: six in /usr/local/lib/python3.7/dist-packages (from nltk->bnlp_toolkit) (1.15.0)\n",
            "Collecting python-crfsuite>=0.8.3\n",
            "  Downloading python_crfsuite-0.9.7-cp37-cp37m-manylinux1_x86_64.whl (743 kB)\n",
            "\u001b[K     |████████████████████████████████| 743 kB 53.7 MB/s \n",
            "\u001b[?25hRequirement already satisfied: tqdm>=2.0 in /usr/local/lib/python3.7/dist-packages (from sklearn-crfsuite->bnlp_toolkit) (4.62.3)\n",
            "Requirement already satisfied: tabulate in /usr/local/lib/python3.7/dist-packages (from sklearn-crfsuite->bnlp_toolkit) (0.8.9)\n",
            "Installing collected packages: python-crfsuite, sklearn-crfsuite, sentencepiece, gensim, bnlp-toolkit\n",
            "  Attempting uninstall: gensim\n",
            "    Found existing installation: gensim 3.6.0\n",
            "    Uninstalling gensim-3.6.0:\n",
            "      Successfully uninstalled gensim-3.6.0\n",
            "Successfully installed bnlp-toolkit-3.1.2 gensim-4.0.1 python-crfsuite-0.9.7 sentencepiece-0.1.96 sklearn-crfsuite-0.3.6\n"
          ]
        },
        {
          "output_type": "display_data",
          "data": {
            "application/vnd.colab-display-data+json": {
              "pip_warning": {
                "packages": [
                  "gensim"
                ]
              }
            }
          },
          "metadata": {}
        },
        {
          "output_type": "stream",
          "name": "stdout",
          "text": [
            "punkt not found. downloading...\n",
            "[nltk_data] Downloading package punkt to /root/nltk_data...\n",
            "[nltk_data]   Unzipping tokenizers/punkt.zip.\n"
          ]
        }
      ]
    },
    {
      "cell_type": "code",
      "metadata": {
        "id": "AQOWXhBL9oVO"
      },
      "source": [
        "from bnlp.corpus import stopwords\n",
        "\n",
        "def create_corpus(df):\n",
        "    \"\"\"\n",
        "    This function will return the tokenizer of using bnltk tokenizer. \n",
        "    \n",
        "    Args:\n",
        "        df: dataset corpus\n",
        "        \n",
        "    Returns:\n",
        "        corpus: tokenized corpus \n",
        "        \n",
        "    \"\"\"\n",
        "\n",
        "    corpus=[]\n",
        "    for train in tqdm(df['new_clean_text']):\n",
        "        words=[word for word in bnltk.word_tokenize(train) if( (word not in stopwords))]    \n",
        "        corpus.append(words)\n",
        "    return corpus     "
      ],
      "execution_count": null,
      "outputs": []
    },
    {
      "cell_type": "code",
      "metadata": {
        "colab": {
          "base_uri": "https://localhost:8080/"
        },
        "id": "Bx3pT-PF-kzu",
        "outputId": "e6d02732-fa25-4440-aa3f-9e6a55cad03b"
      },
      "source": [
        "corpus=create_corpus(fulldata)"
      ],
      "execution_count": null,
      "outputs": [
        {
          "output_type": "stream",
          "name": "stderr",
          "text": [
            "100%|██████████| 197767/197767 [07:36<00:00, 432.85it/s]\n"
          ]
        }
      ]
    },
    {
      "cell_type": "code",
      "metadata": {
        "colab": {
          "base_uri": "https://localhost:8080/"
        },
        "id": "KvhdBO46AJ6I",
        "outputId": "5b330afc-7a4a-4924-ca4e-cb9664b4d222"
      },
      "source": [
        "# Check corpus\n",
        "\n",
        "for i,_ in enumerate(corpus):\n",
        "  print(_)\n",
        "  if i == 5:\n",
        "    break"
      ],
      "execution_count": null,
      "outputs": [
        {
          "output_type": "stream",
          "name": "stdout",
          "text": [
            "['অধ্যায়', 'প্রিয়', 'পরীক্ষার্থী', 'তথ্য', 'যোগাযোগ', 'প্রযুক্তি', 'বিষয়ের', 'সৃজনশীল', 'নমুনা', 'প্রশ্নোত্তর', 'করিম', 'সাহেব', 'একজন', 'ব্যবসায়ী', 'ছোট', 'ভাই', 'মাসুদকে', 'অফিসের', 'কম্পিউটারগুলো', 'পরস্পরের', 'সংযোগের', 'কেব্ল', 'অর্থসাশ্রয়ী', 'সহজে', 'স্থাপনযোগ্য', 'ছোট', 'ভাই', 'মাসুদের', 'অফিসে', 'দেখলেন', 'অফিসে', 'সেদিন', 'কম্পিউটার', 'অনুসন্ধানে', 'কম্পিউটারের', 'সংযোগ', 'কেব্ল', 'নষ্ট', 'পরের', 'ভাইয়ের', 'অফিসে', 'দেখলেন', 'অফিসের', 'কম্পিউটার', 'কেন্দ্রীয়', 'ডিভাইসের', 'সংযুক্ত', 'মডেম', 'ট্রান্সমিশন', 'মোডে', 'উভয়', 'ডেটা', 'আদান', 'প্রদান', 'ব্যাখ্যা', 'করো', 'করিম', 'সাহেবের', 'অফিসে', 'ব্যবহূত', 'কেব্লটি', 'ধরনের', 'ব্যাখ্যা', 'করো', 'নেটওয়ার্ক', 'সংযোগের', 'উদ্দীপকে', 'উল্লিখিত', 'ব্যবস্থাদ্বয়ের', 'কোনটি', 'উত্তম', 'বিশ্লেষণপূর্বক', 'মতামত', 'দাও', 'কমডেম', 'সংক্ষিপ্ত', 'রূপ', 'মডেম', 'ইলেকট্রনিক', 'ডিভাইস', 'অ্যানালগ', 'সংকেতকে', 'ডিজিটাল', 'ডিজিটাল', 'সংকেতকে', 'অ্যানালগ', 'সংকেতে', 'রূপান্তর', 'খফুল', 'ডুপ্লেক্স', 'মোডে', 'উভয়', 'ডেটা', 'আদান', 'প্রদান', 'ডেটা', 'ট্রান্সমিশন', 'মোডে', 'ডেটা', 'উত্স', 'গন্তব্যের', 'গন্তব্য', 'উেসর', 'প্রবাহিত', 'ফুল', 'ডুপ্লেক্স', 'মোড', 'অর্থাত্', 'পদ্ধতিতে', 'ডেটাপ্রবাহ', 'যুগোপযোগীভাবে', 'সম্পন্ন', 'মোবাইল', 'ফোন', 'টেলিফোন', 'গকরিম', 'সাহেবের', 'অফিসের', 'কেব্লটি', 'টুইস্টেড', 'পেয়ার', 'কেব্ল', 'পরিবাহী', 'তারকে', 'পরস্পর', 'পেঁচিয়ে', 'টুইস্টেড', 'পেয়ার', 'কেব্ল', 'তৈরি', 'প্যাঁচানো', 'দুটিকে', 'পৃথক', 'রাখার', 'মাঝে', 'অপরিবাহী', 'পদার্থ', 'অন্যান্য', 'কেবলের', 'তুলনায়', 'টুইস্টেড', 'পেয়ার', 'কেব্ল', 'অর্থসাশ্রয়ী', 'সহজে', 'স্থাপনযোগ্য', 'উদ্দীপকে', 'করিম', 'সাহেবের', 'অফিসের', 'কম্পিউটার', 'পরস্পরের', 'সংযোগের', 'কেব্ল', 'ব্যবহূত', 'অর্থসাশ্রয়ী', 'সহজে', 'স্থাপনযোগ্য', 'করিম', 'সাহেবের', 'অফিসের', 'কেব্লটি', 'টুইস্টেড', 'পেয়ার', 'কেব্ল', 'ঘনেটওয়ার্ক', 'সংযোগের', 'উদ্দীপকে', 'উল্লিখিত', 'ব্যবস্থা', 'রিং', 'টপোলজি', 'স্টার', 'টপোলজি', 'কম্পিউটার', 'নেটওয়ার্কে', 'কম্পিউটারের', 'অপর', 'কম্পিউটারের', 'সংযোগব্যবস্থাকেই', 'টপোলজি', 'সংগঠনে', 'কম্পিউটারগুলো', 'পরস্পর', 'যুক্ত', 'বৃত্তাকার', 'নেটওয়ার্ক', 'গড়ে', 'তোলে', 'রিং', 'টপোলজি', 'টপোলজিতে', 'কম্পিউটারের', 'সংযোগ', 'নষ্ট', 'কম্পিউটারেই', 'সংগঠনে', 'কেন্দ্রীয়', 'ডিভাইসের', 'অন্যান্য', 'কম্পিউটার', 'সংযুক্ত', 'স্টার', 'টপোলজি', 'উদ্দীপকে', 'মাসুদ', 'সাহেবের', 'অফিসে', 'সেদিন', 'কম্পিউটারই', 'করেনি', 'কম্পিউটারের', 'সংযোগ', 'নষ্ট', 'রিং', 'টপোলজি', 'অন্যদিকে', 'ভাই', 'করিম', 'সাহেবের', 'অফিসের', 'কম্পিউটার', 'কেন্দ্রীয়', 'ডিভাইসের', 'সংযুক্ত', 'স্টার', 'টপোলজি', 'উদ্দীপকের', 'রিং', 'স্টার', 'টপোলজির', 'স্টার', 'টপোলজি', 'উত্তম', 'রিং', 'টপোলজিতে', 'কম্পিউটার', 'কারণে', 'নষ্ট', 'অপসারণ', 'পুরো', 'নেটওয়ার্ক', 'অচল', 'পড়ে', 'স্টার', 'টপোলজিতে', 'কখনোই', 'মাস্টার', 'ট্রেইনারপ্রভাষক', 'রাউজান', 'কলেজ', 'চট্টগ্রাম']\n",
            "['স্পিন', 'স্পিন', 'স্পিন', 'লর্ডসে', 'ইয়াসির', 'শাহ্', 'লেগ', 'স্পিনে', 'জেরবার', 'দিনের', 'টেস্ট', 'হারের', 'ইংল্যান্ডের', 'ক্রিকেটাঙ্গনে', 'আলোচনা', 'স্পিন', 'নিয়েই', 'ইয়াসিরের', 'সাফল্যে', 'প্রভাবিত', 'ইংলিশরা', 'দ্বিতীয়', 'টেস্টের', 'দলে', 'নিয়েছে', 'লেগ', 'স্পিনার', 'আদিল', 'রশিদকে', 'ওল্ড', 'ট্রাফোর্ড', 'টেস্টের', 'পাকিস্তানের', 'সাবেক', 'স্পিনার', 'সাকলায়েন', 'মুশতাকেরও', 'শরণ', 'নিয়েছে', 'ইংল্যান্ড', 'পরামর্শক', 'কোচ', 'হিসেবে', 'খণ্ডকালীন', 'দায়িত্ব', 'পেয়েছেন', 'দুসরা', 'জনক', 'মঙ্গলবার', 'ইংলিশ', 'বোলারদের', 'সাকলায়েন', 'ছাত্র', 'মঈন', 'আলী', 'আদিল', 'রশিদকে', 'প্রশংসায়', 'ভাসিয়েছেন', 'টেস্ট', 'খেলা', 'সাকলায়েন', 'বিশ্বাস', 'এঁরাই', 'ইয়াসিরের', 'জবাব', 'বছর', 'ভারতের', 'বিপক্ষে', 'মঈনকে', 'দেখেছি', 'চমৎকার', 'করছিল', 'আমিরাতে', 'পাকিস্তানের', 'বিপক্ষে', 'আদিল', 'ভালো', 'উইকেট', 'নিয়েছিল', 'দুজনই', 'দক্ষ', 'তূণে', 'তিরেরও', 'অভাব', 'ইয়াসিরের', 'জবাব', 'চোট', 'কাটিয়ে', 'ইংল্যান্ড', 'দলে', 'ফেরা', 'অলরাউন্ডার', 'বেন', 'স্টোকস', 'সাকলায়েনের', 'ইংলিশ', 'ব্যাটসম্যানদেরও', 'শেখা', 'কপালের', 'জোরে', 'শিখে', 'নেওয়াটাই', 'বুদ্ধিমানের', 'ব্যাটসম্যানরা', 'টিপস', 'নিলে', 'বোকামি', 'স্টোকস', 'ঠিকই', 'বোলারদের', 'শিখলেই', 'ব্যাটসম্যানদেরও', 'সামলাতে', 'ইয়াসিরকে', 'এএফপি', 'ডেইলি', 'মেইল']\n",
            "['সিরিয়ার', 'পশ্চিমাঞ্চলে', 'গতকাল', 'রোববার', 'বিমান', 'হামলায়', 'কমপক্ষে', 'নিহত', 'দেড়', 'শতাধিক', 'মানুষ', 'আহত', 'রাশিয়ার', 'জঙ্গিবিমান', 'হামলা', 'চালিয়েছে', 'ধারণা', 'উদ্ধারকর্মী', 'স্থানীয়', 'লোকজন', 'স্থানীয়', 'লোকজন', 'জানান', 'পশ্চিমাঞ্চলে', 'বিদ্রোহীদের', 'নিয়ন্ত্রণে', 'ইদলিব', 'প্রদেশের', 'কেন্দ্রভাগের', 'বাজার', 'সরকারি', 'ভবন', 'আবাসিক', 'এলাকায়', 'গতকাল', 'ছয়', 'দফায়', 'বিমান', 'হামলা', 'চালানো', 'এরপর', 'মত্যু', 'আহত', 'দেড়', 'শতাধিক', 'মানুষ', 'গুরুতর', 'আহত', 'অনেককে', 'চিকিৎসার', 'তুরস্কের', 'হাসপাতালে', 'পাঠানো', 'ইয়াসির', 'হাম্মো', 'নামে', 'বেসামরিক', 'প্রতিরক্ষা', 'বিভাগের', 'কর্মী', 'এখনো', 'মৃতদেহ', 'ধ্বংসস্তূপের', 'নিচে', 'চাপা', 'পড়ে', 'রয়টার্স']\n",
            "['দক্ষিণ', 'আফ্রিকার', 'কেপটাউন', 'বিশ্ববিদ্যালয়ের', 'ইউসিটি', 'প্রাঙ্গণ', 'ঔপনিবেশিক', 'যুগের', 'খনি', 'ব্যবসায়ী', 'রাজনীতিক', 'সিসিল', 'রোডসের', 'মূর্তি', 'সরিয়ে', 'ফেলার', 'ভোট', 'সেখানকার', 'কাউন্সিল', 'শ্বেতাঙ্গদের', 'নিপীড়নের', 'প্রতীক', 'হিসেবে', 'পরিচিত', 'মূর্তিটির', 'বিরুদ্ধে', 'মাসব্যাপী', 'বিক্ষোভের', 'বিষয়টি', 'নিষ্পত্তির', 'বুধবার', 'ভোটের', 'আয়োজন', 'ব্রোঞ্জের', 'তৈরি', 'মূর্তিটি', 'অপসারণের', 'ইতিহাস', 'ঐতিহ্য', 'সংরক্ষণ', 'কর্তৃপক্ষের', 'ইউসিটির', 'বিবৃতি', 'মূর্তিটি', 'গতকাল', 'বৃহস্পতিবার', 'সরিয়ে', 'ফেলা', 'এএফপি']\n",
            "['সহজে', 'ডিজিটাল', 'আর্থিক', 'সেবা', 'অ্যাপ', 'ডিজিটাল', 'কেওয়াইসি', 'নিবন্ধন', 'প্রক্রিয়া', 'উদ্বোধন', 'ডিজিটাল', 'আর্থিক', 'সেবাদাতা', 'প্রতিষ্ঠান', 'নগদ', 'সহযোগিতা', 'বাংলাদেশ', 'ডাক', 'বিভাগ', 'গতকাল', 'রাজধানীর', 'ওয়েস্টিন', 'হোটেলে', 'অনুষ্ঠানে', 'নগদ', 'অ্যাপ', 'ডিজিটাল', 'কেওয়াইসি', 'উদ্বোধন', 'নগদ', 'কর্তৃপক্ষ', 'অনুষ্ঠানে', 'উপস্থিত', 'ডাক', 'টেলিযোগাযোগ', 'তথ্যপ্রযুক্তি', 'মন্ত্রী', 'মোস্তাফা', 'জব্বার', 'ডাক', 'টেলিযোগাযোগ', 'বিভাগের', 'ভারপ্রাপ্ত', 'সচিব', 'অশোক', 'কুমার', 'বিশ্বাস', 'বাংলাদেশ', 'ডাক', 'বিভাগের', 'মহাপরিচালক', 'সুশান্ত', 'কুমার', 'মণ্ডল', 'নগদের', 'ব্যবস্থাপনা', 'পরিচালক', 'তানভীর', 'মিশুক', 'সময়', 'বাংলাদেশ', 'ডাক', 'বিভাগ', 'নগদের', 'অন্যান্য', 'ঊর্ধ্বতন', 'কর্মকর্তাগণও', 'উপস্থিত', 'অনুষ্ঠানে', 'ডাক', 'টেলিযোগাযোগ', 'তথ্যপ্রযুক্তিমন্ত্রী', 'মোস্তাফা', 'জব্বার', 'দেশের', 'মানুষের', 'সুবিধার্থে', 'বাংলাদেশ', 'সরকার', 'স্বপ্রণোদিতভাবে', 'ধরনের', 'সেবা', 'আসছে', 'ধারাবাহিকতায়', 'এসেছে', 'বাংলাদেশ', 'ডাক', 'বিভাগের', 'সেবা', 'নগদ', 'মুক্তবাজার', 'অর্থনীতিতে', 'একচেটিয়া', 'ভেঙে', 'প্রতিযোগিতার', 'নগদ', 'সুশান্ত', 'কুমার', 'মণ্ডল', 'আর্থিক', 'লেনদেন', 'ব্যবস্থাপনার', 'একশ', 'বছরেরও', 'অভিজ্ঞতা', 'দেশজুড়ে', 'ডাক', 'বিভাগের', 'ডাকঘর', 'কর্মী', 'নেটওয়ার্কের', 'ডিজিটাল', 'আর্থিক', 'খাতে', 'দ্রুততা', 'কার্যকারিতার', 'যেকোনো', 'অনিয়ম', 'মোকাবিলায়', 'প্রস্তুত', 'ডিজিটাল', 'কেওয়াইসি', 'নিবন্ধন', 'প্রক্রিয়া', 'সম্পন্ন', 'ক্রেতাদের', 'জাতীয়', 'পরিচয়পত্র', 'নিবন্ধনকৃত', 'মোবাইল', 'ফোন', 'আসতে', 'গ্রাহকের', 'ছবি', 'পরিচয়পত্রের', 'তথ্য', 'কৃত্রিম', 'বুদ্ধিমত্তার', 'সহায়তায়', 'রিয়েল', 'টাইমে', 'নির্বাচন', 'কমিশনের', 'ডেটাবেইসের', 'মিলিয়ে', 'কেওয়াইসি', 'আবেদন', 'পত্রের', 'নির্দিষ্ট', 'স্বয়ংক্রিয়', 'স্ক্যানিং', 'প্রক্রিয়ায়', 'পরিচয়পত্রের', 'তথ্য', 'পূরণ', 'বর্তমানে', 'নগদ', 'অ্যাপটি', 'শুধুমাত্র', 'অ্যান্ড্রয়েড', 'প্ল্যাটফর্মে', 'মেগাবাইটের', 'সহজে', 'ব্যবহারযোগ্য', 'অ্যাপটির', 'বেটা', 'সংস্করণে', 'ব্যবহারকারী', 'হাজারেরও']\n",
            "['সাউথ', 'বাংলা', 'এগ্রিকালচার', 'অ্যান্ড', 'কমার্স', 'এসবিএসি', 'ব্যাংকের', 'তৃতীয়', 'বার্ষিক', 'সভা', 'এজিএম', 'রাজধানীর', 'হোটেলে', 'অনুষ্ঠিত', 'প্রধান', 'অতিথি', 'ব্যাংকের', 'পরিচালনা', 'পর্ষদের', 'চেয়ারম্যান', 'আমজাদ', 'হোসেন', 'সভায়', 'শেয়ারহোল্ডাররা', 'সমাপ্ত', 'বছরের', 'শতাংশ', 'স্টক', 'ডিভিডেন্ড', 'অনুমোদন', 'সময়', 'ব্যাংকের', 'পরিচালনা', 'পর্ষদের', 'সদস্যরা', 'উল্লেখযোগ্যসংখ্যক', 'শেয়ারহোল্ডার', 'উপস্থিত', 'অনুষ্ঠানে', 'স্বাগত', 'ব্যাংকের', 'ব্যবস্থাপনা', 'পরিচালক', 'সিইও', 'রফিকুল', 'ইসলাম', 'বিজ্ঞপ্তি']\n"
          ]
        }
      ]
    },
    {
      "cell_type": "code",
      "metadata": {
        "id": "z4VWHcArFjAn"
      },
      "source": [
        "embedding_dict={}\n",
        "with open('/content/bn_glove.39M.100d.txt','r') as f:\n",
        "    for line in f:\n",
        "        values=line.split()\n",
        "        word=values[0]\n",
        "        vectors=np.asarray(values[1:],'float32')\n",
        "        embedding_dict[word]=vectors\n",
        "f.close()"
      ],
      "execution_count": null,
      "outputs": []
    },
    {
      "cell_type": "code",
      "metadata": {
        "id": "5BAE7gIKGUTa"
      },
      "source": [
        "MAX_LEN=50\n",
        "tokenizer_obj=Tokenizer()\n",
        "tokenizer_obj.fit_on_texts(corpus)\n",
        "sequences=tokenizer_obj.texts_to_sequences(corpus)\n",
        "\n",
        "train_pad=pad_sequences(sequences,maxlen=MAX_LEN,truncating='post',padding='post')"
      ],
      "execution_count": null,
      "outputs": []
    },
    {
      "cell_type": "code",
      "metadata": {
        "id": "D_-JIvCVH9xi"
      },
      "source": [
        "trainer=train_pad[:train.shape[0]]\n",
        "\n",
        "test=train_pad[train.shape[0]:]\n",
        "\n",
        "labels_train = labels[:train.shape[0]]\n",
        "lables_test = labels[train.shape[0]:]"
      ],
      "execution_count": null,
      "outputs": []
    },
    {
      "cell_type": "code",
      "metadata": {
        "colab": {
          "base_uri": "https://localhost:8080/"
        },
        "id": "RGZ7ydKCHo_f",
        "outputId": "a8bb0fdc-1468-4829-e88f-bdc48f8abf4a"
      },
      "source": [
        "word_index=tokenizer_obj.word_index\n",
        "print('Number of unique words:',len(word_index))"
      ],
      "execution_count": null,
      "outputs": [
        {
          "output_type": "stream",
          "name": "stdout",
          "text": [
            "Number of unique words: 677924\n"
          ]
        }
      ]
    },
    {
      "cell_type": "code",
      "metadata": {
        "colab": {
          "base_uri": "https://localhost:8080/"
        },
        "id": "yxCB_nF5HiBh",
        "outputId": "19202433-3965-4d3d-e646-99a0ece81bf3"
      },
      "source": [
        "num_words=len(word_index)+1\n",
        "embedding_matrix=np.zeros((num_words,100))\n",
        "\n",
        "for word,i in tqdm(word_index.items()):\n",
        "    if i > num_words:\n",
        "        continue\n",
        "    \n",
        "    emb_vec=embedding_dict.get(word)\n",
        "    if emb_vec is not None:\n",
        "        embedding_matrix[i]=emb_vec"
      ],
      "execution_count": null,
      "outputs": [
        {
          "output_type": "stream",
          "name": "stderr",
          "text": [
            "100%|██████████| 677924/677924 [00:00<00:00, 793312.53it/s]\n"
          ]
        }
      ]
    },
    {
      "cell_type": "markdown",
      "metadata": {
        "id": "byf65GK6Hxyp"
      },
      "source": [
        "## Model Define"
      ]
    },
    {
      "cell_type": "code",
      "metadata": {
        "colab": {
          "base_uri": "https://localhost:8080/"
        },
        "id": "hooyiIuy1p8x",
        "outputId": "5f4bd7cc-4469-4b35-8f5f-e18695c7eaa0"
      },
      "source": [
        "## TPU Stretigy \n",
        "\n",
        "tpu = tf.distribute.cluster_resolver.TPUClusterResolver()\n",
        "tf.config.experimental_connect_to_cluster(tpu)\n",
        "tf.tpu.experimental.initialize_tpu_system(tpu)\n",
        "strategy = tf.distribute.experimental.TPUStrategy(tpu)\n"
      ],
      "execution_count": null,
      "outputs": [
        {
          "output_type": "stream",
          "name": "stdout",
          "text": [
            "INFO:tensorflow:Clearing out eager caches\n"
          ]
        },
        {
          "output_type": "stream",
          "name": "stderr",
          "text": [
            "INFO:tensorflow:Clearing out eager caches\n"
          ]
        },
        {
          "output_type": "stream",
          "name": "stdout",
          "text": [
            "INFO:tensorflow:Initializing the TPU system: grpc://10.76.221.2:8470\n"
          ]
        },
        {
          "output_type": "stream",
          "name": "stderr",
          "text": [
            "INFO:tensorflow:Initializing the TPU system: grpc://10.76.221.2:8470\n"
          ]
        },
        {
          "output_type": "stream",
          "name": "stdout",
          "text": [
            "INFO:tensorflow:Finished initializing TPU system.\n"
          ]
        },
        {
          "output_type": "stream",
          "name": "stderr",
          "text": [
            "INFO:tensorflow:Finished initializing TPU system.\n",
            "WARNING:absl:`tf.distribute.experimental.TPUStrategy` is deprecated, please use  the non experimental symbol `tf.distribute.TPUStrategy` instead.\n"
          ]
        },
        {
          "output_type": "stream",
          "name": "stdout",
          "text": [
            "INFO:tensorflow:Found TPU system:\n"
          ]
        },
        {
          "output_type": "stream",
          "name": "stderr",
          "text": [
            "INFO:tensorflow:Found TPU system:\n"
          ]
        },
        {
          "output_type": "stream",
          "name": "stdout",
          "text": [
            "INFO:tensorflow:*** Num TPU Cores: 8\n"
          ]
        },
        {
          "output_type": "stream",
          "name": "stderr",
          "text": [
            "INFO:tensorflow:*** Num TPU Cores: 8\n"
          ]
        },
        {
          "output_type": "stream",
          "name": "stdout",
          "text": [
            "INFO:tensorflow:*** Num TPU Workers: 1\n"
          ]
        },
        {
          "output_type": "stream",
          "name": "stderr",
          "text": [
            "INFO:tensorflow:*** Num TPU Workers: 1\n"
          ]
        },
        {
          "output_type": "stream",
          "name": "stdout",
          "text": [
            "INFO:tensorflow:*** Num TPU Cores Per Worker: 8\n"
          ]
        },
        {
          "output_type": "stream",
          "name": "stderr",
          "text": [
            "INFO:tensorflow:*** Num TPU Cores Per Worker: 8\n"
          ]
        },
        {
          "output_type": "stream",
          "name": "stdout",
          "text": [
            "INFO:tensorflow:*** Available Device: _DeviceAttributes(/job:localhost/replica:0/task:0/device:CPU:0, CPU, 0, 0)\n"
          ]
        },
        {
          "output_type": "stream",
          "name": "stderr",
          "text": [
            "INFO:tensorflow:*** Available Device: _DeviceAttributes(/job:localhost/replica:0/task:0/device:CPU:0, CPU, 0, 0)\n"
          ]
        },
        {
          "output_type": "stream",
          "name": "stdout",
          "text": [
            "INFO:tensorflow:*** Available Device: _DeviceAttributes(/job:worker/replica:0/task:0/device:CPU:0, CPU, 0, 0)\n"
          ]
        },
        {
          "output_type": "stream",
          "name": "stderr",
          "text": [
            "INFO:tensorflow:*** Available Device: _DeviceAttributes(/job:worker/replica:0/task:0/device:CPU:0, CPU, 0, 0)\n"
          ]
        },
        {
          "output_type": "stream",
          "name": "stdout",
          "text": [
            "INFO:tensorflow:*** Available Device: _DeviceAttributes(/job:worker/replica:0/task:0/device:TPU:0, TPU, 0, 0)\n"
          ]
        },
        {
          "output_type": "stream",
          "name": "stderr",
          "text": [
            "INFO:tensorflow:*** Available Device: _DeviceAttributes(/job:worker/replica:0/task:0/device:TPU:0, TPU, 0, 0)\n"
          ]
        },
        {
          "output_type": "stream",
          "name": "stdout",
          "text": [
            "INFO:tensorflow:*** Available Device: _DeviceAttributes(/job:worker/replica:0/task:0/device:TPU:1, TPU, 0, 0)\n"
          ]
        },
        {
          "output_type": "stream",
          "name": "stderr",
          "text": [
            "INFO:tensorflow:*** Available Device: _DeviceAttributes(/job:worker/replica:0/task:0/device:TPU:1, TPU, 0, 0)\n"
          ]
        },
        {
          "output_type": "stream",
          "name": "stdout",
          "text": [
            "INFO:tensorflow:*** Available Device: _DeviceAttributes(/job:worker/replica:0/task:0/device:TPU:2, TPU, 0, 0)\n"
          ]
        },
        {
          "output_type": "stream",
          "name": "stderr",
          "text": [
            "INFO:tensorflow:*** Available Device: _DeviceAttributes(/job:worker/replica:0/task:0/device:TPU:2, TPU, 0, 0)\n"
          ]
        },
        {
          "output_type": "stream",
          "name": "stdout",
          "text": [
            "INFO:tensorflow:*** Available Device: _DeviceAttributes(/job:worker/replica:0/task:0/device:TPU:3, TPU, 0, 0)\n"
          ]
        },
        {
          "output_type": "stream",
          "name": "stderr",
          "text": [
            "INFO:tensorflow:*** Available Device: _DeviceAttributes(/job:worker/replica:0/task:0/device:TPU:3, TPU, 0, 0)\n"
          ]
        },
        {
          "output_type": "stream",
          "name": "stdout",
          "text": [
            "INFO:tensorflow:*** Available Device: _DeviceAttributes(/job:worker/replica:0/task:0/device:TPU:4, TPU, 0, 0)\n"
          ]
        },
        {
          "output_type": "stream",
          "name": "stderr",
          "text": [
            "INFO:tensorflow:*** Available Device: _DeviceAttributes(/job:worker/replica:0/task:0/device:TPU:4, TPU, 0, 0)\n"
          ]
        },
        {
          "output_type": "stream",
          "name": "stdout",
          "text": [
            "INFO:tensorflow:*** Available Device: _DeviceAttributes(/job:worker/replica:0/task:0/device:TPU:5, TPU, 0, 0)\n"
          ]
        },
        {
          "output_type": "stream",
          "name": "stderr",
          "text": [
            "INFO:tensorflow:*** Available Device: _DeviceAttributes(/job:worker/replica:0/task:0/device:TPU:5, TPU, 0, 0)\n"
          ]
        },
        {
          "output_type": "stream",
          "name": "stdout",
          "text": [
            "INFO:tensorflow:*** Available Device: _DeviceAttributes(/job:worker/replica:0/task:0/device:TPU:6, TPU, 0, 0)\n"
          ]
        },
        {
          "output_type": "stream",
          "name": "stderr",
          "text": [
            "INFO:tensorflow:*** Available Device: _DeviceAttributes(/job:worker/replica:0/task:0/device:TPU:6, TPU, 0, 0)\n"
          ]
        },
        {
          "output_type": "stream",
          "name": "stdout",
          "text": [
            "INFO:tensorflow:*** Available Device: _DeviceAttributes(/job:worker/replica:0/task:0/device:TPU:7, TPU, 0, 0)\n"
          ]
        },
        {
          "output_type": "stream",
          "name": "stderr",
          "text": [
            "INFO:tensorflow:*** Available Device: _DeviceAttributes(/job:worker/replica:0/task:0/device:TPU:7, TPU, 0, 0)\n"
          ]
        },
        {
          "output_type": "stream",
          "name": "stdout",
          "text": [
            "INFO:tensorflow:*** Available Device: _DeviceAttributes(/job:worker/replica:0/task:0/device:TPU_SYSTEM:0, TPU_SYSTEM, 0, 0)\n"
          ]
        },
        {
          "output_type": "stream",
          "name": "stderr",
          "text": [
            "INFO:tensorflow:*** Available Device: _DeviceAttributes(/job:worker/replica:0/task:0/device:TPU_SYSTEM:0, TPU_SYSTEM, 0, 0)\n"
          ]
        },
        {
          "output_type": "stream",
          "name": "stdout",
          "text": [
            "INFO:tensorflow:*** Available Device: _DeviceAttributes(/job:worker/replica:0/task:0/device:XLA_CPU:0, XLA_CPU, 0, 0)\n"
          ]
        },
        {
          "output_type": "stream",
          "name": "stderr",
          "text": [
            "INFO:tensorflow:*** Available Device: _DeviceAttributes(/job:worker/replica:0/task:0/device:XLA_CPU:0, XLA_CPU, 0, 0)\n"
          ]
        }
      ]
    },
    {
      "cell_type": "code",
      "metadata": {
        "id": "e07xmzSzHwZi"
      },
      "source": [
        "K.clear_session()\n",
        "with strategy.scope():\n",
        "  \n",
        "  # model=Sequential()\n",
        "\n",
        "  # embedding=Embedding(num_words,100,embeddings_initializer=Constant(embedding_matrix),\n",
        "  #                   input_length=MAX_LEN,trainable=False)\n",
        "\n",
        "  # model.add(embedding)\n",
        "  # model.add(SpatialDropout1D(0.2))\n",
        "  # model.add(GRU(64, dropout=0.2, recurrent_dropout=0.2))\n",
        "  # model.add(Dense(7))\n",
        "   \n",
        "  model = tf.keras.models.Sequential([\n",
        "  tf.keras.layers.Embedding(num_words,100,embeddings_initializer=Constant(embedding_matrix),\n",
        "                    input_length=MAX_LEN,trainable=False),\n",
        "  tf.keras.layers.Conv1D(128, 5, activation= 'relu'),\n",
        "  tf.keras.layers.MaxPooling1D(5),\n",
        "  tf.keras.layers.Bidirectional(LSTM(64, return_sequences=True,dropout = 0.2)),\n",
        "  tf.keras.layers.Bidirectional(LSTM(64, return_sequences=True,dropout = 0.2)),\n",
        "  tf.keras.layers.Dense(28, activation='relu'),\n",
        "  tf.keras.layers.Dense(14, activation='relu'),\n",
        "  keras.layers.Flatten(),\n",
        "  tf.keras.layers.Dense(7 , activation='softmax')])\n",
        "\n",
        "\n",
        "\n",
        "\n",
        "\n",
        "  def recall_m(y_true, y_pred):\n",
        "    true_positives = K.sum(K.round(K.clip(y_true * y_pred, 0, 1)))\n",
        "    possible_positives = K.sum(K.round(K.clip(y_true, 0, 1)))\n",
        "    recall = true_positives / (possible_positives + K.epsilon())\n",
        "    return recall\n",
        "\n",
        "  def precision_m(y_true, y_pred):\n",
        "    true_positives = K.sum(K.round(K.clip(y_true * y_pred, 0, 1)))\n",
        "    predicted_positives = K.sum(K.round(K.clip(y_pred, 0, 1)))\n",
        "    precision = true_positives / (predicted_positives + K.epsilon())\n",
        "    return precision\n",
        "  \n",
        "  def f1_m(y_true, y_pred):\n",
        "    precision = precision_m(y_true, y_pred)\n",
        "    recall = recall_m(y_true, y_pred)\n",
        "    return 2*((precision*recall)/(precision+recall+K.epsilon()))\n",
        "  \n",
        "\n",
        "  optimzer=Adam(learning_rate=1e-5)\n",
        "\n",
        "  model.compile(loss='sparse_categorical_crossentropy',optimizer=optimzer,metrics=['accuracy',recall_m,precision_m,f1_m])"
      ],
      "execution_count": null,
      "outputs": []
    },
    {
      "cell_type": "code",
      "metadata": {
        "colab": {
          "base_uri": "https://localhost:8080/"
        },
        "id": "IqBszEb0H9E4",
        "outputId": "57915977-2a9b-454c-f2b8-76d9be45aebc"
      },
      "source": [
        "model.summary()"
      ],
      "execution_count": null,
      "outputs": [
        {
          "output_type": "stream",
          "name": "stdout",
          "text": [
            "Model: \"sequential\"\n",
            "_________________________________________________________________\n",
            "Layer (type)                 Output Shape              Param #   \n",
            "=================================================================\n",
            "embedding (Embedding)        (None, 50, 100)           67792500  \n",
            "_________________________________________________________________\n",
            "conv1d (Conv1D)              (None, 46, 128)           64128     \n",
            "_________________________________________________________________\n",
            "max_pooling1d (MaxPooling1D) (None, 9, 128)            0         \n",
            "_________________________________________________________________\n",
            "bidirectional (Bidirectional (None, 9, 128)            98816     \n",
            "_________________________________________________________________\n",
            "bidirectional_1 (Bidirection (None, 9, 128)            98816     \n",
            "_________________________________________________________________\n",
            "dense (Dense)                (None, 9, 28)             3612      \n",
            "_________________________________________________________________\n",
            "dense_1 (Dense)              (None, 9, 14)             406       \n",
            "_________________________________________________________________\n",
            "flatten (Flatten)            (None, 126)               0         \n",
            "_________________________________________________________________\n",
            "dense_2 (Dense)              (None, 7)                 889       \n",
            "=================================================================\n",
            "Total params: 68,059,167\n",
            "Trainable params: 266,667\n",
            "Non-trainable params: 67,792,500\n",
            "_________________________________________________________________\n"
          ]
        }
      ]
    },
    {
      "cell_type": "code",
      "metadata": {
        "colab": {
          "base_uri": "https://localhost:8080/"
        },
        "id": "R3GWpN9mW7re",
        "outputId": "a6cbf37d-ca08-4f78-9cd5-1a971584e9a9"
      },
      "source": [
        "X_train,X_test,y_train,y_test=train_test_split(trainer,labels_train,test_size=0.15)\n",
        "print('Shape of train',X_train.shape)\n",
        "print(\"Shape of Validation \",X_test.shape)"
      ],
      "execution_count": null,
      "outputs": [
        {
          "output_type": "stream",
          "name": "stdout",
          "text": [
            "Shape of train (84050, 50)\n",
            "Shape of Validation  (14833, 50)\n"
          ]
        }
      ]
    },
    {
      "cell_type": "markdown",
      "metadata": {
        "id": "fDejiNk2Ku6_"
      },
      "source": [
        "## Model Load & Predict"
      ]
    },
    {
      "cell_type": "code",
      "metadata": {
        "id": "Dg2ecpJVD0bV"
      },
      "source": [
        "model.load_weights(\"/content/drive/MyDrive/Callbacks Glove Ifti Training Big LSTM CNN/model.h5\")"
      ],
      "execution_count": null,
      "outputs": []
    },
    {
      "cell_type": "code",
      "metadata": {
        "id": "1VSBKKmWNwTS"
      },
      "source": [
        "test_pred = model.predict(test)"
      ],
      "execution_count": null,
      "outputs": []
    },
    {
      "cell_type": "code",
      "metadata": {
        "id": "cN4xlVwPOdJI"
      },
      "source": [
        "test1=pd.read_csv('/content/test.csv')"
      ],
      "execution_count": null,
      "outputs": []
    },
    {
      "cell_type": "markdown",
      "metadata": {
        "id": "1qK1AYttAr3z"
      },
      "source": [
        "## Model Evaluation"
      ]
    },
    {
      "cell_type": "code",
      "metadata": {
        "colab": {
          "base_uri": "https://localhost:8080/",
          "height": 540
        },
        "id": "5mE7Fk_C-MoP",
        "outputId": "977081b9-e961-449c-852f-e9b885026de4"
      },
      "source": [
        "test_pred\n",
        "labels_test = label_encoding(test1,True)\n",
        "y_test =  labels_test\n",
        "y_pred = np.argmax(test_pred, axis=1)\n",
        "\n",
        "y_pred\n",
        "from sklearn.metrics import classification_report, confusion_matrix\n",
        "from sklearn.metrics import accuracy_score\n",
        "cm = confusion_matrix(y_test, y_pred) \n",
        "\n",
        "class_names = ['economy','education','entertainment','international','sports','state','technology']\n",
        "# Transform to df for easier plotting\n",
        "cm_df = pd.DataFrame(cm,\n",
        "                     index = class_names, \n",
        "                     columns = class_names)\n",
        "\n",
        "plt.figure(figsize=(8,6))\n",
        "sns.heatmap(cm_df, annot=True,cmap=\"Greens\", fmt='g')\n",
        "plt.title('Glove - LSTM \\nAccuracy: {0:.2f}'.format(accuracy_score(y_test, y_pred)*100))\n",
        "plt.ylabel('True label')\n",
        "plt.xlabel('Predicted label')\n",
        "plt.xticks(rotation = 45)\n",
        "plt.yticks(rotation = 45)\n",
        "plt.show()"
      ],
      "execution_count": null,
      "outputs": [
        {
          "output_type": "stream",
          "name": "stdout",
          "text": [
            "\u001b[1m\n",
            "\t\t\t===== Label Encoding =====\u001b[0m \n",
            "Class Names:--> ['economy' 'education' 'entertainment' 'international' 'sports' 'state'\n",
            " 'technology']\n"
          ]
        },
        {
          "output_type": "display_data",
          "data": {
            "image/png": "[encoded data removed]",
            "text/plain": [
              "<Figure size 576x432 with 2 Axes>"
            ]
          },
          "metadata": {}
        }
      ]
    },
    {
      "cell_type": "code",
      "metadata": {
        "colab": {
          "base_uri": "https://localhost:8080/",
          "height": 359
        },
        "id": "QBo3B7Krv865",
        "outputId": "6ca45115-383d-4823-cd52-ce203443207c"
      },
      "source": [
        "class_names = ['economy','education','entertainment','international','sports','state','technology']\n",
        "report = pd.DataFrame(classification_report(y_true = y_test, y_pred = y_pred, output_dict=True)).transpose()\n",
        "report = report.rename(index={'0': 'economy','1':'education','2':'entertainment','3':'international','4':'sports','5':'state',                             '6': 'technology','7':'International'})\n",
        "report[['precision','recall','f1-score']]=report[['precision','recall','f1-score']].apply(lambda x: round(x*100,2))\n",
        "report"
      ],
      "execution_count": null,
      "outputs": [
        {
          "output_type": "execute_result",
          "data": {
            "text/html": [
              "<div>\n",
              "<style scoped>\n",
              "    .dataframe tbody tr th:only-of-type {\n",
              "        vertical-align: middle;\n",
              "    }\n",
              "\n",
              "    .dataframe tbody tr th {\n",
              "        vertical-align: top;\n",
              "    }\n",
              "\n",
              "    .dataframe thead th {\n",
              "        text-align: right;\n",
              "    }\n",
              "</style>\n",
              "<table border=\"1\" class=\"dataframe\">\n",
              "  <thead>\n",
              "    <tr style=\"text-align: right;\">\n",
              "      <th></th>\n",
              "      <th>precision</th>\n",
              "      <th>recall</th>\n",
              "      <th>f1-score</th>\n",
              "      <th>support</th>\n",
              "    </tr>\n",
              "  </thead>\n",
              "  <tbody>\n",
              "    <tr>\n",
              "      <th>economy</th>\n",
              "      <td>14.25</td>\n",
              "      <td>14.21</td>\n",
              "      <td>14.23</td>\n",
              "      <td>14488.00000</td>\n",
              "    </tr>\n",
              "    <tr>\n",
              "      <th>education</th>\n",
              "      <td>13.09</td>\n",
              "      <td>13.23</td>\n",
              "      <td>13.16</td>\n",
              "      <td>12818.00000</td>\n",
              "    </tr>\n",
              "    <tr>\n",
              "      <th>entertainment</th>\n",
              "      <td>15.73</td>\n",
              "      <td>16.04</td>\n",
              "      <td>15.88</td>\n",
              "      <td>15261.00000</td>\n",
              "    </tr>\n",
              "    <tr>\n",
              "      <th>international</th>\n",
              "      <td>15.30</td>\n",
              "      <td>15.85</td>\n",
              "      <td>15.57</td>\n",
              "      <td>15314.00000</td>\n",
              "    </tr>\n",
              "    <tr>\n",
              "      <th>sports</th>\n",
              "      <td>16.13</td>\n",
              "      <td>16.07</td>\n",
              "      <td>16.10</td>\n",
              "      <td>15883.00000</td>\n",
              "    </tr>\n",
              "    <tr>\n",
              "      <th>state</th>\n",
              "      <td>15.74</td>\n",
              "      <td>14.23</td>\n",
              "      <td>14.94</td>\n",
              "      <td>15183.00000</td>\n",
              "    </tr>\n",
              "    <tr>\n",
              "      <th>technology</th>\n",
              "      <td>10.48</td>\n",
              "      <td>11.08</td>\n",
              "      <td>10.77</td>\n",
              "      <td>9937.00000</td>\n",
              "    </tr>\n",
              "    <tr>\n",
              "      <th>accuracy</th>\n",
              "      <td>14.61</td>\n",
              "      <td>14.61</td>\n",
              "      <td>14.61</td>\n",
              "      <td>0.14607</td>\n",
              "    </tr>\n",
              "    <tr>\n",
              "      <th>macro avg</th>\n",
              "      <td>14.39</td>\n",
              "      <td>14.39</td>\n",
              "      <td>14.38</td>\n",
              "      <td>98884.00000</td>\n",
              "    </tr>\n",
              "    <tr>\n",
              "      <th>weighted avg</th>\n",
              "      <td>14.64</td>\n",
              "      <td>14.61</td>\n",
              "      <td>14.62</td>\n",
              "      <td>98884.00000</td>\n",
              "    </tr>\n",
              "  </tbody>\n",
              "</table>\n",
              "</div>"
            ],
            "text/plain": [
              "               precision  recall  f1-score      support\n",
              "economy            14.25   14.21     14.23  14488.00000\n",
              "education          13.09   13.23     13.16  12818.00000\n",
              "entertainment      15.73   16.04     15.88  15261.00000\n",
              "international      15.30   15.85     15.57  15314.00000\n",
              "sports             16.13   16.07     16.10  15883.00000\n",
              "state              15.74   14.23     14.94  15183.00000\n",
              "technology         10.48   11.08     10.77   9937.00000\n",
              "accuracy           14.61   14.61     14.61      0.14607\n",
              "macro avg          14.39   14.39     14.38  98884.00000\n",
              "weighted avg       14.64   14.61     14.62  98884.00000"
            ]
          },
          "metadata": {},
          "execution_count": 38
        }
      ]
    },
    {
      "cell_type": "code",
      "metadata": {
        "id": "YxjTostriTIv"
      },
      "source": [
        "sub=pd.DataFrame({'True':y_test,'Pred_Bert':y_pred})\n",
        "sub.to_csv('Evaluation_Glove_LSTM.csv',index=False)"
      ],
      "execution_count": null,
      "outputs": []
    },
    {
      "cell_type": "code",
      "metadata": {
        "id": "46ZO0358yrSp"
      },
      "source": [
        "gc.collect()"
      ],
      "execution_count": null,
      "outputs": []
    }
  ]
}